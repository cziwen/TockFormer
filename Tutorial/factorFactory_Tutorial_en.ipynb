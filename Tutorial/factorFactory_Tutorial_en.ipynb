{
 "cells": [
  {
   "cell_type": "markdown",
   "id": "406ff751",
   "metadata": {},
   "source": [
    "# FactorFactory Quick Start Guide\n",
    "\n",
    "This notebook demonstrates how to use the `factorFactory` module from TockFormer. We will walk through the functionality of dependent modules, the class definition and interfaces of `factorFactory`, and provide examples of how to register new factors, generate feature factors, and invoke these factors.\n",
    "\n",
    "---"
   ]
  },
  {
   "cell_type": "markdown",
   "id": "a53fb1cc",
   "metadata": {},
   "source": [
    "\n",
    "## 1. Module Import and Data Construction\n",
    "\n",
    "Before using the `FactorFactory` module, we need to import the relevant modules and prepare a sample dataset.\n",
    "The code below creates an artificial stock data `DataFrame` containing `open` and `close` columns, with `timestamp` as the trading date index.\n",
    "\n",
    "We simulate 200 trading days of opening and closing prices:\n",
    "First, a random walk price series is generated, then the opening and closing prices for each day are calculated.\n",
    "This gives us a simple `DataFrame` that can be used with `FactorFactory`.\n",
    "\n",
    "After constructing the data, we view the first few rows to confirm that the format is correct."
   ]
  },
  {
   "cell_type": "code",
   "id": "9f79332a",
   "metadata": {
    "ExecuteTime": {
     "end_time": "2025-05-23T05:07:58.693192Z",
     "start_time": "2025-05-23T05:07:58.471200Z"
    }
   },
   "source": [
    "import pandas as pd\n",
    "import numpy as np\n",
    "\n",
    "# generate data\n",
    "dates = pd.date_range(\"2020-01-01\", periods=200, freq='B')  # 200 trading days\n",
    "np.random.seed(42)\n",
    "# Simulate daily price changes (random walk + cyclical fluctuation)\n",
    "drift = 0.01 * np.sin(2 * np.pi * np.arange(200) / 40)      # Cyclical drift\n",
    "noise = np.random.normal(0, 0.02, size=200)                 # Random noise\n",
    "daily_return = drift + noise\n",
    "price = [100]  # Initial price\n",
    "for r in daily_return[:-1]:  # Update price based on the previous day's return\n",
    "    price.append(price[-1] * (1 + r))\n",
    "price = np.array(price)\n",
    "# Calculate opening price (open) and closing price (close)\n",
    "open_price = price.copy()\n",
    "close_price = price * (1 + daily_return)  # Close price = Open price * (1 + daily return)\n",
    "df = pd.DataFrame({\n",
    "    'timestamp': dates,\n",
    "    'open': open_price,\n",
    "    'close': close_price\n",
    "})\n",
    "\n",
    "print(df.head(3))  # View the first 3 rows of data"
   ],
   "outputs": [
    {
     "name": "stdout",
     "output_type": "stream",
     "text": [
      "   timestamp        open       close\n",
      "0 2020-01-01  100.000000  100.993428\n",
      "1 2020-01-02  100.993428  100.872141\n",
      "2 2020-01-03  100.872141  102.490528\n"
     ]
    }
   ],
   "execution_count": 1
  },
  {
   "metadata": {},
   "cell_type": "markdown",
   "source": [
    "As we can see, each row in the dataset corresponds to a trading day and includes the date, opening price, and closing price.\n",
    "Next, we will use this data to initialize the FactorFactory and generate trading factors.\n",
    "\n",
    "\n",
    "---\n"
   ],
   "id": "9f3c0be28d8c7895"
  },
  {
   "cell_type": "markdown",
   "id": "eb7d3e11",
   "metadata": {},
   "source": [
    "## 2. Initializing FactorFactory\n",
    "\n",
    "Now, we will initialize the `FactorFactory` using the generated data.\n",
    "During initialization, we need to provide the data `DataFrame` along with several key parameters:\n",
    "\n",
    "- `target_col`: Specifies the target column (default is `'close'`)\n",
    "- `forward_period`: Sets the number of look-ahead days (used to compute future returns and classification labels)\n",
    "- `window`: Window size used to calculate rolling evaluation metrics\n",
    "- `scaler`: Defines the normalization method for evaluation metrics (e.g., `'minmax'`)\n",
    "- `top_k`: Number of top-scoring factors to retain\n",
    "\n",
    "The following code creates a `FactorFactory` instance.\n",
    "We especially highlight the `forward_period` parameter. For example, setting it to `5` means we are forecasting the return over the next 5 days—i.e., comparing today’s closing price with the closing price 5 days later to determine the up/down label.\n",
    "\n",
    "Subsequent evaluations of factors (e.g., IC, IR) will also be based on the return over this `forward_period=5`.\n",
    "We also set `top_k=10` so that only the top 10 highest-scoring factors are retained after each evaluation round, which simplifies the demonstration.\n"
   ]
  },
  {
   "metadata": {
    "ExecuteTime": {
     "end_time": "2025-05-23T05:07:59.728577Z",
     "start_time": "2025-05-23T05:07:58.698441Z"
    }
   },
   "cell_type": "code",
   "source": [
    "from Utility.factorFactory import FactorFactory\n",
    "\n",
    "# Initialize FactorFactory with forward_period=5 days, retaining only the top 10 factors\n",
    "factory = FactorFactory(df, forward_period=5, window=20, scaler='minmax', top_k=10)\n",
    "print(\"FactorFactory initialization completed. Base columns:\", factory.base_cols)\n",
    "print(\"forward_period parameter:\", factory._eval_kwargs['forward_period'], \"days\")"
   ],
   "id": "b155f92e78abf9e4",
   "outputs": [
    {
     "name": "stdout",
     "output_type": "stream",
     "text": [
      "FactorFactory initialization completed. Base columns: ['open', 'close']\n",
      "forward_period parameter: 5 days\n"
     ]
    }
   ],
   "execution_count": 2
  },
  {
   "metadata": {},
   "cell_type": "markdown",
   "source": [
    "This confirms that the FactorFactory is now ready. It will use the `open` and `close` columns as the raw features and evaluate the factors based on the price movement over the next 5 days.\n",
    "Specifically, if the return 5 days later is positive, it will be classified as an upward movement; if the return is negative, it will be classified as a downward movement.\n",
    "\n",
    "---"
   ],
   "id": "3d55b5ac64b6b616"
  },
  {
   "cell_type": "markdown",
   "id": "87ed1ecb",
   "metadata": {},
   "source": [
    "## 3. Generating First-Order Factors (The `generate_factors` Method)\n",
    "\n",
    "Next, we call the `generate_factors` method of `FactorFactory` to compute first-order factors.\n",
    "First-order factors refer to technical indicators or features that are directly calculated from the base columns, such as RSI, moving averages, etc.\n",
    "In implementation, `generate_factors` applies a set of pre-registered factor functions to each base column and then automatically combines different factors (cross operations) to produce higher-order features.\n",
    "\n",
    "By default, `generate_factors` includes the following steps:\n",
    "\n",
    "- **(1) Compute first-order factors**: Apply registered factor functions (such as RSI, SMA, EMA, MACD) to each original data column to obtain various technical indicator factors.\n",
    "\n",
    "- **(2) Generate cross features**: Perform predefined arithmetic combinations (e.g., addition, multiplication, subtraction, division, sin/cos, etc.) on first-order factors, and apply factor functions again to create second-order and higher-order features.\n",
    "\n",
    "- **(3) Merge and clean**: Combine all generated factors into a feature matrix and remove columns with constant or missing values.\n",
    "\n",
    "- **(4) Factor evaluation**: Evaluate the retained factors by computing metrics such as Spearman rank correlation (IC), rolling IC information ratio (IR), and principal component coefficients.\n",
    "  The results are stored in a summary. Based on our setting `top_k=10`, only the top 10 highest-scoring factors will be kept, and the rest will be discarded.\n",
    "  During evaluation, a positive return over the next 5 days is treated as a positive class, while a negative return is treated as a negative class—effectively framing it as a binary classification of 5-day price movements.\n",
    "\n",
    "The following code calls `generate_factors` and displays the generated factor features and evaluation summary:"
   ]
  },
  {
   "metadata": {
    "ExecuteTime": {
     "end_time": "2025-05-23T05:08:01.108128Z",
     "start_time": "2025-05-23T05:07:59.797243Z"
    }
   },
   "cell_type": "code",
   "source": [
    "# Generate first-order and higher-order factor features\n",
    "df_factors = factory.generate_factors()\n",
    "print(f\"Number of generated factors (excluding the 'timestamp' column): {df_factors.shape[1] - 1}\")"
   ],
   "id": "74ad5ff1329f0ec3",
   "outputs": [
    {
     "name": "stderr",
     "output_type": "stream",
     "text": [
      "🔄 cross_op (single): 100%|██████████| 2700/2700 [00:00<00:00, 50491.88it/s]\n"
     ]
    },
    {
     "name": "stdout",
     "output_type": "stream",
     "text": [
      "Number of generated factors (excluding the 'timestamp' column): 10\n"
     ]
    }
   ],
   "execution_count": 3
  },
  {
   "metadata": {
    "ExecuteTime": {
     "end_time": "2025-05-23T05:08:01.122738Z",
     "start_time": "2025-05-23T05:08:01.116672Z"
    }
   },
   "cell_type": "code",
   "source": [
    "print(\"Last 5 rows of the feature matrix (showing only the first 5 columns as an example):\\n\")\n",
    "df_factors.tail(5).iloc[:, :5]"
   ],
   "id": "764aa3ea10d65cf0",
   "outputs": [
    {
     "name": "stdout",
     "output_type": "stream",
     "text": [
      "Last 5 rows of the feature matrix (showing only the first 5 columns as an example):\n",
      "\n"
     ]
    },
    {
     "data": {
      "text/plain": [
       "     timestamp  macd_12_26_(rsi_6_(open))  macd_12_26_(rsi_10_(open))  \\\n",
       "129 2020-09-30                    -6.0359                     -5.1332   \n",
       "130 2020-10-01                    -5.3109                     -4.6732   \n",
       "131 2020-10-02                    -4.7710                     -4.3661   \n",
       "132 2020-10-05                    -4.1146                     -3.9124   \n",
       "133 2020-10-06                    -3.4174                     -3.3879   \n",
       "\n",
       "     macd_5_20_(open)_minus_sma_20_(open)  \\\n",
       "129                              -97.8080   \n",
       "130                              -97.0771   \n",
       "131                              -96.5214   \n",
       "132                              -95.5838   \n",
       "133                              -94.5712   \n",
       "\n",
       "     macd_5_20_(open)_minus_sma_20_(close)  \n",
       "129                               -97.4944  \n",
       "130                               -96.6339  \n",
       "131                               -95.9159  \n",
       "132                               -94.9808  \n",
       "133                               -93.5978  "
      ],
      "text/html": [
       "<div>\n",
       "<style scoped>\n",
       "    .dataframe tbody tr th:only-of-type {\n",
       "        vertical-align: middle;\n",
       "    }\n",
       "\n",
       "    .dataframe tbody tr th {\n",
       "        vertical-align: top;\n",
       "    }\n",
       "\n",
       "    .dataframe thead th {\n",
       "        text-align: right;\n",
       "    }\n",
       "</style>\n",
       "<table border=\"1\" class=\"dataframe\">\n",
       "  <thead>\n",
       "    <tr style=\"text-align: right;\">\n",
       "      <th></th>\n",
       "      <th>timestamp</th>\n",
       "      <th>macd_12_26_(rsi_6_(open))</th>\n",
       "      <th>macd_12_26_(rsi_10_(open))</th>\n",
       "      <th>macd_5_20_(open)_minus_sma_20_(open)</th>\n",
       "      <th>macd_5_20_(open)_minus_sma_20_(close)</th>\n",
       "    </tr>\n",
       "  </thead>\n",
       "  <tbody>\n",
       "    <tr>\n",
       "      <th>129</th>\n",
       "      <td>2020-09-30</td>\n",
       "      <td>-6.0359</td>\n",
       "      <td>-5.1332</td>\n",
       "      <td>-97.8080</td>\n",
       "      <td>-97.4944</td>\n",
       "    </tr>\n",
       "    <tr>\n",
       "      <th>130</th>\n",
       "      <td>2020-10-01</td>\n",
       "      <td>-5.3109</td>\n",
       "      <td>-4.6732</td>\n",
       "      <td>-97.0771</td>\n",
       "      <td>-96.6339</td>\n",
       "    </tr>\n",
       "    <tr>\n",
       "      <th>131</th>\n",
       "      <td>2020-10-02</td>\n",
       "      <td>-4.7710</td>\n",
       "      <td>-4.3661</td>\n",
       "      <td>-96.5214</td>\n",
       "      <td>-95.9159</td>\n",
       "    </tr>\n",
       "    <tr>\n",
       "      <th>132</th>\n",
       "      <td>2020-10-05</td>\n",
       "      <td>-4.1146</td>\n",
       "      <td>-3.9124</td>\n",
       "      <td>-95.5838</td>\n",
       "      <td>-94.9808</td>\n",
       "    </tr>\n",
       "    <tr>\n",
       "      <th>133</th>\n",
       "      <td>2020-10-06</td>\n",
       "      <td>-3.4174</td>\n",
       "      <td>-3.3879</td>\n",
       "      <td>-94.5712</td>\n",
       "      <td>-93.5978</td>\n",
       "    </tr>\n",
       "  </tbody>\n",
       "</table>\n",
       "</div>"
      ]
     },
     "execution_count": 4,
     "metadata": {},
     "output_type": "execute_result"
    }
   ],
   "execution_count": 4
  },
  {
   "metadata": {
    "ExecuteTime": {
     "end_time": "2025-05-23T05:08:01.148893Z",
     "start_time": "2025-05-23T05:08:01.144598Z"
    }
   },
   "cell_type": "code",
   "source": [
    "# Output the top 5 factor evaluation summary\n",
    "print(\"\\nFactor evaluation summary (Top 5 factors):\\n\")\n",
    "factory.get_summary().head(5)"
   ],
   "id": "aa1fcfcecb0925ef",
   "outputs": [
    {
     "name": "stdout",
     "output_type": "stream",
     "text": [
      "\n",
      "Factor evaluation summary (Top 5 factors):\n",
      "\n"
     ]
    },
    {
     "data": {
      "text/plain": [
       "                                       spearman_ic  pearson_ir  pca_coeff  \\\n",
       "macd_12_26_(rsi_6_(open))                   0.5743      0.9872     0.0188   \n",
       "macd_12_26_(rsi_10_(open))                  0.4940      0.6930     0.0213   \n",
       "macd_5_20_(open)_minus_sma_20_(open)        0.6666      1.2211     0.0160   \n",
       "macd_5_20_(open)_minus_sma_20_(close)       0.6921      1.4186     0.0144   \n",
       "bbpband_20_1.5_(macd_12_26_(open))          0.5583      0.9558     0.0187   \n",
       "\n",
       "                                       spearman_ic_norm  pearson_ir_norm  \\\n",
       "macd_12_26_(rsi_6_(open))                        0.9007           0.7041   \n",
       "macd_12_26_(rsi_10_(open))                       0.8448           0.6479   \n",
       "macd_5_20_(open)_minus_sma_20_(open)             0.9648           0.7487   \n",
       "macd_5_20_(open)_minus_sma_20_(close)            0.9825           0.7864   \n",
       "bbpband_20_1.5_(macd_12_26_(open))               0.8895           0.6981   \n",
       "\n",
       "                                       pca_coeff_norm  combined_score  \n",
       "macd_12_26_(rsi_6_(open))                      0.7753          2.3801  \n",
       "macd_12_26_(rsi_10_(open))                     0.8802          2.3730  \n",
       "macd_5_20_(open)_minus_sma_20_(open)           0.6581          2.3716  \n",
       "macd_5_20_(open)_minus_sma_20_(close)          0.5949          2.3638  \n",
       "bbpband_20_1.5_(macd_12_26_(open))             0.7721          2.3597  "
      ],
      "text/html": [
       "<div>\n",
       "<style scoped>\n",
       "    .dataframe tbody tr th:only-of-type {\n",
       "        vertical-align: middle;\n",
       "    }\n",
       "\n",
       "    .dataframe tbody tr th {\n",
       "        vertical-align: top;\n",
       "    }\n",
       "\n",
       "    .dataframe thead th {\n",
       "        text-align: right;\n",
       "    }\n",
       "</style>\n",
       "<table border=\"1\" class=\"dataframe\">\n",
       "  <thead>\n",
       "    <tr style=\"text-align: right;\">\n",
       "      <th></th>\n",
       "      <th>spearman_ic</th>\n",
       "      <th>pearson_ir</th>\n",
       "      <th>pca_coeff</th>\n",
       "      <th>spearman_ic_norm</th>\n",
       "      <th>pearson_ir_norm</th>\n",
       "      <th>pca_coeff_norm</th>\n",
       "      <th>combined_score</th>\n",
       "    </tr>\n",
       "  </thead>\n",
       "  <tbody>\n",
       "    <tr>\n",
       "      <th>macd_12_26_(rsi_6_(open))</th>\n",
       "      <td>0.5743</td>\n",
       "      <td>0.9872</td>\n",
       "      <td>0.0188</td>\n",
       "      <td>0.9007</td>\n",
       "      <td>0.7041</td>\n",
       "      <td>0.7753</td>\n",
       "      <td>2.3801</td>\n",
       "    </tr>\n",
       "    <tr>\n",
       "      <th>macd_12_26_(rsi_10_(open))</th>\n",
       "      <td>0.4940</td>\n",
       "      <td>0.6930</td>\n",
       "      <td>0.0213</td>\n",
       "      <td>0.8448</td>\n",
       "      <td>0.6479</td>\n",
       "      <td>0.8802</td>\n",
       "      <td>2.3730</td>\n",
       "    </tr>\n",
       "    <tr>\n",
       "      <th>macd_5_20_(open)_minus_sma_20_(open)</th>\n",
       "      <td>0.6666</td>\n",
       "      <td>1.2211</td>\n",
       "      <td>0.0160</td>\n",
       "      <td>0.9648</td>\n",
       "      <td>0.7487</td>\n",
       "      <td>0.6581</td>\n",
       "      <td>2.3716</td>\n",
       "    </tr>\n",
       "    <tr>\n",
       "      <th>macd_5_20_(open)_minus_sma_20_(close)</th>\n",
       "      <td>0.6921</td>\n",
       "      <td>1.4186</td>\n",
       "      <td>0.0144</td>\n",
       "      <td>0.9825</td>\n",
       "      <td>0.7864</td>\n",
       "      <td>0.5949</td>\n",
       "      <td>2.3638</td>\n",
       "    </tr>\n",
       "    <tr>\n",
       "      <th>bbpband_20_1.5_(macd_12_26_(open))</th>\n",
       "      <td>0.5583</td>\n",
       "      <td>0.9558</td>\n",
       "      <td>0.0187</td>\n",
       "      <td>0.8895</td>\n",
       "      <td>0.6981</td>\n",
       "      <td>0.7721</td>\n",
       "      <td>2.3597</td>\n",
       "    </tr>\n",
       "  </tbody>\n",
       "</table>\n",
       "</div>"
      ]
     },
     "execution_count": 5,
     "metadata": {},
     "output_type": "execute_result"
    }
   ],
   "execution_count": 5
  },
  {
   "metadata": {},
   "cell_type": "markdown",
   "source": [
    "The output above shows that **the FactorFactory generated a large number of factors**, and after applying the `top_k=10` strategy, it retained the 10 best-performing factors (excluding the timestamp).\n",
    "\n",
    "The example displays some of the factor values over time, such as `rsi_6_close`, `rsi_6_open`, and other RSI-related features.\n",
    "On the right side, the evaluation summary lists each factor's Spearman rank correlation (IC), rolling information ratio (IR), the first principal component loading (`pca_coeff`), and their normalized scores.\n",
    "The final column, `combined_score`, is a composite score, and the factors are sorted in descending order by this value.\n",
    "\n",
    "From the results, we can see that short-term RSI and `macd_diff` cross factors achieved the highest scores in predicting 5-day future price movements.\n",
    "Both their IC and IR values are relatively high, indicating strong factor performance.\n",
    "\n",
    "---\n"
   ],
   "id": "796c6ab3b33719ba"
  },
  {
   "cell_type": "markdown",
   "id": "cce595f6",
   "metadata": {},
   "source": [
    "## 4. Feature Combination and Iterative Generation (`next` Method)\n",
    "\n",
    "The `FactorFactory` provides a `next` method for iteratively generating more higher-order composite features.\n",
    "In each iteration, it selects the top-ranked and least correlated $k$ factors from the current factor set, performs combination operations to generate new features, and merges them with the existing features. The updated factor set is then re-evaluated.\n",
    "\n",
    "You can control the number of iterations using the `steps` parameter, and the number of factors to select for combination in each step using the `k` parameter.\n",
    "\n",
    "In the example below, we call `factory.next(steps=1, k=2)` to perform one iteration, where 2 of the top-performing factors from the previous step are selected and combined.\n",
    "Since we set `top_k=10`, only the top 10 scoring factors will be retained after each iteration.\n",
    "We then view the top 5 factors again after the iteration:\n"
   ]
  },
  {
   "metadata": {
    "ExecuteTime": {
     "end_time": "2025-05-23T05:08:01.217437Z",
     "start_time": "2025-05-23T05:08:01.177174Z"
    }
   },
   "cell_type": "code",
   "source": [
    "# Perform one iteration of factor generation (combine the 2 least correlated top factors)\n",
    "factory.next(steps=1, k=2)\n",
    "print(\"Top 5 factors after 1 iteration:\\n\")\n",
    "factory.get_summary().head(5)"
   ],
   "id": "69c94b4713daf52e",
   "outputs": [
    {
     "name": "stderr",
     "output_type": "stream",
     "text": [
      "🔄 next steps:   0%|          | 0/1 [00:00<?, ?it/s]\n",
      "🔄 cross_op (single): 100%|██████████| 12/12 [00:00<00:00, 17421.82it/s]\n",
      "🔄 next steps: 100%|██████████| 1/1 [00:00<00:00, 28.19it/s]"
     ]
    },
    {
     "name": "stdout",
     "output_type": "stream",
     "text": [
      "Top 5 factors after 1 iteration:\n",
      "\n"
     ]
    },
    {
     "name": "stderr",
     "output_type": "stream",
     "text": [
      "\n"
     ]
    },
    {
     "data": {
      "text/plain": [
       "                                                spearman_ic  pearson_ir  \\\n",
       "macd_5_20_(open)_minus_sma_20_(close)                0.7521      1.6080   \n",
       "rsi_14_(macd_5_20_(open)_minus_sma_20_(close))       0.7214      1.5727   \n",
       "bbpband_20_2.0_(macd_12_26_(rsi_6_(open)))           0.6861      1.8684   \n",
       "bbpband_20_1.5_(macd_12_26_(rsi_6_(open)))           0.6861      1.8682   \n",
       "rsi_14_(macd_12_26_(rsi_6_(open)))                   0.7215      1.3823   \n",
       "\n",
       "                                                pca_coeff  spearman_ic_norm  \\\n",
       "macd_5_20_(open)_minus_sma_20_(close)              0.1964            1.0000   \n",
       "rsi_14_(macd_5_20_(open)_minus_sma_20_(close))     0.2022            0.9796   \n",
       "bbpband_20_2.0_(macd_12_26_(rsi_6_(open)))         0.1859            0.9561   \n",
       "bbpband_20_1.5_(macd_12_26_(rsi_6_(open)))         0.1859            0.9561   \n",
       "rsi_14_(macd_12_26_(rsi_6_(open)))                 0.2033            0.9796   \n",
       "\n",
       "                                                pearson_ir_norm  \\\n",
       "macd_5_20_(open)_minus_sma_20_(close)                    0.9256   \n",
       "rsi_14_(macd_5_20_(open)_minus_sma_20_(close))           0.9155   \n",
       "bbpband_20_2.0_(macd_12_26_(rsi_6_(open)))               1.0000   \n",
       "bbpband_20_1.5_(macd_12_26_(rsi_6_(open)))               1.0000   \n",
       "rsi_14_(macd_12_26_(rsi_6_(open)))                       0.8611   \n",
       "\n",
       "                                                pca_coeff_norm  combined_score  \n",
       "macd_5_20_(open)_minus_sma_20_(close)                   0.9653          2.8909  \n",
       "rsi_14_(macd_5_20_(open)_minus_sma_20_(close))          0.9943          2.8894  \n",
       "bbpband_20_2.0_(macd_12_26_(rsi_6_(open)))              0.9130          2.8691  \n",
       "bbpband_20_1.5_(macd_12_26_(rsi_6_(open)))              0.9130          2.8690  \n",
       "rsi_14_(macd_12_26_(rsi_6_(open)))                      1.0000          2.8407  "
      ],
      "text/html": [
       "<div>\n",
       "<style scoped>\n",
       "    .dataframe tbody tr th:only-of-type {\n",
       "        vertical-align: middle;\n",
       "    }\n",
       "\n",
       "    .dataframe tbody tr th {\n",
       "        vertical-align: top;\n",
       "    }\n",
       "\n",
       "    .dataframe thead th {\n",
       "        text-align: right;\n",
       "    }\n",
       "</style>\n",
       "<table border=\"1\" class=\"dataframe\">\n",
       "  <thead>\n",
       "    <tr style=\"text-align: right;\">\n",
       "      <th></th>\n",
       "      <th>spearman_ic</th>\n",
       "      <th>pearson_ir</th>\n",
       "      <th>pca_coeff</th>\n",
       "      <th>spearman_ic_norm</th>\n",
       "      <th>pearson_ir_norm</th>\n",
       "      <th>pca_coeff_norm</th>\n",
       "      <th>combined_score</th>\n",
       "    </tr>\n",
       "  </thead>\n",
       "  <tbody>\n",
       "    <tr>\n",
       "      <th>macd_5_20_(open)_minus_sma_20_(close)</th>\n",
       "      <td>0.7521</td>\n",
       "      <td>1.6080</td>\n",
       "      <td>0.1964</td>\n",
       "      <td>1.0000</td>\n",
       "      <td>0.9256</td>\n",
       "      <td>0.9653</td>\n",
       "      <td>2.8909</td>\n",
       "    </tr>\n",
       "    <tr>\n",
       "      <th>rsi_14_(macd_5_20_(open)_minus_sma_20_(close))</th>\n",
       "      <td>0.7214</td>\n",
       "      <td>1.5727</td>\n",
       "      <td>0.2022</td>\n",
       "      <td>0.9796</td>\n",
       "      <td>0.9155</td>\n",
       "      <td>0.9943</td>\n",
       "      <td>2.8894</td>\n",
       "    </tr>\n",
       "    <tr>\n",
       "      <th>bbpband_20_2.0_(macd_12_26_(rsi_6_(open)))</th>\n",
       "      <td>0.6861</td>\n",
       "      <td>1.8684</td>\n",
       "      <td>0.1859</td>\n",
       "      <td>0.9561</td>\n",
       "      <td>1.0000</td>\n",
       "      <td>0.9130</td>\n",
       "      <td>2.8691</td>\n",
       "    </tr>\n",
       "    <tr>\n",
       "      <th>bbpband_20_1.5_(macd_12_26_(rsi_6_(open)))</th>\n",
       "      <td>0.6861</td>\n",
       "      <td>1.8682</td>\n",
       "      <td>0.1859</td>\n",
       "      <td>0.9561</td>\n",
       "      <td>1.0000</td>\n",
       "      <td>0.9130</td>\n",
       "      <td>2.8690</td>\n",
       "    </tr>\n",
       "    <tr>\n",
       "      <th>rsi_14_(macd_12_26_(rsi_6_(open)))</th>\n",
       "      <td>0.7215</td>\n",
       "      <td>1.3823</td>\n",
       "      <td>0.2033</td>\n",
       "      <td>0.9796</td>\n",
       "      <td>0.8611</td>\n",
       "      <td>1.0000</td>\n",
       "      <td>2.8407</td>\n",
       "    </tr>\n",
       "  </tbody>\n",
       "</table>\n",
       "</div>"
      ]
     },
     "execution_count": 6,
     "metadata": {},
     "output_type": "execute_result"
    }
   ],
   "execution_count": 6
  },
  {
   "metadata": {},
   "cell_type": "markdown",
   "source": [
    "As we can see, a new composite factor ***rsi_14_(macd_diff_12_26_(rsi_6_(open)))*** has appeared in the Top 5 list.\n",
    "This indicates that newly generated factors through iterative combination may improve the overall factor score.\n",
    "\n",
    "The `next` method enables us to progressively discover new potentially effective features, and select well-performing factors based on evaluation after each step.\n",
    "\n",
    "In practice, you can increase the number of `steps` to iterate multiple rounds.\n",
    "However, note that each round may generate a **large number of features**, so it’s important to control the scale using the `top_k` setting.\n",
    "\n",
    "---"
   ],
   "id": "6ce562d4e719acf9"
  },
  {
   "cell_type": "markdown",
   "id": "2a4fb8c6",
   "metadata": {},
   "source": [
    "## 5. 2D Visualization of Factor Structure (`visualize_structure_2d` Method)\n",
    "\n",
    "To intuitively understand the distribution structure of the generated factors in the sample space,\n",
    "we can use the `visualize_structure_2d` method to reduce the high-dimensional factor space to two dimensions and visualize it.\n",
    "This method supports various dimensionality reduction algorithms such as `PCA`, `LLE`, `t-SNE`, and `UMAP` for comparison.\n",
    "\n",
    "During visualization, each time point is color-coded based on the price movement label over the future `forward_period` days\n",
    "(up = 1, down = 0).\n",
    "You can use the `seq_len` parameter to decide whether to expand the time series into sliding windows.\n",
    "For example, setting `seq_len=5` treats every consecutive 5-day window as a sample for dimensionality reduction,\n",
    "allowing us to examine the factor distribution over short-term sequence patterns.\n",
    "\n",
    "Each point in the plot represents the factor value sequence within a 5-day window,\n",
    "projected onto a 2D plane using each reduction algorithm and color-coded based on the price movement 5 days after the window ends:\n",
    "***red indicates an upward movement, and blue indicates a downward movement***.\n",
    "This helps us observe how factors cluster under different market conditions."
   ]
  },
  {
   "cell_type": "code",
   "id": "c9fb4bd2",
   "metadata": {
    "ExecuteTime": {
     "end_time": "2025-05-23T05:08:01.308913Z",
     "start_time": "2025-05-23T05:08:01.237105Z"
    }
   },
   "source": [
    "factory.visualize_structure_2d(\n",
    "    seq_len=5,\n",
    "    perplexity=30, # for tsne\n",
    "    n_neighbors=10, # for lle\n",
    "    random_state=42,\n",
    "    pca_evp=0.9, # pca explained variance ratio percent to keep\n",
    "    umap_components=2, # n components for umap\n",
    ")"
   ],
   "outputs": [
    {
     "name": "stderr",
     "output_type": "stream",
     "text": [
      "🔄 窗口展平: 100%|██████████| 96/96 [00:00<00:00, 238115.43it/s]\n"
     ]
    },
    {
     "ename": "AttributeError",
     "evalue": "module 'umap' has no attribute 'UMAP'",
     "output_type": "error",
     "traceback": [
      "\u001B[0;31m---------------------------------------------------------------------------\u001B[0m",
      "\u001B[0;31mAttributeError\u001B[0m                            Traceback (most recent call last)",
      "Input \u001B[0;32mIn [7]\u001B[0m, in \u001B[0;36m<module>\u001B[0;34m\u001B[0m\n\u001B[0;32m----> 1\u001B[0m \u001B[43mfactory\u001B[49m\u001B[38;5;241;43m.\u001B[39;49m\u001B[43mvisualize_structure_2d\u001B[49m\u001B[43m(\u001B[49m\n\u001B[1;32m      2\u001B[0m \u001B[43m    \u001B[49m\u001B[43mseq_len\u001B[49m\u001B[38;5;241;43m=\u001B[39;49m\u001B[38;5;241;43m5\u001B[39;49m\u001B[43m,\u001B[49m\n\u001B[1;32m      3\u001B[0m \u001B[43m    \u001B[49m\u001B[43mperplexity\u001B[49m\u001B[38;5;241;43m=\u001B[39;49m\u001B[38;5;241;43m30\u001B[39;49m\u001B[43m,\u001B[49m\u001B[43m \u001B[49m\u001B[38;5;66;43;03m# for tsne\u001B[39;49;00m\n\u001B[1;32m      4\u001B[0m \u001B[43m    \u001B[49m\u001B[43mn_neighbors\u001B[49m\u001B[38;5;241;43m=\u001B[39;49m\u001B[38;5;241;43m10\u001B[39;49m\u001B[43m,\u001B[49m\u001B[43m \u001B[49m\u001B[38;5;66;43;03m# for lle\u001B[39;49;00m\n\u001B[1;32m      5\u001B[0m \u001B[43m    \u001B[49m\u001B[43mrandom_state\u001B[49m\u001B[38;5;241;43m=\u001B[39;49m\u001B[38;5;241;43m42\u001B[39;49m\u001B[43m,\u001B[49m\n\u001B[1;32m      6\u001B[0m \u001B[43m    \u001B[49m\u001B[43mpca_evp\u001B[49m\u001B[38;5;241;43m=\u001B[39;49m\u001B[38;5;241;43m0.9\u001B[39;49m\u001B[43m,\u001B[49m\u001B[43m \u001B[49m\u001B[38;5;66;43;03m# pca explained variance ratio percent to keep\u001B[39;49;00m\n\u001B[1;32m      7\u001B[0m \u001B[43m    \u001B[49m\u001B[43mumap_components\u001B[49m\u001B[38;5;241;43m=\u001B[39;49m\u001B[38;5;241;43m2\u001B[39;49m\u001B[43m,\u001B[49m\u001B[43m \u001B[49m\u001B[38;5;66;43;03m# n components for umap\u001B[39;49;00m\n\u001B[1;32m      8\u001B[0m \u001B[43m)\u001B[49m\n",
      "File \u001B[0;32m~/Desktop/GitHub/TockFormer/Utility/factorFactory.py:393\u001B[0m, in \u001B[0;36mFactorFactory.visualize_structure_2d\u001B[0;34m(self, seq_len, perplexity, n_neighbors, random_state, pca_evp, umap_components, n_jobs)\u001B[0m\n\u001B[1;32m    385\u001B[0m labels \u001B[38;5;241m=\u001B[39m labels\u001B[38;5;241m.\u001B[39mastype (\u001B[38;5;28mint\u001B[39m)\u001B[38;5;241m.\u001B[39mto_numpy ()\n\u001B[1;32m    387\u001B[0m \u001B[38;5;66;03m# ——— 5. 定义降维任务列表 ———ƒ∂\u001B[39;00m\n\u001B[1;32m    388\u001B[0m reducers \u001B[38;5;241m=\u001B[39m [\n\u001B[1;32m    389\u001B[0m     (\u001B[38;5;124m'\u001B[39m\u001B[38;5;124mPCA-2\u001B[39m\u001B[38;5;124m'\u001B[39m, PCA (n_components\u001B[38;5;241m=\u001B[39m\u001B[38;5;241m2\u001B[39m, random_state\u001B[38;5;241m=\u001B[39mrandom_state)),\n\u001B[1;32m    390\u001B[0m     (\u001B[38;5;124m'\u001B[39m\u001B[38;5;124mLLE\u001B[39m\u001B[38;5;124m'\u001B[39m, LocallyLinearEmbedding (n_neighbors\u001B[38;5;241m=\u001B[39mn_neighbors, n_components\u001B[38;5;241m=\u001B[39m\u001B[38;5;241m2\u001B[39m, random_state\u001B[38;5;241m=\u001B[39mrandom_state)),\n\u001B[1;32m    391\u001B[0m     (\u001B[38;5;124m'\u001B[39m\u001B[38;5;124mt-SNE\u001B[39m\u001B[38;5;124m'\u001B[39m, TSNE (n_components\u001B[38;5;241m=\u001B[39m\u001B[38;5;241m2\u001B[39m, perplexity\u001B[38;5;241m=\u001B[39mperplexity, random_state\u001B[38;5;241m=\u001B[39mrandom_state)),\n\u001B[1;32m    392\u001B[0m     (\u001B[38;5;124mf\u001B[39m\u001B[38;5;124m'\u001B[39m\u001B[38;5;124mPCA(\u001B[39m\u001B[38;5;132;01m{\u001B[39;00mpca_evp\u001B[38;5;250m \u001B[39m\u001B[38;5;241m*\u001B[39m\u001B[38;5;250m \u001B[39m\u001B[38;5;241m100\u001B[39m\u001B[38;5;132;01m:\u001B[39;00m\u001B[38;5;124m.2f\u001B[39m\u001B[38;5;132;01m}\u001B[39;00m\u001B[38;5;124m%)→t-SNE\u001B[39m\u001B[38;5;124m'\u001B[39m, pca_evp),\n\u001B[0;32m--> 393\u001B[0m     (\u001B[38;5;124m'\u001B[39m\u001B[38;5;124mUMAP-2\u001B[39m\u001B[38;5;124m'\u001B[39m, \u001B[43mumap\u001B[49m\u001B[38;5;241;43m.\u001B[39;49m\u001B[43mUMAP\u001B[49m (n_neighbors\u001B[38;5;241m=\u001B[39mn_neighbors, n_components\u001B[38;5;241m=\u001B[39m\u001B[38;5;241m2\u001B[39m)),\n\u001B[1;32m    394\u001B[0m     (\u001B[38;5;124mf\u001B[39m\u001B[38;5;124m'\u001B[39m\u001B[38;5;124mUMAP(\u001B[39m\u001B[38;5;132;01m{\u001B[39;00mumap_components\u001B[38;5;132;01m}\u001B[39;00m\u001B[38;5;124m)→t-SNE\u001B[39m\u001B[38;5;124m'\u001B[39m, umap_components),\n\u001B[1;32m    395\u001B[0m ]\n\u001B[1;32m    396\u001B[0m results \u001B[38;5;241m=\u001B[39m {}\n\u001B[1;32m    397\u001B[0m \u001B[38;5;66;03m# 并行计算降维\u001B[39;00m\n",
      "\u001B[0;31mAttributeError\u001B[0m: module 'umap' has no attribute 'UMAP'"
     ]
    }
   ],
   "execution_count": 7
  },
  {
   "cell_type": "markdown",
   "id": "ad442ec6",
   "metadata": {},
   "source": [
    "From the plot above, we can observe that the combined factors form a certain clustering structure in the 2D space.\n",
    "Red and blue points show distinct spatial distributions, indicating that the generated factors contain some information useful for distinguishing future price movements.\n",
    "\n",
    "In other words, samples with different future trends (upward or downward) tend to cluster differently in the factor space,\n",
    "demonstrating the discriminative power of the factors with respect to future market direction.\n",
    "\n",
    "Of course, this is just a visual and intuitive validation.\n",
    "A more precise assessment still relies on quantitative metrics such as factor scores.\n",
    "\n",
    "---"
   ]
  },
  {
   "cell_type": "markdown",
   "id": "b2a611bb",
   "metadata": {},
   "source": [
    "## 6. Factor Clustering Evaluation (`evaluate_clusterings` Method)\n",
    "\n",
    "The `FactorFactory` also provides an `evaluate_clusterings` method for performing unsupervised clustering analysis on factor data\n",
    "and evaluating the effectiveness of various clustering algorithms.\n",
    "\n",
    "This method tests multiple clustering algorithms\n",
    "***such as KMeans, Agglomerative Clustering, Spectral Clustering, Gaussian Mixture, DBSCAN, and MeanShift***.\n",
    "It clusters the factor data (or factor sequence data) using various parameters and computes evaluation metrics\n",
    "***such as the Silhouette coefficient, Calinski-Harabasz index, and Davies-Bouldin index***.\n",
    "\n",
    "If `seq_len > 1` is specified, it performs clustering on expanded sequences of factor data,\n",
    "similar to the visualization approach described earlier, allowing discovery of clustering patterns across short-term factor sequences.\n",
    "\n",
    "Once clustering evaluation is complete, `evaluate_clusterings` returns a `DataFrame` (also stored in `factory.cluster_report`),\n",
    "where each row logs the results and evaluation scores of a clustering attempt.\n",
    "From this, we can identify the most effective clustering configuration.\n",
    "\n",
    "The code below selects only ***KMeans and Gaussian Mixture (GaussianMixture)*** algorithms,\n",
    "evaluates the ***Silhouette*** coefficient across different cluster counts, and prints part of the result:"
   ]
  },
  {
   "cell_type": "code",
   "id": "79652dc1",
   "metadata": {
    "ExecuteTime": {
     "end_time": "2025-05-23T05:08:01.331775Z",
     "start_time": "2025-05-22T23:11:10.351442Z"
    }
   },
   "source": [
    "cluster_df = factory.evaluate_clusterings(algos=['KMeans','GaussianMixture'],\n",
    "                                          metrics=['silhouette'],\n",
    "                                          seq_len=1,\n",
    "                                          n_jobs=2)\n",
    "print(cluster_df[['algo','n_clusters','silhouette']].head(8))"
   ],
   "outputs": [
    {
     "name": "stderr",
     "output_type": "stream",
     "text": [
      "Clustering eval: 100%|██████████| 18/18 [00:00<00:00, 405.12it/s]\n"
     ]
    },
    {
     "data": {
      "text/plain": [
       "<Figure size 640x480 with 1 Axes>"
      ],
      "image/png": "[encoded data removed]"
     },
     "metadata": {},
     "output_type": "display_data"
    },
    {
     "data": {
      "text/plain": [
       "<Figure size 1000x400 with 2 Axes>"
      ],
      "image/png": "[encoded data removed]"
     },
     "metadata": {},
     "output_type": "display_data"
    },
    {
     "name": "stdout",
     "output_type": "stream",
     "text": [
      "     algo  n_clusters  silhouette\n",
      "0  KMeans         2.0    0.610154\n",
      "1  KMeans         3.0    0.468179\n",
      "2  KMeans         4.0    0.442336\n",
      "3  KMeans         5.0    0.346056\n",
      "4  KMeans         6.0    0.361668\n",
      "5  KMeans         7.0    0.343261\n",
      "6  KMeans         8.0    0.321008\n",
      "7  KMeans         9.0    0.311976\n"
     ]
    }
   ],
   "execution_count": 8
  },
  {
   "metadata": {},
   "cell_type": "markdown",
   "source": [
    "From the results, we can observe that the clustering quality varies depending on the algorithm and the number of clusters.\n",
    "For example, the table shows that for our current factor data, ***KMeans*** achieves the highest ***Silhouette*** score (around 0.18) when using 2 clusters.\n",
    "Similarly, ***GaussianMixture*** also performs comparably well with 2 clusters.\n",
    "\n",
    "This suggests that dividing the samples into two clusters might be a reasonable choice\n",
    "**(potentially corresponding to bullish and bearish market states)**.\n",
    "Typically, we select the clustering configuration with the highest evaluation metric (e.g., ***Silhouette*** score) for further analysis.\n",
    "\n",
    "Additionally, `evaluate_clusterings` has already added the cluster labels from the best-performing result\n",
    "into `self.df_features['cluster']`, making it easy to analyze the performance of each factor group.\n",
    "\n",
    "For example, we can compute the average IC/IR for each cluster,\n",
    "or visualize the ***Silhouette*** distribution of different clusters to better understand the diversity of the factor structure.\n",
    "\n",
    "---\n",
    "*Tip*: In practical use, you can apply dimensionality reduction before clustering by using the `dim_reduction` parameter.\n",
    "For example, setting `dim_reduction='pca'` and `reduction_params=[0.9]` will first reduce the dimensionality using PCA,\n",
    "retaining 90% of the explained variance. This helps to reduce the impact of noise on the clustering results.\n",
    "\n",
    "---"
   ],
   "id": "21b6b316b2a3a367"
  },
  {
   "cell_type": "markdown",
   "id": "b4b4c722",
   "metadata": {},
   "source": [
    "## 7. Custom Factor Example\n",
    "\n",
    "`FactorFactory` supports registering custom factor functions using the `@factor` decorator,\n",
    "allowing new factors to be automatically included during factor generation.\n",
    "\n",
    "The `Utility.factors` module already includes several predefined common factor functions\n",
    "(such as RSI, moving averages, Bollinger Bands, etc.),\n",
    "but you can also define and add your own.\n",
    "\n",
    "Below is an example demonstrating how to define and register a custom differencing factor:"
   ]
  },
  {
   "cell_type": "code",
   "id": "4590c88b9f028f37",
   "metadata": {
    "ExecuteTime": {
     "end_time": "2025-05-23T05:08:01.342363Z",
     "start_time": "2025-05-22T23:11:10.527604Z"
    }
   },
   "source": [
    "from Utility.registry import factor, FACTOR_REGISTRY\n",
    "from typing import Dict, List\n",
    "\n",
    "@factor(\n",
    "    category='unbounded', # 分类标签，表示输出值不受固定范围限制\n",
    "    param_keys=[], # 本因子无可调参数\n",
    "    key_template=lambda params, col: f\"diff_({col})\" # 根据列名 col 生成最终因子列名\n",
    ")\n",
    "def diff(\n",
    "    df: pd.DataFrame,\n",
    "    cols: List[str]\n",
    ") -> Dict[str, pd.Series]:\n",
    "    \"\"\"\n",
    "    计算简单一阶差分因子：diff_col = col_today - col_yesterday\n",
    "    参数:\n",
    "      - df: 原始数据 DataFrame，包含要计算的列\n",
    "      - cols: 需要计算差分的列名列表\n",
    "    返回:\n",
    "      - dict: key 为 diff_{col}，value 为对应 pd.Series 差分结果\n",
    "    \"\"\"\n",
    "    out: Dict[str, pd.Series] = {}\n",
    "    # 这里直接使用我们在 @factor 中定义的 key_template\n",
    "    template = FACTOR_REGISTRY['diff']['key_template']\n",
    "    for c in cols:\n",
    "        if c not in df.columns:\n",
    "            continue\n",
    "        key = template (None, c) # param_keys are empty, so passing None\n",
    "        out[key] = df[c].diff()\n",
    "    return out\n"
   ],
   "outputs": [],
   "execution_count": 9
  },
  {
   "metadata": {},
   "cell_type": "markdown",
   "source": [
    "#### Why Should Custom Factor Functions Follow This Signature?\n",
    "\n",
    "In `FactorFactory`, all registered factor functions should follow a standardized function signature:\n",
    "\n",
    "```python\n",
    "def my_factor(\n",
    "    df: pd.DataFrame,\n",
    "    cols: List[str],\n",
    "    **kwargs\n",
    ") -> Dict[str, pd.Series]:\n",
    "    ...\n",
    "```\n",
    "\n",
    "You should also use the `@factor` decorator along with the param_keys and key_template arguments to define metadata for the factor:\n",
    "\n",
    "\n",
    "```python\n",
    "@factor(\n",
    "    category='unbounded',\n",
    "    param_keys=['alpha'], # name \"alpha\" has to match the string in def EXAMPLE_FUNC\n",
    "    key_template=lambda params, col: f\"macd_{params[0]}_{params[1]}_{col}\"\n",
    ")\n",
    "def my_factor(\n",
    "    df: pd.DataFrame,\n",
    "    cols: List[str],\n",
    "    alpha: List[int] = [21, 54]\n",
    ") -> Dict[str, pd.Series]:\n",
    "    ...\n",
    "```"
   ],
   "id": "a6ab33638d8c49f7"
  },
  {
   "metadata": {
    "ExecuteTime": {
     "end_time": "2025-05-23T05:08:01.344699Z",
     "start_time": "2025-05-22T23:11:10.550474Z"
    }
   },
   "cell_type": "code",
   "source": [
    "# 注册后再生成因子\n",
    "factory2 = FactorFactory(df, forward_period=5, top_k=300)\n",
    "factory2.generate_factors()\n",
    "print([col for col in factory2.df_features.columns if col.startswith('diff')])"
   ],
   "id": "9ee9a319",
   "outputs": [
    {
     "name": "stderr",
     "output_type": "stream",
     "text": [
      "🔄 cross_op (single): 100%|██████████| 3072/3072 [00:00<00:00, 23492.70it/s]\n"
     ]
    },
    {
     "name": "stdout",
     "output_type": "stream",
     "text": [
      "['diff_(open)_minus_sma_20_(open)', 'diff_(open)_minus_sma_20_(close)']\n"
     ]
    }
   ],
   "execution_count": 10
  },
  {
   "metadata": {},
   "cell_type": "markdown",
   "source": [
    "This indicates that the `diff` factors for the `open` and `close` columns have been successfully generated.\n",
    "We can also inspect their values—for example, ***diff_close*** should equal the current day's closing price minus the previous day's closing price\n",
    "(with the first day being `NaN` due to the absence of prior data).\n",
    "\n",
    "In this way, **users can easily extend the factor library of the FactorFactory**.\n",
    "Simply define a factor computation function and decorate it with `@factor`,\n",
    "and the factor will be automatically included in future calls to `generate_factors` or `next`,\n",
    "without needing to manually modify the internal logic of the factory.\n",
    "\n",
    "---\n",
    "\n",
    "## 8. Extracting Factor Recipes and Applying to New Data"
   ],
   "id": "51764adb2d011d15"
  },
  {
   "metadata": {
    "ExecuteTime": {
     "end_time": "2025-05-23T05:08:01.354466Z",
     "start_time": "2025-05-22T23:11:12.190515Z"
    }
   },
   "cell_type": "code",
   "source": [
    "from Utility.RecipeParser import RecipeParser\n",
    "\n",
    "rp = RecipeParser()\n",
    "feature_names_we_want = factory2.df_features.drop(columns='timestamp').columns\n",
    "recipes = rp.get_recipes(feature_names_we_want)\n",
    "recipes[5] # 随便取1个看看"
   ],
   "id": "48f3a7850e8bc65b",
   "outputs": [
    {
     "data": {
      "text/plain": [
       "{'name': 'macd_5_20_(open)_minus_sma_20_(open)',\n",
       " 'func': 'minus',\n",
       " 'inputs': ['macd_5_20_(open)', 'sma_20_(open)'],\n",
       " 'kwargs': {},\n",
       " 'subrecipes': [{'name': 'macd_5_20_(open)',\n",
       "   'func': 'macd',\n",
       "   'inputs': ['open'],\n",
       "   'kwargs': {'fast': 5, 'slow': 20},\n",
       "   'subrecipes': [{'name': 'open',\n",
       "     'func': None,\n",
       "     'inputs': ['open'],\n",
       "     'kwargs': {},\n",
       "     'subrecipes': []}]},\n",
       "  {'name': 'sma_20_(open)',\n",
       "   'func': 'sma',\n",
       "   'inputs': ['open'],\n",
       "   'kwargs': {'window': 20},\n",
       "   'subrecipes': [{'name': 'open',\n",
       "     'func': None,\n",
       "     'inputs': ['open'],\n",
       "     'kwargs': {},\n",
       "     'subrecipes': []}]}]}"
      ]
     },
     "execution_count": 11,
     "metadata": {},
     "output_type": "execute_result"
    }
   ],
   "execution_count": 11
  },
  {
   "metadata": {},
   "cell_type": "markdown",
   "source": [
    "We can now see the detailed configuration of this factor recipe.\n",
    "With this information, we are able to reproduce the factor on new data using the same logic and parameters."
   ],
   "id": "bc13e19f9ab0a853"
  },
  {
   "metadata": {
    "ExecuteTime": {
     "end_time": "2025-05-23T05:08:01.375560Z",
     "start_time": "2025-05-22T23:12:11.810216Z"
    }
   },
   "cell_type": "code",
   "source": [
    "target_recipe = recipes[5]\n",
    "df_with_recipe = rp.apply_recipes(df, target_recipe, columns_to_keep= ['timestamp'] + [target_recipe['name']]) # If we don't specify the columns to keep, it will keep all the columns it calculated until the final column it wants\n",
    "\n",
    "df_with_recipe # first few rows are NAN due to the feature nature"
   ],
   "id": "f039c9f94b93ec6e",
   "outputs": [
    {
     "data": {
      "text/plain": [
       "     timestamp  macd_5_20_(open)_minus_sma_20_(open)\n",
       "0   2020-01-01                                   NaN\n",
       "1   2020-01-02                                   NaN\n",
       "2   2020-01-03                                   NaN\n",
       "3   2020-01-06                                   NaN\n",
       "4   2020-01-07                                   NaN\n",
       "..         ...                                   ...\n",
       "195 2020-09-30                            -97.807972\n",
       "196 2020-10-01                            -97.077128\n",
       "197 2020-10-02                            -96.521358\n",
       "198 2020-10-05                            -95.583767\n",
       "199 2020-10-06                            -94.571157\n",
       "\n",
       "[200 rows x 2 columns]"
      ],
      "text/html": [
       "<div>\n",
       "<style scoped>\n",
       "    .dataframe tbody tr th:only-of-type {\n",
       "        vertical-align: middle;\n",
       "    }\n",
       "\n",
       "    .dataframe tbody tr th {\n",
       "        vertical-align: top;\n",
       "    }\n",
       "\n",
       "    .dataframe thead th {\n",
       "        text-align: right;\n",
       "    }\n",
       "</style>\n",
       "<table border=\"1\" class=\"dataframe\">\n",
       "  <thead>\n",
       "    <tr style=\"text-align: right;\">\n",
       "      <th></th>\n",
       "      <th>timestamp</th>\n",
       "      <th>macd_5_20_(open)_minus_sma_20_(open)</th>\n",
       "    </tr>\n",
       "  </thead>\n",
       "  <tbody>\n",
       "    <tr>\n",
       "      <th>0</th>\n",
       "      <td>2020-01-01</td>\n",
       "      <td>NaN</td>\n",
       "    </tr>\n",
       "    <tr>\n",
       "      <th>1</th>\n",
       "      <td>2020-01-02</td>\n",
       "      <td>NaN</td>\n",
       "    </tr>\n",
       "    <tr>\n",
       "      <th>2</th>\n",
       "      <td>2020-01-03</td>\n",
       "      <td>NaN</td>\n",
       "    </tr>\n",
       "    <tr>\n",
       "      <th>3</th>\n",
       "      <td>2020-01-06</td>\n",
       "      <td>NaN</td>\n",
       "    </tr>\n",
       "    <tr>\n",
       "      <th>4</th>\n",
       "      <td>2020-01-07</td>\n",
       "      <td>NaN</td>\n",
       "    </tr>\n",
       "    <tr>\n",
       "      <th>...</th>\n",
       "      <td>...</td>\n",
       "      <td>...</td>\n",
       "    </tr>\n",
       "    <tr>\n",
       "      <th>195</th>\n",
       "      <td>2020-09-30</td>\n",
       "      <td>-97.807972</td>\n",
       "    </tr>\n",
       "    <tr>\n",
       "      <th>196</th>\n",
       "      <td>2020-10-01</td>\n",
       "      <td>-97.077128</td>\n",
       "    </tr>\n",
       "    <tr>\n",
       "      <th>197</th>\n",
       "      <td>2020-10-02</td>\n",
       "      <td>-96.521358</td>\n",
       "    </tr>\n",
       "    <tr>\n",
       "      <th>198</th>\n",
       "      <td>2020-10-05</td>\n",
       "      <td>-95.583767</td>\n",
       "    </tr>\n",
       "    <tr>\n",
       "      <th>199</th>\n",
       "      <td>2020-10-06</td>\n",
       "      <td>-94.571157</td>\n",
       "    </tr>\n",
       "  </tbody>\n",
       "</table>\n",
       "<p>200 rows × 2 columns</p>\n",
       "</div>"
      ]
     },
     "execution_count": 14,
     "metadata": {},
     "output_type": "execute_result"
    }
   ],
   "execution_count": 14
  },
  {
   "metadata": {},
   "cell_type": "markdown",
   "source": [
    "In summary, the `apply_recipes` method allows you to reproduce any valuable factors discovered during the `next` iterations\n",
    "and apply them to new datasets with ease."
   ],
   "id": "365a8a87ccc0a196"
  },
  {
   "metadata": {},
   "cell_type": "markdown",
   "source": [
    "## 9. Summary\n",
    "\n",
    "The content above provides a comprehensive demonstration of the core functionality of `FactorFactory`.\n",
    "From **data preparation**, **factor generation**, and **iterative expansion**,\n",
    "to **visual analysis**, **clustering evaluation**, and **custom factor extension**,\n",
    "we have outlined a complete workflow for factor discovery.\n",
    "\n",
    "In practical applications, you can fine-tune parameters such as `forward_period` and `top_k`,\n",
    "and continuously add custom factors to enrich the factor library—\n",
    "ultimately providing more diverse and effective features for quantitative modeling."
   ],
   "id": "3d3ce0049291ad35"
  }
 ],
 "metadata": {
  "kernelspec": {
   "display_name": "Python 3",
   "language": "python",
   "name": "python3"
  },
  "language_info": {
   "name": "python",
   "version": "3.8"
  }
 },
 "nbformat": 4,
 "nbformat_minor": 5
}
