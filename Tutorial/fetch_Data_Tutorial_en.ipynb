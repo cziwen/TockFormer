{
 "cells": [
  {
   "cell_type": "markdown",
   "id": "6a2c13bb",
   "metadata": {},
   "source": [
    "# Using DataRequest.py and Preprocessing.py to Fetch and Aggregate Financial Data\n",
    "\n",
    "In this tutorial, we will demonstrate how to use **DataRequest.py** and **Preprocessing.py** to fetch tick data in the financial domain and aggregate it into minute-level candlestick data.\n"
   ]
  },
  {
   "cell_type": "markdown",
   "id": "d42fcb6d",
   "metadata": {},
   "source": [
    "## Prerequisites\n",
    "\n",
    "- Ensure that `DataRequest.py` and `Preprocessing.py` are placed in the current working directory.\n",
    "- Install the required dependencies:\n",
    "  ```bash\n",
    "  pip install pandas finnhub-python # you should have this already\n",
    "  ```\n",
    "- Obtain and replace your API key, such as Finnhub's `YOUR_API_KEY`.\n"
   ]
  },
  {
   "cell_type": "markdown",
   "id": "c42b4496",
   "metadata": {},
   "source": [
    "## 1. Use DataRequest.py to Fetch Raw Financial Data\n",
    "\n",
    "Below we demonstrate how to fetch **candlestick data** and **tick data**, respectively.\n"
   ]
  },
  {
   "cell_type": "code",
   "id": "03a6d7b7",
   "metadata": {
    "ExecuteTime": {
     "end_time": "2025-05-21T18:31:47.790754Z",
     "start_time": "2025-05-21T18:31:47.602712Z"
    }
   },
   "source": [
    "from Utility.DataRequest import fetch_candle_data\n",
    "\n",
    "# Example: Fetch 1-minute candlestick data for AAPL on 2023-01-03\n",
    "candle_df = fetch_candle_data(\n",
    "    symbol='AAPL',\n",
    "    start_date='2023-01-03',\n",
    "    end_date='2023-01-03',\n",
    "    interval='1',        # '1' means 1-minute candlestick interval\n",
    "    token='YOUR_API_KEY', # API key\n",
    "    max_workers=1         # Number of threads to use\n",
    ")\n",
    "\n",
    "candle_df.head()\n"
   ],
   "outputs": [
    {
     "name": "stderr",
     "output_type": "stream",
     "text": [
      "AAPL 1-min K 线块: 100%|██████████| 1/1 [00:00<00:00,  6.43it/s]\n"
     ]
    },
    {
     "data": {
      "text/plain": [
       "                  timestamp    open    high     low   close  volume\n",
       "0 2023-01-03 04:00:00-05:00  130.28  131.00  130.28  131.00    8174\n",
       "1 2023-01-03 04:01:00-05:00  130.87  131.17  130.87  131.10    8820\n",
       "2 2023-01-03 04:02:00-05:00  131.18  131.24  131.17  131.17    2112\n",
       "3 2023-01-03 04:03:00-05:00  131.19  131.29  131.19  131.28    3888\n",
       "4 2023-01-03 04:04:00-05:00  131.28  131.46  131.28  131.46    5984"
      ],
      "text/html": [
       "<div>\n",
       "<style scoped>\n",
       "    .dataframe tbody tr th:only-of-type {\n",
       "        vertical-align: middle;\n",
       "    }\n",
       "\n",
       "    .dataframe tbody tr th {\n",
       "        vertical-align: top;\n",
       "    }\n",
       "\n",
       "    .dataframe thead th {\n",
       "        text-align: right;\n",
       "    }\n",
       "</style>\n",
       "<table border=\"1\" class=\"dataframe\">\n",
       "  <thead>\n",
       "    <tr style=\"text-align: right;\">\n",
       "      <th></th>\n",
       "      <th>timestamp</th>\n",
       "      <th>open</th>\n",
       "      <th>high</th>\n",
       "      <th>low</th>\n",
       "      <th>close</th>\n",
       "      <th>volume</th>\n",
       "    </tr>\n",
       "  </thead>\n",
       "  <tbody>\n",
       "    <tr>\n",
       "      <th>0</th>\n",
       "      <td>2023-01-03 04:00:00-05:00</td>\n",
       "      <td>130.28</td>\n",
       "      <td>131.00</td>\n",
       "      <td>130.28</td>\n",
       "      <td>131.00</td>\n",
       "      <td>8174</td>\n",
       "    </tr>\n",
       "    <tr>\n",
       "      <th>1</th>\n",
       "      <td>2023-01-03 04:01:00-05:00</td>\n",
       "      <td>130.87</td>\n",
       "      <td>131.17</td>\n",
       "      <td>130.87</td>\n",
       "      <td>131.10</td>\n",
       "      <td>8820</td>\n",
       "    </tr>\n",
       "    <tr>\n",
       "      <th>2</th>\n",
       "      <td>2023-01-03 04:02:00-05:00</td>\n",
       "      <td>131.18</td>\n",
       "      <td>131.24</td>\n",
       "      <td>131.17</td>\n",
       "      <td>131.17</td>\n",
       "      <td>2112</td>\n",
       "    </tr>\n",
       "    <tr>\n",
       "      <th>3</th>\n",
       "      <td>2023-01-03 04:03:00-05:00</td>\n",
       "      <td>131.19</td>\n",
       "      <td>131.29</td>\n",
       "      <td>131.19</td>\n",
       "      <td>131.28</td>\n",
       "      <td>3888</td>\n",
       "    </tr>\n",
       "    <tr>\n",
       "      <th>4</th>\n",
       "      <td>2023-01-03 04:04:00-05:00</td>\n",
       "      <td>131.28</td>\n",
       "      <td>131.46</td>\n",
       "      <td>131.28</td>\n",
       "      <td>131.46</td>\n",
       "      <td>5984</td>\n",
       "    </tr>\n",
       "  </tbody>\n",
       "</table>\n",
       "</div>"
      ]
     },
     "execution_count": 2,
     "metadata": {},
     "output_type": "execute_result"
    }
   ],
   "execution_count": 2
  },
  {
   "metadata": {},
   "cell_type": "markdown",
   "source": [
    "### `fetch_tick_data` Parameter Description\n",
    "\n",
    "- **`page_workers`** (_int_)  \n",
    "  Controls the number of threads fetching paginated data within a single trading day.  \n",
    "  - Tick data is often returned in “pages,” and `page_workers` determines how many page requests are issued concurrently.  \n",
    "  - Increases data retrieval speed for a single day, but too many threads may cause API rate limiting. Adjust based on network and API constraints.\n",
    "\n",
    "- **`day_workers`** (_int_)  \n",
    "  Controls the number of threads fetching data across multiple trading days concurrently.  \n",
    "  - When fetching tick data for multiple days, `day_workers` determines how many days’ requests are processed simultaneously.  \n",
    "  - Allows parallel retrieval across days to improve overall efficiency; be mindful of API concurrency limits."
   ],
   "id": "2c5db471271e1aaa"
  },
  {
   "cell_type": "code",
   "id": "3564ddd5",
   "metadata": {
    "ExecuteTime": {
     "end_time": "2025-05-21T18:33:01.387669Z",
     "start_time": "2025-05-21T18:32:52.391751Z"
    }
   },
   "source": [
    "from Utility.DataRequest import fetch_tick_data\n",
    "\n",
    "# Example: Fetch tick-by-tick trade details for AAPL on 2023-01-03\n",
    "tick_df = fetch_tick_data(\n",
    "    symbol='AAPL',\n",
    "    start_date='2023-01-03',\n",
    "    end_date='2023-01-03',\n",
    "    api_key='YOUR_API_KEY',     # API key\n",
    "    page_workers=10,            # Number of page workers for concurrent fetches within a single day\n",
    "    day_workers=1               # Number of day workers for parallel fetch across days (here only 1)\n",
    ")\n",
    "\n",
    "tick_df.head()\n"
   ],
   "outputs": [
    {
     "name": "stderr",
     "output_type": "stream",
     "text": [
      "Days:   0%|          | 0/1 [00:00<?, ?it/s]"
     ]
    },
    {
     "name": "stdout",
     "output_type": "stream",
     "text": [
      "Fetching ticks for 2023-01-03 — 当日总 tick 数: 1021095\n"
     ]
    },
    {
     "name": "stderr",
     "output_type": "stream",
     "text": [
      "Days: 100%|██████████| 1/1 [00:08<00:00,  8.48s/it]\n"
     ]
    },
    {
     "data": {
      "text/plain": [
       "                         timestamp symbol   price  volume    condition\n",
       "0 2023-01-03 04:00:00.004000-05:00   AAPL  130.28     100      [1, 24]\n",
       "1 2023-01-03 04:00:00.004000-05:00   AAPL  130.28      12  [1, 24, 12]\n",
       "2 2023-01-03 04:00:00.005000-05:00   AAPL  130.28      10  [1, 24, 12]\n",
       "3 2023-01-03 04:00:00.007000-05:00   AAPL  130.28       4  [1, 24, 12]\n",
       "4 2023-01-03 04:00:00.009000-05:00   AAPL  130.28       5  [1, 24, 12]"
      ],
      "text/html": [
       "<div>\n",
       "<style scoped>\n",
       "    .dataframe tbody tr th:only-of-type {\n",
       "        vertical-align: middle;\n",
       "    }\n",
       "\n",
       "    .dataframe tbody tr th {\n",
       "        vertical-align: top;\n",
       "    }\n",
       "\n",
       "    .dataframe thead th {\n",
       "        text-align: right;\n",
       "    }\n",
       "</style>\n",
       "<table border=\"1\" class=\"dataframe\">\n",
       "  <thead>\n",
       "    <tr style=\"text-align: right;\">\n",
       "      <th></th>\n",
       "      <th>timestamp</th>\n",
       "      <th>symbol</th>\n",
       "      <th>price</th>\n",
       "      <th>volume</th>\n",
       "      <th>condition</th>\n",
       "    </tr>\n",
       "  </thead>\n",
       "  <tbody>\n",
       "    <tr>\n",
       "      <th>0</th>\n",
       "      <td>2023-01-03 04:00:00.004000-05:00</td>\n",
       "      <td>AAPL</td>\n",
       "      <td>130.28</td>\n",
       "      <td>100</td>\n",
       "      <td>[1, 24]</td>\n",
       "    </tr>\n",
       "    <tr>\n",
       "      <th>1</th>\n",
       "      <td>2023-01-03 04:00:00.004000-05:00</td>\n",
       "      <td>AAPL</td>\n",
       "      <td>130.28</td>\n",
       "      <td>12</td>\n",
       "      <td>[1, 24, 12]</td>\n",
       "    </tr>\n",
       "    <tr>\n",
       "      <th>2</th>\n",
       "      <td>2023-01-03 04:00:00.005000-05:00</td>\n",
       "      <td>AAPL</td>\n",
       "      <td>130.28</td>\n",
       "      <td>10</td>\n",
       "      <td>[1, 24, 12]</td>\n",
       "    </tr>\n",
       "    <tr>\n",
       "      <th>3</th>\n",
       "      <td>2023-01-03 04:00:00.007000-05:00</td>\n",
       "      <td>AAPL</td>\n",
       "      <td>130.28</td>\n",
       "      <td>4</td>\n",
       "      <td>[1, 24, 12]</td>\n",
       "    </tr>\n",
       "    <tr>\n",
       "      <th>4</th>\n",
       "      <td>2023-01-03 04:00:00.009000-05:00</td>\n",
       "      <td>AAPL</td>\n",
       "      <td>130.28</td>\n",
       "      <td>5</td>\n",
       "      <td>[1, 24, 12]</td>\n",
       "    </tr>\n",
       "  </tbody>\n",
       "</table>\n",
       "</div>"
      ]
     },
     "execution_count": 4,
     "metadata": {},
     "output_type": "execute_result"
    }
   ],
   "execution_count": 4
  },
  {
   "cell_type": "markdown",
   "id": "4d835c75",
   "metadata": {},
   "source": [
    "## 2. Use Preprocessing.py to Aggregate Tick Data into Minute-Level Candlestick Data\n",
    "\n",
    "Use the `aggregate_tick_to_minute` function to convert tick data into OHLCV data:\n"
   ]
  },
  {
   "cell_type": "code",
   "id": "b2882c3f",
   "metadata": {
    "ExecuteTime": {
     "end_time": "2025-05-21T18:34:12.837729Z",
     "start_time": "2025-05-21T18:34:12.430310Z"
    }
   },
   "source": [
    "from Utility.Preprocessing import aggregate_tick_to_minute\n",
    "\n",
    "# Aggregate tick data into minute-level OHLCV data\n",
    "minute_df = aggregate_tick_to_minute(tick_df)\n"
   ],
   "outputs": [
    {
     "name": "stdout",
     "output_type": "stream",
     "text": [
      "[Info] Dropped 0 rows due to invalid timestamps.\n"
     ]
    }
   ],
   "execution_count": 7
  },
  {
   "cell_type": "markdown",
   "id": "adb3b083",
   "metadata": {},
   "source": [
    "## 3. Display Aggregated Results and Explain the Structure\n",
    "\n",
    "View the first 5 rows of the aggregated minute-level data:"
   ]
  },
  {
   "cell_type": "code",
   "id": "32b04217",
   "metadata": {
    "ExecuteTime": {
     "end_time": "2025-05-21T18:34:16.192891Z",
     "start_time": "2025-05-21T18:34:16.184558Z"
    }
   },
   "source": [
    "minute_df.head(5)"
   ],
   "outputs": [
    {
     "data": {
      "text/plain": [
       "                  timestamp    open    high     low   close  volume  \\\n",
       "0 2023-01-03 04:00:00-05:00  130.28  131.00  130.06  130.89  8174.0   \n",
       "1 2023-01-03 04:01:00-05:00  130.89  131.18  130.85  131.10  8820.0   \n",
       "2 2023-01-03 04:02:00-05:00  131.17  131.29  131.10  131.19  2112.0   \n",
       "3 2023-01-03 04:03:00-05:00  131.17  131.29  131.15  131.28  3888.0   \n",
       "4 2023-01-03 04:04:00-05:00  131.29  131.46  131.24  131.40  5984.0   \n",
       "\n",
       "   dollar_volume        vwap  tick_count  trade_size_mean  trade_size_std  \\\n",
       "0     1069601.58  130.854120       208.0        39.298077       89.094740   \n",
       "1     1155025.24  130.955243       157.0        56.178344      188.856313   \n",
       "2      277112.92  131.208769        53.0        39.849057       70.221320   \n",
       "3      510186.43  131.220790        90.0        43.200000       63.307223   \n",
       "4      785866.15  131.327899        88.0        68.000000      125.710888   \n",
       "\n",
       "   zero_return_count  price_direction_ratio  large_trade_count  \\\n",
       "0              101.0               0.246377                5.0   \n",
       "1               71.0               0.250000                1.0   \n",
       "2               23.0               0.250000                1.0   \n",
       "3               54.0               0.202247                2.0   \n",
       "4               37.0               0.264368                2.0   \n",
       "\n",
       "   large_trade_ratio  large_trade_volume_ratio  \n",
       "0           0.024038                  0.285784  \n",
       "1           0.006369                  0.255556  \n",
       "2           0.018868                  0.210227  \n",
       "3           0.022222                  0.190329  \n",
       "4           0.022727                  0.229445  "
      ],
      "text/html": [
       "<div>\n",
       "<style scoped>\n",
       "    .dataframe tbody tr th:only-of-type {\n",
       "        vertical-align: middle;\n",
       "    }\n",
       "\n",
       "    .dataframe tbody tr th {\n",
       "        vertical-align: top;\n",
       "    }\n",
       "\n",
       "    .dataframe thead th {\n",
       "        text-align: right;\n",
       "    }\n",
       "</style>\n",
       "<table border=\"1\" class=\"dataframe\">\n",
       "  <thead>\n",
       "    <tr style=\"text-align: right;\">\n",
       "      <th></th>\n",
       "      <th>timestamp</th>\n",
       "      <th>open</th>\n",
       "      <th>high</th>\n",
       "      <th>low</th>\n",
       "      <th>close</th>\n",
       "      <th>volume</th>\n",
       "      <th>dollar_volume</th>\n",
       "      <th>vwap</th>\n",
       "      <th>tick_count</th>\n",
       "      <th>trade_size_mean</th>\n",
       "      <th>trade_size_std</th>\n",
       "      <th>zero_return_count</th>\n",
       "      <th>price_direction_ratio</th>\n",
       "      <th>large_trade_count</th>\n",
       "      <th>large_trade_ratio</th>\n",
       "      <th>large_trade_volume_ratio</th>\n",
       "    </tr>\n",
       "  </thead>\n",
       "  <tbody>\n",
       "    <tr>\n",
       "      <th>0</th>\n",
       "      <td>2023-01-03 04:00:00-05:00</td>\n",
       "      <td>130.28</td>\n",
       "      <td>131.00</td>\n",
       "      <td>130.06</td>\n",
       "      <td>130.89</td>\n",
       "      <td>8174.0</td>\n",
       "      <td>1069601.58</td>\n",
       "      <td>130.854120</td>\n",
       "      <td>208.0</td>\n",
       "      <td>39.298077</td>\n",
       "      <td>89.094740</td>\n",
       "      <td>101.0</td>\n",
       "      <td>0.246377</td>\n",
       "      <td>5.0</td>\n",
       "      <td>0.024038</td>\n",
       "      <td>0.285784</td>\n",
       "    </tr>\n",
       "    <tr>\n",
       "      <th>1</th>\n",
       "      <td>2023-01-03 04:01:00-05:00</td>\n",
       "      <td>130.89</td>\n",
       "      <td>131.18</td>\n",
       "      <td>130.85</td>\n",
       "      <td>131.10</td>\n",
       "      <td>8820.0</td>\n",
       "      <td>1155025.24</td>\n",
       "      <td>130.955243</td>\n",
       "      <td>157.0</td>\n",
       "      <td>56.178344</td>\n",
       "      <td>188.856313</td>\n",
       "      <td>71.0</td>\n",
       "      <td>0.250000</td>\n",
       "      <td>1.0</td>\n",
       "      <td>0.006369</td>\n",
       "      <td>0.255556</td>\n",
       "    </tr>\n",
       "    <tr>\n",
       "      <th>2</th>\n",
       "      <td>2023-01-03 04:02:00-05:00</td>\n",
       "      <td>131.17</td>\n",
       "      <td>131.29</td>\n",
       "      <td>131.10</td>\n",
       "      <td>131.19</td>\n",
       "      <td>2112.0</td>\n",
       "      <td>277112.92</td>\n",
       "      <td>131.208769</td>\n",
       "      <td>53.0</td>\n",
       "      <td>39.849057</td>\n",
       "      <td>70.221320</td>\n",
       "      <td>23.0</td>\n",
       "      <td>0.250000</td>\n",
       "      <td>1.0</td>\n",
       "      <td>0.018868</td>\n",
       "      <td>0.210227</td>\n",
       "    </tr>\n",
       "    <tr>\n",
       "      <th>3</th>\n",
       "      <td>2023-01-03 04:03:00-05:00</td>\n",
       "      <td>131.17</td>\n",
       "      <td>131.29</td>\n",
       "      <td>131.15</td>\n",
       "      <td>131.28</td>\n",
       "      <td>3888.0</td>\n",
       "      <td>510186.43</td>\n",
       "      <td>131.220790</td>\n",
       "      <td>90.0</td>\n",
       "      <td>43.200000</td>\n",
       "      <td>63.307223</td>\n",
       "      <td>54.0</td>\n",
       "      <td>0.202247</td>\n",
       "      <td>2.0</td>\n",
       "      <td>0.022222</td>\n",
       "      <td>0.190329</td>\n",
       "    </tr>\n",
       "    <tr>\n",
       "      <th>4</th>\n",
       "      <td>2023-01-03 04:04:00-05:00</td>\n",
       "      <td>131.29</td>\n",
       "      <td>131.46</td>\n",
       "      <td>131.24</td>\n",
       "      <td>131.40</td>\n",
       "      <td>5984.0</td>\n",
       "      <td>785866.15</td>\n",
       "      <td>131.327899</td>\n",
       "      <td>88.0</td>\n",
       "      <td>68.000000</td>\n",
       "      <td>125.710888</td>\n",
       "      <td>37.0</td>\n",
       "      <td>0.264368</td>\n",
       "      <td>2.0</td>\n",
       "      <td>0.022727</td>\n",
       "      <td>0.229445</td>\n",
       "    </tr>\n",
       "  </tbody>\n",
       "</table>\n",
       "</div>"
      ]
     },
     "execution_count": 8,
     "metadata": {},
     "output_type": "execute_result"
    }
   ],
   "execution_count": 8
  },
  {
   "metadata": {},
   "cell_type": "markdown",
   "source": [
    "In the table above, each row represents a one-minute interval, with the following columns explained:\n",
    "- **timestamp**: The timestamp indicating the start of the one-minute interval (to the nearest minute). It is usually converted to Eastern Time (America/New_York) to align with exchange hours. For example, `2023-01-03 04:00:00-05:00` corresponds to the 09:30 interval in Eastern Time.\n",
    "- **open**: The price of the first trade within that minute. For example, at the 04:00 interval, the first trade price was 130.28.\n",
    "- **high**: The highest trade price within that minute. For example, at 04:00 the highest price was 131.00.\n",
    "- **low**: The lowest trade price within that minute. For example, at 04:00 the lowest price was 130.06.\n",
    "- **close**: The price of the last trade within that minute, i.e., the price at the end of the interval. For example, the close at 04:00 was 130.89.\n",
    "- **volume**: The total number of shares traded during that minute. At 04:00, a total of 8,174 shares were traded.\n",
    "- **dollar_volume**: The total dollar amount traded during that minute, calculated as the sum of each trade price multiplied by its volume. For example, the dollar volume at 04:00 was $1,069,601.58.\n",
    "- **vwap**: Volume-Weighted Average Price, representing the average price weighted by trade volume. In the example, the VWAP at 04:00 is approximately 130.85, indicating that most trading occurred around this price.\n",
    "- **tick_count**: The number of trades executed during that minute. For example, there were 208 trades at 04:00.\n",
    "- **trade_size_mean**: The average trade size per trade during that minute. For example, the average trade size at 04:00 was 39.29 shares.\n",
    "- **trade_size_std**: The standard deviation of trade sizes during that minute, measuring variability in trade sizes. For the 04:00 interval, the standard deviation was approximately 89.09.\n",
    "- **zero_return_count**: The number of times the trade price did not change between consecutive trades within that minute. A value of 0 indicates that each trade had a different price (no consecutive duplicate prices).\n",
    "- **price_direction_ratio**: The ratio of upward price movements to total price changes during the minute. A value close to 1 indicates mostly increasing prices; close to 0 indicates mostly decreasing; 0.5 indicates equal numbers of increases and decreases.\n",
    "- **large_trade_count**: The number of large trades (trades with unusually high volume) during the minute. Large trades are typically identified as those exceeding the mean by two standard deviations. A value of 0 indicates no large trades.\n",
    "- **large_trade_ratio**: The proportion of large trades to total trades in the minute. A value of 0 indicates no large trades occurred.\n",
    "- **large_trade_volume_ratio**: The proportion of volume contributed by large trades to total volume during the minute. A value of 0 indicates no volume came from large trades.\n",
    "\n",
    "In summary, by using `Preprocessing.py` to aggregate data, we convert raw high-frequency tick data into an easy-to-analyze minute-level candlestick DataFrame `minute_df`.\n",
    "\n",
    "This table has a clear structure: the first columns are the classic OHLCV data for price charting, and the subsequent columns provide additional market microstructure features for deeper analysis of trading behavior.\n",
    "\n",
    "For beginners, focus on basic fields such as OHLC and volume; for advanced analysis, leverage VWAP and microstructure features to explore market details.\n",
    "\n",
    "**At this point, we have completed the entire workflow**: from using `DataRequest.py` to fetch raw financial market data to using `Preprocessing.py` to aggregate tick data into minute-level candlestick data. You can apply these steps to other stocks or time ranges and adjust parameters (e.g., symbol, date range, interval) to obtain the desired data. Happy learning!\n"
   ],
   "id": "3fbaa881bc13da1f"
  },
  {
   "metadata": {},
   "cell_type": "code",
   "outputs": [],
   "execution_count": null,
   "source": "",
   "id": "55d54060c050ac79"
  }
 ],
 "metadata": {
  "kernelspec": {
   "name": "python3",
   "language": "python",
   "display_name": "Python 3 (ipykernel)"
  }
 },
 "nbformat": 4,
 "nbformat_minor": 5
}
