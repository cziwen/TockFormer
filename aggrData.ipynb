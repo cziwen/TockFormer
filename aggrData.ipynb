{
 "cells": [
  {
   "cell_type": "markdown",
   "id": "78b51664",
   "metadata": {},
   "source": [
    "## 处理 WebSocket 获取的单笔交易，统计为 Aggregated Data"
   ]
  },
  {
   "cell_type": "code",
   "execution_count": 1,
   "id": "2a66b939",
   "metadata": {},
   "outputs": [],
   "source": [
    "import json\n",
    "import threading\n",
    "import websocket\n",
    "import time\n",
    "import csv\n",
    "import os\n",
    "import pytz\n",
    "import logging\n",
    "from datetime import datetime, timedelta\n",
    "from collections import defaultdict"
   ]
  },
  {
   "cell_type": "markdown",
   "id": "a6adb382",
   "metadata": {},
   "source": [
    "### Customize Fields"
   ]
  },
  {
   "cell_type": "code",
   "execution_count": 2,
   "id": "3145be01",
   "metadata": {},
   "outputs": [],
   "source": [
    "# 要订阅的股票列表\n",
    "SYMBOLS = [\"AAPL\", \"GOOGL\", \"TSLA\"]\n",
    "\n",
    "# 统计间隔\n",
    "INTERVALS = {\n",
    "    \"1min\": 1,\n",
    "    \"5min\": 5,\n",
    "    \"15min\": 15,\n",
    "    \"30min\": 30,\n",
    "    \"1h\": 60\n",
    "}\n",
    "\n",
    "# API Key\n",
    "FINNHUB_TOKEN = \"cvop3lhr01qihjtq3uvgcvop3lhr01qihjtq3v00\""
   ]
  },
  {
   "cell_type": "markdown",
   "id": "2b2716ea",
   "metadata": {},
   "source": [
    "### Prepare"
   ]
  },
  {
   "cell_type": "code",
   "execution_count": 3,
   "id": "c0025a0f",
   "metadata": {},
   "outputs": [],
   "source": [
    "\n",
    "WS_URL = f\"wss://ws.finnhub.io?token={FINNHUB_TOKEN}\"\n",
    "\n",
    "# 确保必要的目录存在\n",
    "for interval in INTERVALS.keys():\n",
    "    directory = f\"./data/raw/{interval}\"\n",
    "    os.makedirs(directory, exist_ok=True)\n",
    "\n",
    "# 配置日志\n",
    "logging.basicConfig(\n",
    "    level=logging.INFO,\n",
    "    format='%(asctime)s - %(threadName)s - %(levelname)s - \\\"%(message)s\\\"',\n",
    "    handlers=[\n",
    "        logging.FileHandler(\"./data/raw/stock_data.log\"),\n",
    "        logging.StreamHandler()\n",
    "    ]\n",
    ")\n",
    "logger = logging.getLogger(__name__)\n",
    "\n",
    "# 聚合数据存储 - 每个时间间隔一个存储\n",
    "# 结构: interval_data[interval][symbol][timestamp] = {stats}\n",
    "interval_data = {interval: defaultdict(lambda: defaultdict(dict)) for interval in INTERVALS.keys()}\n",
    "\n",
    "# 当前周期的交易数据缓存 - 每个时间间隔一个缓存\n",
    "# 结构: current_period_data[interval][symbol] = {trades, stats...}\n",
    "current_period_data = {}\n",
    "for interval in INTERVALS.keys():\n",
    "    current_period_data[interval] = defaultdict(lambda: {\n",
    "        'trades': [],\n",
    "        'first_trade_price': None,\n",
    "        'high': float('-inf'),\n",
    "        'low': float('inf'),\n",
    "        'volume': 0,\n",
    "        'value': 0,  # price * volume 的总和，用于计算VWAP\n",
    "        'count': 0,\n",
    "    })\n",
    "    "
   ]
  },
  {
   "cell_type": "markdown",
   "id": "b64e9fc4",
   "metadata": {},
   "source": [
    "### Helper Methods"
   ]
  },
  {
   "cell_type": "code",
   "execution_count": 4,
   "id": "44954a4a",
   "metadata": {},
   "outputs": [],
   "source": [
    "def get_eastern_time():\n",
    "    \"\"\"获取当前美国东部时间\"\"\"\n",
    "    eastern_tz = pytz.timezone('America/New_York')\n",
    "    return datetime.now(pytz.UTC).astimezone(eastern_tz)\n",
    "\n",
    "def get_interval_timestamp(ts_millis, interval_minutes):\n",
    "    \"\"\"将毫秒时间戳转换为指定间隔的时间戳字符串，向下取整到该间隔\"\"\"\n",
    "    dt_utc = datetime.fromtimestamp(ts_millis / 1000, tz=pytz.UTC)\n",
    "    eastern_tz = pytz.timezone('America/New_York')\n",
    "    dt_eastern = dt_utc.astimezone(eastern_tz)\n",
    "    \n",
    "    minutes_since_midnight = dt_eastern.hour * 60 + dt_eastern.minute\n",
    "    floor_minutes = (minutes_since_midnight // interval_minutes) * interval_minutes\n",
    "    new_hour = floor_minutes // 60\n",
    "    new_minute = floor_minutes % 60\n",
    "    dt_floored = dt_eastern.replace(hour=new_hour, minute=new_minute, second=0, microsecond=0)\n",
    "    \n",
    "    # 格式化为时间戳字符串\n",
    "    return dt_floored.strftime('%Y-%m-%d %H:%M:00')\n",
    "\n",
    "def get_next_interval_time(interval_minutes):\n",
    "    \"\"\"计算下一个时间间隔的开始时间\"\"\"\n",
    "    now = get_eastern_time()\n",
    "    minutes_since_midnight = now.hour * 60 + now.minute\n",
    "    next_interval_minutes = ((minutes_since_midnight // interval_minutes) + 1) * interval_minutes\n",
    "    \n",
    "    next_hour = (next_interval_minutes // 60) % 24\n",
    "    next_minute = next_interval_minutes % 60\n",
    "    \n",
    "    # 如果跨天\n",
    "    days_to_add = 0\n",
    "    if next_hour < now.hour:\n",
    "        days_to_add = 1\n",
    "        \n",
    "    next_time = now.replace(\n",
    "        day=now.day + days_to_add,\n",
    "        hour=next_hour, \n",
    "        minute=next_minute, \n",
    "        second=0, \n",
    "        microsecond=0\n",
    "    )\n",
    "    \n",
    "    return next_time\n",
    "\n",
    "def aggregate_interval_data(interval_key, interval_minutes):\n",
    "    \"\"\"聚合指定时间间隔的所有交易数据，生成统计\"\"\"\n",
    "    now = get_eastern_time()\n",
    "    interval_timestamp = get_interval_timestamp(int(now.timestamp() * 1000), interval_minutes)\n",
    "    \n",
    "    for symbol, data in current_period_data[interval_key].items():\n",
    "        if not data['trades']:\n",
    "            continue  # 跳过没有交易的股票\n",
    "            \n",
    "        # 计算统计数据\n",
    "        open_price = data['first_trade_price']\n",
    "        close_price = data['trades'][-1]['price'] if data['trades'] else None\n",
    "        high_price = data['high']\n",
    "        low_price = data['low']\n",
    "        volume = data['volume']\n",
    "        vwap = data['value'] / volume if volume > 0 else 0\n",
    "        num_transactions = data['count']\n",
    "        \n",
    "        # 存储聚合数据\n",
    "        interval_data[interval_key][symbol][interval_timestamp] = {\n",
    "            'timestamp': interval_timestamp,\n",
    "            'open': open_price,\n",
    "            'high': high_price,\n",
    "            'low': low_price,\n",
    "            'close': close_price,\n",
    "            'vwap': vwap,\n",
    "            'volume': volume,\n",
    "            'num_transactions': num_transactions\n",
    "        }\n",
    "        \n",
    "        # 将聚合数据写入CSV\n",
    "        write_to_csv(interval_key, symbol, interval_timestamp, interval_data[interval_key][symbol][interval_timestamp])\n",
    "        \n",
    "        # 重置当前周期数据\n",
    "        current_period_data[interval_key][symbol] = {\n",
    "            'trades': [],\n",
    "            'first_trade_price': None,\n",
    "            'high': float('-inf'),\n",
    "            'low': float('inf'),\n",
    "            'volume': 0,\n",
    "            'value': 0,\n",
    "            'count': 0,\n",
    "        }\n",
    "\n",
    "def write_to_csv(interval_key, symbol, timestamp, stats):\n",
    "    \"\"\"将聚合数据写入CSV文件\"\"\"\n",
    "    directory = f\"./data/raw/{interval_key}\"\n",
    "    filename = f\"{directory}/{symbol}_{interval_key}.csv\"\n",
    "    file_exists = os.path.isfile(filename)\n",
    "    \n",
    "    with open(filename, 'a', newline='') as csvfile:\n",
    "        fieldnames = ['timestamp', 'open', 'high', 'low', 'close', 'vwap', 'volume', 'num_transactions']\n",
    "        writer = csv.DictWriter(csvfile, fieldnames=fieldnames)\n",
    "        \n",
    "        if not file_exists:\n",
    "            writer.writeheader()\n",
    "            \n",
    "        writer.writerow(stats)\n",
    "    \n",
    "    logger.info(f\"数据已写入 {filename}：{stats['timestamp']}\")\n",
    "\n",
    "def on_message(ws, message):\n",
    "    \"\"\"收到WebSocket消息时的回调\"\"\"\n",
    "    msg = json.loads(message)\n",
    "    if msg.get(\"type\") == \"trade\":\n",
    "        for trade in msg[\"data\"]:\n",
    "            symbol = trade[\"s\"]\n",
    "            price = trade[\"p\"]\n",
    "            volume = trade[\"v\"]\n",
    "            ts_millis = trade[\"t\"]\n",
    "            \n",
    "            # 存储原始交易信息\n",
    "            trade_info = {\n",
    "                'price': price,\n",
    "                'volume': volume,\n",
    "                'timestamp': ts_millis\n",
    "            }\n",
    "            \n",
    "            # 更新每个时间间隔的当前周期数据\n",
    "            for interval_key in INTERVALS.keys():\n",
    "                if current_period_data[interval_key][symbol]['first_trade_price'] is None:\n",
    "                    current_period_data[interval_key][symbol]['first_trade_price'] = price\n",
    "                    \n",
    "                current_period_data[interval_key][symbol]['trades'].append(trade_info)\n",
    "                current_period_data[interval_key][symbol]['high'] = max(current_period_data[interval_key][symbol]['high'], price)\n",
    "                current_period_data[interval_key][symbol]['low'] = min(current_period_data[interval_key][symbol]['low'], price)\n",
    "                current_period_data[interval_key][symbol]['volume'] += volume\n",
    "                current_period_data[interval_key][symbol]['value'] += price * volume\n",
    "                current_period_data[interval_key][symbol]['count'] += 1\n",
    "\n",
    "            # 打印接收到的交易信息 (可选，交易量大时考虑关闭)\n",
    "            print(f\"[{symbol}] Price={price} Volume={volume} Timestamp={ts_millis}\")\n",
    "\n",
    "def on_error(ws, error):\n",
    "    print(f\"WebSocket错误: {error}\")\n",
    "    logging.error(f\"WebSocket错误: {error}\")\n",
    "\n",
    "def on_close(ws, close_status_code, close_msg):\n",
    "    print(f\"WebSocket关闭: 状态码={close_status_code}, 消息={close_msg}，5秒后尝试重新连接...\")\n",
    "    logging.error(f\"WebSocket关闭: 状态码={close_status_code}, 消息={close_msg}，5秒后尝试重新连接...\")\n",
    "    time.sleep(5)\n",
    "    start_websocket()  # 重新启动WebSocket\n",
    "\n",
    "def start_websocket():\n",
    "    \"\"\"启动WebSocket连接的函数，便于重连\"\"\"\n",
    "    ws_app = websocket.WebSocketApp(\n",
    "        WS_URL,\n",
    "        on_open=on_open,\n",
    "        on_message=on_message,\n",
    "        on_error=on_error,\n",
    "        on_close=on_close\n",
    "    )\n",
    "    \n",
    "    # 添加ping_interval参数可以保持连接活跃\n",
    "    ws_app.run_forever(ping_interval=30)\n",
    "\n",
    "def on_open(ws):\n",
    "    \"\"\"连接建立后订阅所有股票\"\"\"\n",
    "    def run():\n",
    "        for sym in SYMBOLS:\n",
    "            sub_msg = json.dumps({\"type\": \"subscribe\", \"symbol\": sym})\n",
    "            ws.send(sub_msg)\n",
    "            logger.info(f\"Subscribed to {sym}\")\n",
    "            time.sleep(0.1)\n",
    "\n",
    "    threading.Thread(target=run).start()\n",
    "\n",
    "def start_aggregation_timers():\n",
    "    \"\"\"启动多个定时器，每个时间间隔一个\"\"\"\n",
    "    def run_timer(interval_key, minutes):\n",
    "        while True:\n",
    "            # 计算到下一个时间间隔的等待时间\n",
    "            next_time = get_next_interval_time(minutes)\n",
    "            now = get_eastern_time()\n",
    "            wait_seconds = (next_time - now).total_seconds()\n",
    "            \n",
    "            logger.info(f\"等待 {interval_key} 下一次聚合，将在 {next_time.strftime('%Y-%m-%d %H:%M:%S')} 进行，等待 {wait_seconds:.2f} 秒\")\n",
    "            \n",
    "            # 等待到下一个时间间隔开始\n",
    "            time.sleep(max(0, wait_seconds))\n",
    "            \n",
    "            # 聚合当前时间间隔的数据\n",
    "            aggregate_interval_data(interval_key, minutes)\n",
    "    \n",
    "    # 为每个时间间隔启动一个单独的线程\n",
    "    for interval_key, minutes in INTERVALS.items():\n",
    "        threading.Thread(target=run_timer, args=(interval_key, minutes), daemon=True).start()\n",
    "\n",
    "def start_market_hours_check():\n",
    "    \"\"\"启动市场交易时间检查线程，可选，用于只在市场开盘时收集数据\"\"\"\n",
    "    def check_market_hours():\n",
    "        while True:\n",
    "            now = get_eastern_time()\n",
    "            # 检查是否为交易日（周一至周五）\n",
    "            is_weekday = 0 <= now.weekday() <= 4\n",
    "            # 检查是否在交易时间（美东时间上午9:30至下午4:00）\n",
    "            is_trading_hours = (9 < now.hour or (now.hour == 9 and now.minute >= 30)) and now.hour < 16\n",
    "            \n",
    "            # 打印市场状态\n",
    "            if is_weekday and is_trading_hours:\n",
    "                logger.info(\"市场开盘中，数据收集活跃\")\n",
    "            else:\n",
    "                logger.info(\"市场已关闭，等待开盘\")\n",
    "            \n",
    "            # 30分钟检查一次\n",
    "            time.sleep(1800)\n",
    "    \n",
    "    threading.Thread(target=check_market_hours, daemon=True).start()"
   ]
  },
  {
   "cell_type": "markdown",
   "id": "bc8aadf9",
   "metadata": {},
   "source": [
    "### 开始统计"
   ]
  },
  {
   "cell_type": "code",
   "execution_count": null,
   "id": "3af0695e",
   "metadata": {},
   "outputs": [
    {
     "name": "stderr",
     "output_type": "stream",
     "text": [
      "2025-05-08 14:14:58,736 - Thread-3 (run_timer) - INFO - \"等待 1min 下一次聚合，将在 2025-05-08 17:15:00 进行，等待 1.26 秒\"\n",
      "2025-05-08 14:14:58,736 - Thread-4 (run_timer) - INFO - \"等待 5min 下一次聚合，将在 2025-05-08 17:15:00 进行，等待 1.26 秒\"\n",
      "2025-05-08 14:14:58,738 - Thread-7 (run_timer) - INFO - \"等待 1h 下一次聚合，将在 2025-05-08 18:00:00 进行，等待 2701.26 秒\"\n",
      "2025-05-08 14:14:58,738 - Thread-5 (run_timer) - INFO - \"等待 15min 下一次聚合，将在 2025-05-08 17:15:00 进行，等待 1.26 秒\"\n",
      "2025-05-08 14:14:58,738 - Thread-6 (run_timer) - INFO - \"等待 30min 下一次聚合，将在 2025-05-08 17:30:00 进行，等待 901.26 秒\"\n",
      "2025-05-08 14:14:58,960 - MainThread - INFO - \"Websocket connected\"\n",
      "2025-05-08 14:14:58,962 - Thread-8 (run) - INFO - \"Subscribed to AAPL\"\n",
      "2025-05-08 14:14:59,069 - Thread-8 (run) - INFO - \"Subscribed to GOOGL\"\n",
      "2025-05-08 14:14:59,177 - Thread-8 (run) - INFO - \"Subscribed to TSLA\"\n",
      "2025-05-08 14:15:00,013 - Thread-4 (run_timer) - INFO - \"等待 5min 下一次聚合，将在 2025-05-08 17:20:00 进行，等待 299.99 秒\"\n",
      "2025-05-08 14:15:00,013 - Thread-3 (run_timer) - INFO - \"等待 1min 下一次聚合，将在 2025-05-08 17:16:00 进行，等待 59.99 秒\"\n",
      "2025-05-08 14:15:00,029 - Thread-5 (run_timer) - INFO - \"等待 15min 下一次聚合，将在 2025-05-08 17:30:00 进行，等待 899.97 秒\"\n"
     ]
    },
    {
     "name": "stdout",
     "output_type": "stream",
     "text": [
      "[GOOGL] Price=153.9 Volume=1 Timestamp=1746738920394\n",
      "[GOOGL] Price=153.87 Volume=1 Timestamp=1746738930490\n",
      "[GOOGL] Price=153.87 Volume=3 Timestamp=1746738930490\n"
     ]
    },
    {
     "name": "stderr",
     "output_type": "stream",
     "text": [
      "2025-05-08 14:16:00,004 - Thread-3 (run_timer) - INFO - \"数据已写入 ./data/raw/1min/GOOGL_1min.csv：2025-05-08 17:16:00\"\n",
      "2025-05-08 14:16:00,006 - Thread-3 (run_timer) - INFO - \"等待 1min 下一次聚合，将在 2025-05-08 17:17:00 进行，等待 59.99 秒\"\n"
     ]
    },
    {
     "name": "stdout",
     "output_type": "stream",
     "text": [
      "[TSLA] Price=284.68 Volume=33 Timestamp=1746738959522\n",
      "[AAPL] Price=197.3 Volume=1 Timestamp=1746738960513\n",
      "[TSLA] Price=284.65 Volume=33 Timestamp=1746738971312\n",
      "[TSLA] Price=284.65 Volume=17 Timestamp=1746738971312\n",
      "[GOOGL] Price=153.89 Volume=6 Timestamp=1746738981297\n",
      "[GOOGL] Price=153.9 Volume=30 Timestamp=1746738982409\n",
      "[TSLA] Price=284.66 Volume=2 Timestamp=1746738996287\n",
      "[AAPL] Price=197.29 Volume=1 Timestamp=1746739005640\n"
     ]
    },
    {
     "name": "stderr",
     "output_type": "stream",
     "text": [
      "2025-05-08 14:17:00,007 - Thread-3 (run_timer) - INFO - \"数据已写入 ./data/raw/1min/GOOGL_1min.csv：2025-05-08 17:17:00\"\n",
      "2025-05-08 14:17:00,008 - Thread-3 (run_timer) - INFO - \"数据已写入 ./data/raw/1min/TSLA_1min.csv：2025-05-08 17:17:00\"\n",
      "2025-05-08 14:17:00,010 - Thread-3 (run_timer) - INFO - \"数据已写入 ./data/raw/1min/AAPL_1min.csv：2025-05-08 17:17:00\"\n",
      "2025-05-08 14:17:00,011 - Thread-3 (run_timer) - INFO - \"等待 1min 下一次聚合，将在 2025-05-08 17:18:00 进行，等待 59.99 秒\"\n"
     ]
    },
    {
     "name": "stdout",
     "output_type": "stream",
     "text": [
      "[TSLA] Price=284.72 Volume=1 Timestamp=1746739020002\n",
      "[TSLA] Price=284.64 Volume=51 Timestamp=1746739020091\n",
      "[GOOGL] Price=153.87 Volume=50 Timestamp=1746739050577\n",
      "[GOOGL] Price=153.87 Volume=5 Timestamp=1746739050577\n",
      "[GOOGL] Price=153.87 Volume=3 Timestamp=1746739050577\n",
      "[GOOGL] Price=153.87 Volume=20 Timestamp=1746739050577\n",
      "[GOOGL] Price=153.87 Volume=8 Timestamp=1746739050577\n",
      "[AAPL] Price=197.29 Volume=13 Timestamp=1746739058426\n",
      "[AAPL] Price=197.29 Volume=87 Timestamp=1746739058426\n",
      "[AAPL] Price=197.29 Volume=100 Timestamp=1746739061235\n",
      "[AAPL] Price=197.28 Volume=2 Timestamp=1746739061235\n",
      "[AAPL] Price=197.27 Volume=13 Timestamp=1746739061235\n",
      "[AAPL] Price=197.26 Volume=2 Timestamp=1746739061235\n",
      "[AAPL] Price=197.25 Volume=8 Timestamp=1746739061237\n",
      "[AAPL] Price=197.25 Volume=1 Timestamp=1746739061237\n",
      "[AAPL] Price=197.25 Volume=34 Timestamp=1746739061237\n",
      "[AAPL] Price=197.25 Volume=1 Timestamp=1746739061237\n",
      "[AAPL] Price=197.25 Volume=1 Timestamp=1746739061238\n",
      "[AAPL] Price=197.25 Volume=2 Timestamp=1746739061238\n",
      "[AAPL] Price=197.25 Volume=3 Timestamp=1746739061238\n",
      "[AAPL] Price=197.25 Volume=1 Timestamp=1746739061238\n",
      "[AAPL] Price=197.25 Volume=30 Timestamp=1746739061238\n",
      "[AAPL] Price=197.25 Volume=1 Timestamp=1746739061238\n",
      "[AAPL] Price=197.24 Volume=1 Timestamp=1746739061238\n",
      "[AAPL] Price=197.24 Volume=1 Timestamp=1746739061238\n",
      "[AAPL] Price=197.24 Volume=33 Timestamp=1746739077212\n",
      "[AAPL] Price=197.23 Volume=5 Timestamp=1746739077212\n",
      "[AAPL] Price=197.23 Volume=1 Timestamp=1746739077212\n",
      "[AAPL] Price=197.22 Volume=1 Timestamp=1746739077212\n",
      "[AAPL] Price=197.22 Volume=1 Timestamp=1746739077212\n",
      "[AAPL] Price=197.22 Volume=10 Timestamp=1746739077212\n",
      "[AAPL] Price=197.21 Volume=2 Timestamp=1746739077212\n",
      "[AAPL] Price=197.21 Volume=5 Timestamp=1746739077212\n",
      "[AAPL] Price=197.21 Volume=3 Timestamp=1746739077212\n",
      "[AAPL] Price=197.21 Volume=100 Timestamp=1746739077213\n",
      "[AAPL] Price=197.2 Volume=3 Timestamp=1746739077215\n",
      "[AAPL] Price=197.2 Volume=1 Timestamp=1746739077215\n",
      "[AAPL] Price=197.2 Volume=1 Timestamp=1746739077215\n",
      "[AAPL] Price=197.2 Volume=2 Timestamp=1746739077215\n",
      "[AAPL] Price=197.2 Volume=3 Timestamp=1746739077215\n",
      "[AAPL] Price=197.2 Volume=1 Timestamp=1746739077215\n",
      "[AAPL] Price=197.2 Volume=1 Timestamp=1746739077224\n",
      "[AAPL] Price=197.2 Volume=48 Timestamp=1746739078993\n",
      "[AAPL] Price=197.2 Volume=4 Timestamp=1746739078993\n"
     ]
    },
    {
     "name": "stderr",
     "output_type": "stream",
     "text": [
      "2025-05-08 14:18:00,011 - Thread-3 (run_timer) - INFO - \"数据已写入 ./data/raw/1min/GOOGL_1min.csv：2025-05-08 17:18:00\"\n",
      "2025-05-08 14:18:00,012 - Thread-3 (run_timer) - INFO - \"数据已写入 ./data/raw/1min/TSLA_1min.csv：2025-05-08 17:18:00\"\n",
      "2025-05-08 14:18:00,013 - Thread-3 (run_timer) - INFO - \"数据已写入 ./data/raw/1min/AAPL_1min.csv：2025-05-08 17:18:00\"\n",
      "2025-05-08 14:18:00,014 - Thread-3 (run_timer) - INFO - \"等待 1min 下一次聚合，将在 2025-05-08 17:19:00 进行，等待 59.99 秒\"\n"
     ]
    },
    {
     "name": "stdout",
     "output_type": "stream",
     "text": [
      "[AAPL] Price=197.18 Volume=4 Timestamp=1746739081635\n",
      "[AAPL] Price=197.18 Volume=20 Timestamp=1746739081635\n",
      "[GOOGL] Price=153.88 Volume=1 Timestamp=1746739111536\n",
      "[TSLA] Price=284.7 Volume=33 Timestamp=1746739124982\n"
     ]
    },
    {
     "name": "stderr",
     "output_type": "stream",
     "text": [
      "2025-05-08 14:19:00,002 - Thread-3 (run_timer) - INFO - \"数据已写入 ./data/raw/1min/GOOGL_1min.csv：2025-05-08 17:19:00\"\n",
      "2025-05-08 14:19:00,004 - Thread-3 (run_timer) - INFO - \"数据已写入 ./data/raw/1min/TSLA_1min.csv：2025-05-08 17:19:00\"\n",
      "2025-05-08 14:19:00,004 - Thread-3 (run_timer) - INFO - \"数据已写入 ./data/raw/1min/AAPL_1min.csv：2025-05-08 17:19:00\"\n",
      "2025-05-08 14:19:00,005 - Thread-3 (run_timer) - INFO - \"等待 1min 下一次聚合，将在 2025-05-08 17:20:00 进行，等待 59.99 秒\"\n"
     ]
    },
    {
     "name": "stdout",
     "output_type": "stream",
     "text": [
      "[TSLA] Price=284.74 Volume=15 Timestamp=1746739156131\n",
      "[TSLA] Price=284.66 Volume=15 Timestamp=1746739181035\n"
     ]
    },
    {
     "name": "stderr",
     "output_type": "stream",
     "text": [
      "2025-05-08 14:20:00,004 - Thread-3 (run_timer) - INFO - \"数据已写入 ./data/raw/1min/TSLA_1min.csv：2025-05-08 17:20:00\"\n",
      "2025-05-08 14:20:00,005 - Thread-4 (run_timer) - INFO - \"数据已写入 ./data/raw/5min/GOOGL_5min.csv：2025-05-08 17:20:00\"\n",
      "2025-05-08 14:20:00,005 - Thread-3 (run_timer) - INFO - \"等待 1min 下一次聚合，将在 2025-05-08 17:21:00 进行，等待 59.99 秒\"\n",
      "2025-05-08 14:20:00,007 - Thread-4 (run_timer) - INFO - \"数据已写入 ./data/raw/5min/TSLA_5min.csv：2025-05-08 17:20:00\"\n",
      "2025-05-08 14:20:00,008 - Thread-4 (run_timer) - INFO - \"数据已写入 ./data/raw/5min/AAPL_5min.csv：2025-05-08 17:20:00\"\n",
      "2025-05-08 14:20:00,009 - Thread-4 (run_timer) - INFO - \"等待 5min 下一次聚合，将在 2025-05-08 17:25:00 进行，等待 299.99 秒\"\n"
     ]
    },
    {
     "name": "stdout",
     "output_type": "stream",
     "text": [
      "[TSLA] Price=284.65 Volume=33 Timestamp=1746739205461\n",
      "[TSLA] Price=284.66 Volume=15 Timestamp=1746739208565\n",
      "[AAPL] Price=197.23 Volume=1 Timestamp=1746739214945\n",
      "[GOOGL] Price=153.93 Volume=5 Timestamp=1746739232339\n",
      "[GOOGL] Price=153.92 Volume=1 Timestamp=1746739232340\n",
      "[GOOGL] Price=153.92 Volume=2 Timestamp=1746739232340\n",
      "[GOOGL] Price=153.91 Volume=3 Timestamp=1746739232342\n",
      "[GOOGL] Price=153.9 Volume=1 Timestamp=1746739232344\n",
      "[GOOGL] Price=153.9 Volume=4 Timestamp=1746739232344\n",
      "[GOOGL] Price=153.9 Volume=5 Timestamp=1746739232344\n",
      "[AAPL] Price=197.27 Volume=1 Timestamp=1746739235392\n",
      "[GOOGL] Price=153.89 Volume=1 Timestamp=1746739238704\n",
      "[GOOGL] Price=153.88 Volume=1 Timestamp=1746739238705\n"
     ]
    },
    {
     "name": "stderr",
     "output_type": "stream",
     "text": [
      "2025-05-08 14:21:00,010 - Thread-3 (run_timer) - INFO - \"数据已写入 ./data/raw/1min/GOOGL_1min.csv：2025-05-08 17:21:00\"\n",
      "2025-05-08 14:21:00,012 - Thread-3 (run_timer) - INFO - \"数据已写入 ./data/raw/1min/TSLA_1min.csv：2025-05-08 17:21:00\"\n",
      "2025-05-08 14:21:00,013 - Thread-3 (run_timer) - INFO - \"数据已写入 ./data/raw/1min/AAPL_1min.csv：2025-05-08 17:21:00\"\n",
      "2025-05-08 14:21:00,013 - Thread-3 (run_timer) - INFO - \"等待 1min 下一次聚合，将在 2025-05-08 17:22:00 进行，等待 59.99 秒\"\n"
     ]
    },
    {
     "name": "stdout",
     "output_type": "stream",
     "text": [
      "[TSLA] Price=284.68 Volume=33 Timestamp=1746739269745\n"
     ]
    },
    {
     "name": "stderr",
     "output_type": "stream",
     "text": [
      "2025-05-08 14:22:00,015 - Thread-3 (run_timer) - INFO - \"数据已写入 ./data/raw/1min/TSLA_1min.csv：2025-05-08 17:22:00\"\n",
      "2025-05-08 14:22:00,016 - Thread-3 (run_timer) - INFO - \"等待 1min 下一次聚合，将在 2025-05-08 17:23:00 进行，等待 59.98 秒\"\n"
     ]
    },
    {
     "name": "stdout",
     "output_type": "stream",
     "text": [
      "[GOOGL] Price=153.88 Volume=1 Timestamp=1746739344372\n",
      "[GOOGL] Price=153.89 Volume=69 Timestamp=1746739372641\n",
      "[GOOGL] Price=153.89 Volume=17 Timestamp=1746739372641\n"
     ]
    },
    {
     "name": "stderr",
     "output_type": "stream",
     "text": [
      "2025-05-08 14:23:00,016 - Thread-3 (run_timer) - INFO - \"数据已写入 ./data/raw/1min/GOOGL_1min.csv：2025-05-08 17:23:00\"\n",
      "2025-05-08 14:23:00,017 - Thread-3 (run_timer) - INFO - \"等待 1min 下一次聚合，将在 2025-05-08 17:24:00 进行，等待 59.98 秒\"\n"
     ]
    },
    {
     "name": "stdout",
     "output_type": "stream",
     "text": [
      "[AAPL] Price=197.3 Volume=1 Timestamp=1746739404314\n",
      "[AAPL] Price=197.3 Volume=16 Timestamp=1746739406586\n"
     ]
    },
    {
     "name": "stderr",
     "output_type": "stream",
     "text": [
      "2025-05-08 14:24:00,016 - Thread-3 (run_timer) - INFO - \"数据已写入 ./data/raw/1min/AAPL_1min.csv：2025-05-08 17:24:00\"\n",
      "2025-05-08 14:24:00,017 - Thread-3 (run_timer) - INFO - \"等待 1min 下一次聚合，将在 2025-05-08 17:25:00 进行，等待 59.98 秒\"\n"
     ]
    },
    {
     "name": "stdout",
     "output_type": "stream",
     "text": [
      "[GOOGL] Price=153.92 Volume=6 Timestamp=1746739451412\n",
      "[GOOGL] Price=153.92 Volume=4 Timestamp=1746739451423\n",
      "[AAPL] Price=197.37 Volume=1 Timestamp=1746739463846\n"
     ]
    },
    {
     "name": "stderr",
     "output_type": "stream",
     "text": [
      "2025-05-08 14:25:00,005 - Thread-4 (run_timer) - INFO - \"数据已写入 ./data/raw/5min/GOOGL_5min.csv：2025-05-08 17:25:00\"\n",
      "2025-05-08 14:25:00,005 - Thread-3 (run_timer) - INFO - \"数据已写入 ./data/raw/1min/GOOGL_1min.csv：2025-05-08 17:25:00\"\n",
      "2025-05-08 14:25:00,007 - Thread-4 (run_timer) - INFO - \"数据已写入 ./data/raw/5min/TSLA_5min.csv：2025-05-08 17:25:00\"\n",
      "2025-05-08 14:25:00,008 - Thread-3 (run_timer) - INFO - \"数据已写入 ./data/raw/1min/AAPL_1min.csv：2025-05-08 17:25:00\"\n",
      "2025-05-08 14:25:00,008 - Thread-3 (run_timer) - INFO - \"等待 1min 下一次聚合，将在 2025-05-08 17:26:00 进行，等待 59.99 秒\"\n",
      "2025-05-08 14:25:00,009 - Thread-4 (run_timer) - INFO - \"数据已写入 ./data/raw/5min/AAPL_5min.csv：2025-05-08 17:25:00\"\n",
      "2025-05-08 14:25:00,010 - Thread-4 (run_timer) - INFO - \"等待 5min 下一次聚合，将在 2025-05-08 17:30:00 进行，等待 299.99 秒\"\n"
     ]
    },
    {
     "name": "stdout",
     "output_type": "stream",
     "text": [
      "[GOOGL] Price=153.93 Volume=6 Timestamp=1746739500009\n"
     ]
    },
    {
     "name": "stderr",
     "output_type": "stream",
     "text": [
      "2025-05-08 14:25:08,596 - MainThread - ERROR - \"WebSocket错误: \"\n",
      "2025-05-08 14:25:08,667 - MainThread - ERROR - \"WebSocket关闭: 状态码=None, 消息=None，5秒后尝试重新连接...\"\n"
     ]
    },
    {
     "name": "stdout",
     "output_type": "stream",
     "text": [
      "WebSocket错误: \n",
      "WebSocket关闭: 状态码=None, 消息=None，5秒后尝试重新连接...\n"
     ]
    },
    {
     "name": "stderr",
     "output_type": "stream",
     "text": [
      "2025-05-08 14:25:13,985 - MainThread - INFO - \"Websocket connected\"\n",
      "2025-05-08 14:25:13,986 - Thread-10 (run) - INFO - \"Subscribed to AAPL\"\n",
      "2025-05-08 14:25:14,089 - Thread-10 (run) - INFO - \"Subscribed to GOOGL\"\n",
      "2025-05-08 14:25:14,197 - Thread-10 (run) - INFO - \"Subscribed to TSLA\"\n"
     ]
    }
   ],
   "source": [
    "if __name__ == \"__main__\":\n",
    "    # 启动定时聚合\n",
    "    start_aggregation_timers()\n",
    "    \n",
    "    # ----------- 可选：启动市场交易时间检查，只在市场开盘时收集数据 -----------\n",
    "    # start_market_hours_check()\n",
    "    \n",
    "    # 启动WebSocket连接\n",
    "    ws_app = websocket.WebSocketApp(\n",
    "        WS_URL,\n",
    "        on_open=on_open,\n",
    "        on_message=on_message,\n",
    "        on_error=on_error,\n",
    "        on_close=on_close\n",
    "    )\n",
    "    ws_app.run_forever()"
   ]
  }
 ],
 "metadata": {
  "kernelspec": {
   "display_name": "czw",
   "language": "python",
   "name": "python3"
  },
  "language_info": {
   "codemirror_mode": {
    "name": "ipython",
    "version": 3
   },
   "file_extension": ".py",
   "mimetype": "text/x-python",
   "name": "python",
   "nbconvert_exporter": "python",
   "pygments_lexer": "ipython3",
   "version": "3.10.16"
  }
 },
 "nbformat": 4,
 "nbformat_minor": 5
}
