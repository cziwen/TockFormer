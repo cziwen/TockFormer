{
 "cells": [
  {
   "cell_type": "code",
   "execution_count": 1,
   "id": "badd7acc",
   "metadata": {},
   "outputs": [],
   "source": [
    "%load_ext autoreload\n",
    "%autoreload 2"
   ]
  },
  {
   "cell_type": "code",
   "execution_count": null,
   "id": "initial_id",
   "metadata": {
    "ExecuteTime": {
     "end_time": "2025-05-01T22:21:08.730112Z",
     "start_time": "2025-05-01T22:21:08.727035Z"
    },
    "collapsed": true
   },
   "outputs": [],
   "source": [
    "import pandas as pd\n",
    "import os\n",
    "import torch\n",
    "import joblib\n",
    "import numpy as np\n",
    "\n",
    "from TransformerModel import TimeSeriesTransformer\n",
    "from LSTMModel import TimeSeriesLSTM\n",
    "from torch.utils.data import TensorDataset\n",
    "from Util import create_sequences, sample_dataset, plot_metric, plot_multiple_curves, grid_search, safe_inverse_transform\n",
    "from torch.utils.data import random_split\n",
    "\n",
    "\n",
    "from sklearn.multioutput import MultiOutputRegressor\n",
    "from sklearn.ensemble import StackingRegressor\n",
    "from sklearn.linear_model import Ridge\n",
    "from sklearn.metrics import mean_squared_error"
   ]
  },
  {
   "cell_type": "code",
   "execution_count": null,
   "id": "b1dbd1a3",
   "metadata": {},
   "outputs": [],
   "source": [
    "# 检查设备\n",
    "device = torch.device(\"cuda\" if torch.cuda.is_available() else \"cpu\")\n",
    "device"
   ]
  },
  {
   "cell_type": "code",
   "execution_count": null,
   "id": "a81935864d2eded2",
   "metadata": {
    "ExecuteTime": {
     "end_time": "2025-05-01T22:21:09.734710Z",
     "start_time": "2025-05-01T22:21:09.593395Z"
    }
   },
   "outputs": [],
   "source": [
    "# 准备数据，训练模型时会对train做k-fold。\n",
    "\n",
    "# 准备train\n",
    "df_train = pd.read_csv ('../TockFormerData\\SPY_1hour_train.csv')\n",
    "X, y, scaler, target_indices = create_sequences (df_train, seq_length=32, target_cols=['open', 'high', 'low', 'close'],\n",
    "                                                 scale=True)\n",
    "train_dataset = TensorDataset (X, y)\n",
    "sample_dataset = sample_dataset (train_dataset, 0.1)"
   ]
  },
  {
   "cell_type": "code",
   "execution_count": null,
   "id": "e001f40f2e9e73e2",
   "metadata": {
    "ExecuteTime": {
     "end_time": "2025-05-01T22:21:09.902564Z",
     "start_time": "2025-05-01T22:21:09.895539Z"
    }
   },
   "outputs": [],
   "source": [
    "# 准备test\n",
    "df_test = pd.read_csv ('../TockFormerData\\SPY_1hour_test.csv')\n",
    "X_t, y_t, _, _ = create_sequences (df_test, seq_length=32, target_cols=['open', 'high', 'low', 'close'],\n",
    "                                   scaler=scaler)\n",
    "test_dataset = TensorDataset (X_t, y_t)"
   ]
  },
  {
   "cell_type": "code",
   "execution_count": null,
   "id": "a0639df8",
   "metadata": {},
   "outputs": [],
   "source": [
    "# 准备val\n",
    "df_val = pd.read_csv ('../TockFormerData\\SPY_1hour_validate.csv')\n",
    "X_val, y_val, _, _ = create_sequences (df_val, seq_length=32, target_cols=['open', 'high', 'low', 'close'],\n",
    "                                       scaler=scaler)\n",
    "val_dataset = TensorDataset (X_val, y_val)"
   ]
  },
  {
   "cell_type": "code",
   "execution_count": null,
   "id": "82134f79",
   "metadata": {},
   "outputs": [],
   "source": [
    "# 检查数据集大小\n",
    "print (f\"Train dataset size: {len(train_dataset)}\")\n",
    "print (f\"Sample dataset size: {len(sample_dataset)}\")\n",
    "print (f\"Test dataset size: {len(test_dataset)}\")\n",
    "print (f\"Val dataset size: {len(val_dataset)}\")"
   ]
  },
  {
   "cell_type": "code",
   "execution_count": null,
   "id": "1ecc0b708eab1eb6",
   "metadata": {
    "ExecuteTime": {
     "start_time": "2025-05-01T01:41:21.544357Z"
    },
    "jupyter": {
     "is_executing": true
    }
   },
   "outputs": [],
   "source": [
    "# 定义网格搜索 时序Transformer，找最好的超参数\n",
    "# 固定的初始化参数\n",
    "init_args = {\n",
    "    'input_dim': 49,\n",
    "    'output_dim': 4,\n",
    "    'seq_length': 32,\n",
    "    'dropout': 0.1\n",
    "}\n",
    "\n",
    "# 架构超参数空间\n",
    "param_grid = {\n",
    "    'model_dim': [64, 128],\n",
    "    'num_heads': [2, 4],\n",
    "    'num_layers': [2, 3]\n",
    "}\n",
    "\n",
    "best_params, best_score = grid_search (\n",
    "    TimeSeriesTransformer,\n",
    "    init_args,\n",
    "    sample_dataset,\n",
    "    param_grid,\n",
    "    cv=3,\n",
    "    scaler=scaler,\n",
    "    target_indices=target_indices\n",
    ")\n",
    "\n",
    "print ('Best architecture:', best_params)\n",
    "print ('Best avg CV MSE:', best_score)"
   ]
  },
  {
   "cell_type": "code",
   "execution_count": null,
   "id": "24122201bbc174f1",
   "metadata": {
    "ExecuteTime": {
     "end_time": "2025-05-01T21:38:19.908241Z",
     "start_time": "2025-05-01T21:38:19.906119Z"
    }
   },
   "outputs": [],
   "source": [
    "# 应用最好的参数, 对全体数据进行 cv，检查performance\n",
    "# best_params['input_dim'] = init_args['input_dim']\n",
    "# best_params['output_dim'] = init_args['output_dim']\n",
    "# best_params['seq_length'] = init_args['seq_length']\n",
    "# best_params['dropout'] = init_args['dropout']\n",
    "\n",
    "# 这里为了方便测试，直接使用预先调好的参数\n",
    "best_params_tock = {\n",
    " 'model_dim': 64,\n",
    " 'num_heads': 4,\n",
    " 'num_layers': 3,\n",
    " 'input_dim': 49,\n",
    " 'output_dim': 4,\n",
    " 'seq_length': 32,\n",
    " 'dropout': 0.1\n",
    " }\n",
    "\n",
    "\n",
    "best_params_tock"
   ]
  },
  {
   "cell_type": "code",
   "execution_count": null,
   "id": "e4c5a023659d5e28",
   "metadata": {},
   "outputs": [],
   "source": [
    "# 如果表现优异，对 tock 进行 train\n",
    "tock = TimeSeriesTransformer (**best_params)\n",
    "train_loss, mse_list_train, r2_list_train = tock.train_model (\n",
    "    train_dataset=train_dataset,\n",
    "    val_dataset=val_dataset,\n",
    "    num_epochs=50,\n",
    "    batch_size=32,\n",
    "    learning_rate=1e-4,\n",
    "    scaler=scaler,  # 回归任务需要 scaler 进行逆缩放\n",
    "    target_indices=target_indices,  # 回归任务中目标列索引\n",
    "    patience=10,\n",
    "    log=True,\n",
    ")"
   ]
  },
  {
   "cell_type": "code",
   "execution_count": null,
   "id": "41cd5fb757adb4ec",
   "metadata": {},
   "outputs": [],
   "source": [
    "# 绘制训练结果\n",
    "mse_list = np.array (mse_list_train)\n",
    "r2_list = np.array (r2_list_train)\n",
    "plot_metric (train_loss, y_label=\"loss\", title=\"Train Loss\", color='red')\n",
    "plot_metric (mse_list[:, 3], y_label=\"mse\", title=\"Val MSE\", color='green')\n",
    "plot_metric (r2_list[:, 3], y_label=\"r2\", title=\"Val R²\", color='blue')"
   ]
  },
  {
   "cell_type": "code",
   "execution_count": null,
   "id": "e69d6517c0011e76",
   "metadata": {
    "ExecuteTime": {
     "end_time": "2025-05-01T22:02:51.315729Z",
     "start_time": "2025-05-01T22:02:51.255125Z"
    }
   },
   "outputs": [],
   "source": [
    "# 对test 进行测试\n",
    "mse_list_test, r2_list_test, preds_test, targets = tock.evaluate_model (test_dataset, batch_size=32,\n",
    "                                                                         scaler=scaler, target_indices=target_indices)\n",
    "\n",
    "\n",
    "print (\"测试集 MSE: \", mse_list_test)\n",
    "print (\"测试集 R²: \", r2_list_test)\n",
    "\n",
    "curve_dict = {}\n",
    "curve_dict['predicts'] = preds_test[:, 3]\n",
    "curve_dict['targets'] = targets[:, 3]\n",
    "plot_multiple_curves (curve_dict, x_label='interval', y_label='price')"
   ]
  },
  {
   "cell_type": "code",
   "execution_count": null,
   "id": "b92c4b70",
   "metadata": {},
   "outputs": [],
   "source": [
    "# 网格搜索 LSTM 超参数\n",
    "\n",
    "init_args_lstm = {\n",
    "    'input_dim': 49,\n",
    "    'output_dim': 4,\n",
    "    'seq_length': 32,\n",
    "    'dropout': 0.1\n",
    "}\n",
    "\n",
    "param_grid_lstm = {\n",
    "    'hidden_dim': [64, 128],\n",
    "    'num_layers': [2, 3],\n",
    "}\n",
    "\n",
    "best_params_lstm, best_score_lstm = grid_search (\n",
    "    TimeSeriesLSTM,\n",
    "    init_args_lstm,\n",
    "    sample_dataset,\n",
    "    param_grid=param_grid_lstm,\n",
    "    cv=3,\n",
    "    scaler=scaler,\n",
    "    target_indices=target_indices\n",
    ")\n",
    "\n",
    "print ('Best architecture:', best_params_lstm)\n",
    "print ('Best avg CV MSE:', best_score_lstm)"
   ]
  },
  {
   "cell_type": "code",
   "execution_count": null,
   "id": "bf967917",
   "metadata": {},
   "outputs": [],
   "source": [
    "# 应用最好的参数, 对全体数据进行 cv，检查performance\n",
    "# best_params['input_dim'] = init_args['input_dim']\n",
    "# best_params['output_dim'] = init_args['output_dim']\n",
    "# best_params['seq_length'] = init_args['seq_length']\n",
    "# best_params['dropout'] = init_args['dropout']\n",
    "\n",
    "# 这里为了方便测试，直接使用预先调好的参数\n",
    "best_params_lstm = {\n",
    " 'hidden_dim': 64,\n",
    " 'input_dim': 49,\n",
    " 'output_dim': 4,\n",
    " 'num_layers': 3,\n",
    " 'seq_length': 32,\n",
    " 'dropout': 0.1\n",
    " }\n",
    "\n",
    "best_params_lstm"
   ]
  },
  {
   "cell_type": "code",
   "execution_count": null,
   "id": "c8474c54",
   "metadata": {},
   "outputs": [],
   "source": [
    "# 如果表现优异，对 lstm 进行 train\n",
    "lstm = TimeSeriesLSTM (**best_params_lstm)\n",
    "train_loss, mse_list_train, r2_list_train = lstm.train_model (\n",
    "    train_dataset=train_dataset,\n",
    "    val_dataset=val_dataset,\n",
    "    num_epochs=50,\n",
    "    batch_size=32,\n",
    "    learning_rate=1e-4,\n",
    "    scaler=scaler,  # 回归任务需要 scaler 进行逆缩放\n",
    "    target_indices=target_indices,  # 回归任务中目标列索引\n",
    "    patience=10,\n",
    "    log=True,\n",
    ")\n",
    "\n",
    "# 绘制训练结果\n",
    "mse_list = np.array (mse_list_train)\n",
    "r2_list = np.array (r2_list_train)\n",
    "plot_metric (train_loss, y_label=\"loss\", title=\"Train Loss\", color='red')\n",
    "plot_metric (mse_list[:, 3], y_label=\"mse\", title=\"Val MSE\", color='green')\n",
    "plot_metric (r2_list[:, 3], y_label=\"r2\", title=\"Val R²\", color='blue')"
   ]
  },
  {
   "cell_type": "code",
   "execution_count": null,
   "id": "24646e8d",
   "metadata": {},
   "outputs": [],
   "source": [
    "mse_list_lstm, r2_list_lstm, preds_lstm, targets = lstm.evaluate_model (test_dataset, batch_size=32,\n",
    "                                                                         scaler=scaler, target_indices=target_indices)\n",
    "\n",
    "print (\"测试集 MSE: \", mse_list_lstm)\n",
    "print (\"测试集 R²: \", r2_list_lstm)\n",
    "\n",
    "curve_dict = {}\n",
    "curve_dict['predicts'] = preds_lstm[:, 3]\n",
    "curve_dict['targets'] = targets[:, 3]\n",
    "plot_multiple_curves (curve_dict, x_label='interval', y_label='price')"
   ]
  },
  {
   "cell_type": "code",
   "execution_count": null,
   "id": "f0974671",
   "metadata": {},
   "outputs": [],
   "source": [
    "# 定义 blender 训练参数 (全部杀死) \n",
    "# \n",
    "# （使用自定义blender，而不是sklearn，base在train上训练， blender在 val上训练 即 base 对val 的预测， 最后整体在 test 上测试）\n",
    "\n",
    "# 1) 拆出 numpy array\n",
    "X_train = train_dataset.tensors[0].numpy()\n",
    "y_train = train_dataset.tensors[1].numpy()\n",
    "X_test  = test_dataset.tensors[0].numpy()\n",
    "y_test  = test_dataset.tensors[1].numpy()\n",
    "\n",
    "# 2) 初始化你的两个 PyTorch 模型\n",
    "tock = TimeSeriesTransformer(**best_params_tock)\n",
    "lstm = TimeSeriesLSTM(**best_params_lstm)\n",
    "\n",
    "# 3) 包装成 sklearn 适配器\n",
    "tock_adapter = SklearnAdapter(\n",
    "    model=tock,\n",
    "    scaler=scaler,\n",
    "    val_dataset=val_dataset,\n",
    "    bias_corrector=None,\n",
    "    target_indices=target_indices,\n",
    "    num_epochs=5,\n",
    "    batch_size=32,\n",
    "    learning_rate=1e-4,\n",
    "    patience=10,\n",
    ")\n",
    "\n",
    "lstm_adapter = SklearnAdapter(\n",
    "    model=lstm,\n",
    "    scaler=scaler,\n",
    "    val_dataset=val_dataset,\n",
    "    bias_corrector=None,\n",
    "    target_indices=target_indices,\n",
    "    num_epochs=20,\n",
    "    batch_size=32,\n",
    "    learning_rate=1e-4,\n",
    "    patience=10,\n",
    ")\n",
    "\n",
    "# 4) 定义 stacking regressor\n",
    "base_estimators = [\n",
    "    (\"tock\", tock_adapter),\n",
    "    (\"lstm\", lstm_adapter),\n",
    "]\n",
    "stack = StackingRegressor(\n",
    "    estimators=base_estimators,\n",
    "    final_estimator=Ridge(alpha=1.0),\n",
    "    cv=5,\n",
    "    passthrough=False\n",
    ")\n",
    "\n",
    "# 5) 用 MultiOutputRegressor 包装，使其支持 y.shape = (n_samples, 4)\n",
    "multi_stack = MultiOutputRegressor(stack, n_jobs=1)\n",
    "\n",
    "\n",
    "\n",
    "multi_stack"
   ]
  },
  {
   "cell_type": "code",
   "execution_count": null,
   "id": "0ddb5f64",
   "metadata": {},
   "outputs": [],
   "source": [
    "# 6) 训练\n",
    "multi_stack.fit(X_train, y_train)"
   ]
  },
  {
   "cell_type": "code",
   "execution_count": null,
   "id": "de3d4724",
   "metadata": {},
   "outputs": [],
   "source": [
    "# 预测\n",
    "preds = multi_stack.predict(X_test)  # preds.shape == (n_samples, 4)\n",
    "\n",
    "# 7) 评估\n",
    "# 默认 mean_squared_error 会对 4 维求平均；如需分别看每个维度：\n",
    "mse_all = mean_squared_error(y_test, preds)  \n",
    "mse_per_dim = mean_squared_error(y_test, preds, multioutput=\"raw_values\")\n",
    "print(\"Overall MSE:\", mse_all)\n",
    "print(\"Per-dim MSE:\", mse_per_dim)"
   ]
  },
  {
   "cell_type": "code",
   "execution_count": null,
   "id": "e3d70e96",
   "metadata": {},
   "outputs": [],
   "source": [
    "# 训练 residual module\n",
    "\n",
    "from BiasCorrector import BiasCorrector\n",
    "from sklearn.metrics import mean_squared_error, r2_score\n",
    "\n",
    "\n",
    "x_tensor = val_dataset.tensors[0]  # 输入特征\n",
    "y_tensor = val_dataset.tensors[1]  # 对应标签\n",
    "\n",
    "y = tock.safe_inverse_transform(y_tensor.numpy(), scaler=scaler, target_indices=target_indices)\n",
    "\n",
    "# 使用 base model 进行预测（注意需要 batch 预测，如果模型较大）\n",
    "preds_val = tock.predict_model(x_tensor, scaler=scaler, bias_corrector=None, target_indices=target_indices)  # shape: (N, num_targets)\n",
    "\n",
    "\n",
    "mlp_corrector = BiasCorrector(mode='mean', scale='None')\n",
    "mlp_corrector.fit(preds_val, y)\n"
   ]
  },
  {
   "cell_type": "code",
   "execution_count": null,
   "id": "31f17baa",
   "metadata": {},
   "outputs": [],
   "source": [
    "mse_list_cor, r2_list_cor, preds_cor, targets = tock.evaluate_model (test_dataset, batch_size=32,\n",
    "                                                                         scaler=scaler, target_indices=target_indices,\n",
    "                                                                        bias_corrector=mlp_corrector)\n",
    "\n",
    "print (\"测试集 MSE: \", mse_list_cor)\n",
    "print (\"测试集 R²: \", r2_list_cor)\n",
    "\n",
    "curve_dict = {}\n",
    "curve_dict['predicts'] = preds_cor[:, 3]\n",
    "curve_dict['targets'] = targets[:, 3]\n",
    "plot_multiple_curves (curve_dict, x_label='interval', y_label='price')"
   ]
  },
  {
   "cell_type": "code",
   "execution_count": null,
   "id": "3336e353500bc6e1",
   "metadata": {},
   "outputs": [],
   "source": [
    "# 如果test表现优异，则保存\n",
    "model_out = \"./xxx/xxx/\"\n",
    "scaler_out = \"./xxx/xxx/\"\n",
    "\n",
    "os.makedirs (os.path.dirname (model_out), exist_ok=True)\n",
    "os.makedirs (os.path.dirname (scaler_out), exist_ok=True)\n",
    "\n",
    "print (\"=\" * 10 + \" 保存模型Essentials... \" + \"=\" * 10)\n",
    "torch.save (model.state_dict (), model_out)\n",
    "joblib.dump (scaler, scaler_out)"
   ]
  },
  {
   "cell_type": "code",
   "execution_count": null,
   "id": "943f2cf2",
   "metadata": {},
   "outputs": [],
   "source": []
  }
 ],
 "metadata": {
  "kernelspec": {
   "display_name": "TockFormer",
   "language": "python",
   "name": "python3"
  },
  "language_info": {
   "codemirror_mode": {
    "name": "ipython",
    "version": 3
   },
   "file_extension": ".py",
   "mimetype": "text/x-python",
   "name": "python",
   "nbconvert_exporter": "python",
   "pygments_lexer": "ipython3",
   "version": "3.10.17"
  }
 },
 "nbformat": 4,
 "nbformat_minor": 5
}
