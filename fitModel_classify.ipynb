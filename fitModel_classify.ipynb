{
 "cells": [
  {
   "metadata": {},
   "cell_type": "markdown",
   "source": "# 训练分类模型。涨跌趋势分类模型",
   "id": "2b3e42cc3229a7b0"
  },
  {
   "cell_type": "code",
   "id": "initial_id",
   "metadata": {
    "collapsed": true,
    "ExecuteTime": {
     "end_time": "2025-05-10T04:54:15.666549Z",
     "start_time": "2025-05-10T04:54:15.512773Z"
    }
   },
   "source": [
    "import pandas as pd\n",
    "import matplotlib.pyplot as plt\n",
    "import numpy as np\n",
    "\n",
    "from factorFactory import FactorFactory\n",
    "from sklearn.metrics import accuracy_score, roc_auc_score"
   ],
   "outputs": [],
   "execution_count": 7
  },
  {
   "metadata": {},
   "cell_type": "markdown",
   "source": "### （1）数据预处理：",
   "id": "8af6a7839fe41e3d"
  },
  {
   "metadata": {
    "ExecuteTime": {
     "end_time": "2025-05-10T04:52:34.869939Z",
     "start_time": "2025-05-10T04:52:26.533785Z"
    }
   },
   "cell_type": "code",
   "source": [
    "df = pd.read_csv('SPY_2020-01-01_2025-05-07_5m_raw.csv')\n",
    "\n",
    "# 拿到 y\n",
    "df_label = df.copy()\n",
    "df_label['next_timestamp_return'] = df_label['close'].shift(-1) / df_label['close'] - 1\n",
    "df_label['label'] = (df_label['next_timestamp_return'] > 0).astype(int)\n",
    "y = df_label['label'].to_numpy()\n",
    "\n",
    "\n",
    "# 拿到 X\n",
    "X = df.copy()\n",
    "ff = FactorFactory()\n",
    "X = ff.generate_factors(X, include_bounded_factors=False)\n",
    "\n",
    "X.shape, y.shape"
   ],
   "id": "d9e3009b5f007b4",
   "outputs": [
    {
     "data": {
      "text/plain": [
       "((242741, 127), (242741,))"
      ]
     },
     "execution_count": 3,
     "metadata": {},
     "output_type": "execute_result"
    }
   ],
   "execution_count": 3
  },
  {
   "metadata": {
    "ExecuteTime": {
     "end_time": "2025-05-10T04:52:34.995235Z",
     "start_time": "2025-05-10T04:52:34.933390Z"
    }
   },
   "cell_type": "code",
   "source": [
    "# 清洗数据\n",
    "X['label'] = y\n",
    "\n",
    "# 丢弃包含 NaN 的行\n",
    "X = X.dropna()\n",
    "# 分离出清洗后的 X 和 y\n",
    "y = X['label'].to_numpy()\n",
    "X = X.drop(columns=['label', 'open', 'high', 'low', 'close', 'timestamp'])\n",
    "\n",
    "# 查看新形状\n",
    "X.shape, y.shape"
   ],
   "id": "b96bf1efc6b97d43",
   "outputs": [
    {
     "data": {
      "text/plain": [
       "((242692, 122), (242692,))"
      ]
     },
     "execution_count": 4,
     "metadata": {},
     "output_type": "execute_result"
    }
   ],
   "execution_count": 4
  },
  {
   "metadata": {
    "ExecuteTime": {
     "end_time": "2025-05-10T04:52:35.123700Z",
     "start_time": "2025-05-10T04:52:35.058321Z"
    }
   },
   "cell_type": "code",
   "source": [
    "# 分开数据\n",
    "from sklearn.model_selection import train_test_split\n",
    "\n",
    "X_train, X_test, y_train, y_test = train_test_split(X, y, test_size=0.2, random_state=42)\n"
   ],
   "id": "a0bda933303254be",
   "outputs": [],
   "execution_count": 5
  },
  {
   "metadata": {},
   "cell_type": "markdown",
   "source": "#### 降维度（可选）",
   "id": "b05bc38b3f6aab2c"
  },
  {
   "metadata": {
    "ExecuteTime": {
     "end_time": "2025-05-10T04:55:20.097094Z",
     "start_time": "2025-05-10T04:55:20.058207Z"
    }
   },
   "cell_type": "code",
   "source": [
    "from sklearn.decomposition import PCA\n",
    "\n",
    "# 拟合 PCA\n",
    "pca = PCA()\n",
    "pca.fit(X_train)\n",
    "\n",
    "explained = pca.explained_variance_ratio_\n",
    "cumulative = np.cumsum(explained)\n",
    "\n",
    "percent = 0.6\n",
    "\n",
    "# 找满足累计解释 >= percent% 的主成分个数\n",
    "n_components = np.argmax(cumulative >= percent) + 1\n",
    "print(f\"前 {n_components} 个主成分累计解释了 {cumulative[n_components - 1]:.2%} 的方差\")"
   ],
   "id": "8daf060591e08dd8",
   "outputs": [
    {
     "name": "stdout",
     "output_type": "stream",
     "text": [
      "前 1 个主成分累计解释了 99.75% 的方差\n"
     ]
    }
   ],
   "execution_count": 9
  },
  {
   "metadata": {},
   "cell_type": "markdown",
   "source": "#### 标准化，归一化",
   "id": "6a4ad78969acb522"
  },
  {
   "metadata": {
    "ExecuteTime": {
     "end_time": "2025-05-10T04:49:49.989733Z",
     "start_time": "2025-05-10T04:49:49.594244Z"
    }
   },
   "cell_type": "code",
   "source": [
    "from sklearn.preprocessing import StandardScaler\n",
    "\n",
    "stdScaler = StandardScaler()\n",
    "X_train_scaled = stdScaler.fit_transform(X_train)\n",
    "X_test_scaled = stdScaler.transform(X_test)\n",
    "\n",
    "X_train_scaled.shape, y_train.shape, X_test_scaled.shape, y_test.shape"
   ],
   "id": "e198a7541f73be76",
   "outputs": [
    {
     "ename": "NameError",
     "evalue": "name 'X_train' is not defined",
     "output_type": "error",
     "traceback": [
      "\u001B[0;31m---------------------------------------------------------------------------\u001B[0m",
      "\u001B[0;31mNameError\u001B[0m                                 Traceback (most recent call last)",
      "Input \u001B[0;32mIn [1]\u001B[0m, in \u001B[0;36m<module>\u001B[0;34m\u001B[0m\n\u001B[1;32m      1\u001B[0m \u001B[38;5;28;01mfrom\u001B[39;00m \u001B[38;5;21;01msklearn\u001B[39;00m\u001B[38;5;21;01m.\u001B[39;00m\u001B[38;5;21;01mpreprocessing\u001B[39;00m \u001B[38;5;28;01mimport\u001B[39;00m StandardScaler\n\u001B[1;32m      2\u001B[0m stdScaler \u001B[38;5;241m=\u001B[39m StandardScaler()\n\u001B[0;32m----> 3\u001B[0m X_train_scaled \u001B[38;5;241m=\u001B[39m stdScaler\u001B[38;5;241m.\u001B[39mfit_transform(\u001B[43mX_train\u001B[49m)\n\u001B[1;32m      4\u001B[0m X_test_scaled \u001B[38;5;241m=\u001B[39m stdScaler\u001B[38;5;241m.\u001B[39mtransform(X_test)\n\u001B[1;32m      6\u001B[0m X_train_scaled\u001B[38;5;241m.\u001B[39mshape, y_train\u001B[38;5;241m.\u001B[39mshape, X_test_scaled\u001B[38;5;241m.\u001B[39mshape, y_test\u001B[38;5;241m.\u001B[39mshape\n",
      "\u001B[0;31mNameError\u001B[0m: name 'X_train' is not defined"
     ]
    }
   ],
   "execution_count": 1
  },
  {
   "metadata": {},
   "cell_type": "markdown",
   "source": "### （2）训练模型：",
   "id": "26c5171ce70861cc"
  },
  {
   "metadata": {},
   "cell_type": "markdown",
   "source": "#### 线形分类",
   "id": "800c097575aad885"
  },
  {
   "metadata": {
    "ExecuteTime": {
     "end_time": "2025-05-10T02:31:44.804771Z",
     "start_time": "2025-05-10T02:31:41.884208Z"
    }
   },
   "cell_type": "code",
   "source": [
    "from sklearn.linear_model import LogisticRegression\n",
    "\n",
    "lgr = LogisticRegression(penalty='l2', C=1.0, max_iter=5000, random_state=42, n_jobs=-1)\n",
    "lgr.fit(X_train_scaled, y_train)\n",
    "acc_lgr = lgr.score(X_test_scaled, y_test)\n",
    "auc_lgr = roc_auc_score(y_test, lgr.predict_proba(X_test_scaled)[:, 1])\n",
    "print(\"LogisticRegression - Accuracy:\", acc_lgr, \"AUC:\", auc_lgr)"
   ],
   "id": "2592851091df0756",
   "outputs": [
    {
     "name": "stdout",
     "output_type": "stream",
     "text": [
      "LogisticRegression - Accuracy: 0.5194585796987989 AUC: 0.5288741131131051\n"
     ]
    }
   ],
   "execution_count": 5
  },
  {
   "metadata": {
    "ExecuteTime": {
     "end_time": "2025-05-10T02:32:14.272228Z",
     "start_time": "2025-05-10T02:31:44.862890Z"
    }
   },
   "cell_type": "code",
   "source": [
    "from sklearn.ensemble import RandomForestClassifier\n",
    "\n",
    "rf = RandomForestClassifier(n_estimators=100, random_state=42, n_jobs=-1)\n",
    "rf.fit(X_train_scaled, y_train)\n",
    "acc_rf = rf.score(X_test_scaled, y_test)\n",
    "auc_rf = roc_auc_score(y_test, rf.predict_proba(X_test_scaled)[:, 1])\n",
    "print(\"Random Forest - Accuracy:\", acc_rf, \"AUC:\", auc_rf)"
   ],
   "id": "60cb6b4265d51d36",
   "outputs": [
    {
     "name": "stdout",
     "output_type": "stream",
     "text": [
      "Random Forest - Accuracy: 0.5095078184552628 AUC: 0.5131969758406619\n"
     ]
    }
   ],
   "execution_count": 6
  },
  {
   "metadata": {
    "ExecuteTime": {
     "end_time": "2025-05-10T02:41:44.839159Z",
     "start_time": "2025-05-10T02:32:14.333192Z"
    }
   },
   "cell_type": "code",
   "source": [
    "from sklearn.ensemble import GradientBoostingClassifier\n",
    "\n",
    "gb = GradientBoostingClassifier(n_estimators=100, learning_rate=0.01, random_state=42)\n",
    "gb.fit(X_train_scaled, y_train)\n",
    "acc_gb = gb.score(X_test_scaled, y_test)\n",
    "auc_gb = roc_auc_score(y_test, gb.predict_proba(X_test_scaled)[:, 1])\n",
    "print(\"Gradient Boosting - Accuracy:\", acc_gb, \"AUC:\", auc_gb)"
   ],
   "id": "7bcb6914a92cfec0",
   "outputs": [
    {
     "name": "stdout",
     "output_type": "stream",
     "text": [
      "Gradient Boosting - Accuracy: 0.5178722264570758 AUC: 0.5290655070065187\n"
     ]
    }
   ],
   "execution_count": 7
  },
  {
   "metadata": {
    "jupyter": {
     "is_executing": true
    },
    "ExecuteTime": {
     "start_time": "2025-05-10T02:41:44.865716Z"
    }
   },
   "cell_type": "code",
   "source": [
    "from sklearn.svm import SVC\n",
    "\n",
    "svc = SVC(probability=True, kernel='rbf', C=1.0, random_state=42)\n",
    "svc.fit(X_train_scaled, y_train)\n",
    "acc_svc = svc.score(X_test_scaled, y_test)\n",
    "auc_svc = roc_auc_score(y_test, svc.predict_proba(X_test_scaled)[:, 1])\n",
    "print(\"SVC - Accuracy:\", acc_svc, \"AUC:\", auc_svc)"
   ],
   "id": "68f7947931c945b1",
   "outputs": [],
   "execution_count": null
  },
  {
   "metadata": {},
   "cell_type": "code",
   "outputs": [],
   "execution_count": null,
   "source": [
    "from sklearn.neighbors import KNeighborsClassifier\n",
    "\n",
    "knn = KNeighborsClassifier(n_neighbors=5, n_jobs=-1)\n",
    "knn.fit(X_train_scaled, y_train)\n",
    "acc_knn = knn.score(X_test_scaled, y_test)\n",
    "auc_knn = roc_auc_score(y_test, knn.predict_proba(X_test_scaled)[:, 1])\n",
    "print(\"KNN - Accuracy:\", acc_knn, \"AUC:\", auc_knn)"
   ],
   "id": "9a93952001b4f3"
  },
  {
   "metadata": {},
   "cell_type": "code",
   "outputs": [],
   "execution_count": null,
   "source": [
    "from sklearn.linear_model import SGDClassifier\n",
    "\n",
    "sgd = SGDClassifier(loss='log_loss', max_iter=1000, random_state=42)\n",
    "sgd.fit(X_train_scaled, y_train)\n",
    "acc_sgd = sgd.score(X_test_scaled, y_test)\n",
    "y_proba_sgd = sgd.predict_proba(X_test_scaled)[:, 1]\n",
    "auc_sgd = roc_auc_score(y_test, y_proba_sgd)\n",
    "print(\"SGDClassifier - Accuracy:\", acc_sgd, \"AUC:\", auc_sgd)"
   ],
   "id": "22d36e3db6c57bc1"
  },
  {
   "metadata": {},
   "cell_type": "code",
   "outputs": [],
   "execution_count": null,
   "source": [
    "from sklearn.naive_bayes import GaussianNB\n",
    "\n",
    "nb = GaussianNB()\n",
    "nb.fit(X_train_scaled, y_train)\n",
    "acc_nb = nb.score(X_test_scaled, y_test)\n",
    "auc_nb = roc_auc_score(y_test, nb.predict_proba(X_test_scaled)[:, 1])\n",
    "print(\"Naive Bayes - Accuracy:\", acc_nb, \"AUC:\", auc_nb)"
   ],
   "id": "4fb1a952b1de0eb0"
  }
 ],
 "metadata": {
  "kernelspec": {
   "display_name": "Python 3",
   "language": "python",
   "name": "python3"
  },
  "language_info": {
   "codemirror_mode": {
    "name": "ipython",
    "version": 2
   },
   "file_extension": ".py",
   "mimetype": "text/x-python",
   "name": "python",
   "nbconvert_exporter": "python",
   "pygments_lexer": "ipython2",
   "version": "2.7.6"
  }
 },
 "nbformat": 4,
 "nbformat_minor": 5
}
