{
 "cells": [
  {
   "cell_type": "code",
   "execution_count": null,
   "id": "3f3486b1",
   "metadata": {},
   "outputs": [],
   "source": [
    "# 指定各模型保存目录\n",
    "base_model_dir = \"../TockFormerModels/BaseModels\"\n",
    "scaler_dir     = \"../TockFormerModels/Scalers\"\n",
    "blender_dir    = \"../TockFormerModels/Blenders\"\n",
    "\n",
    "\n",
    "# 填入你保存时用的日期\n",
    "date_str = datetime.now().strftime(\"%Y%m%d\")"
   ]
  },
  {
   "cell_type": "code",
   "execution_count": null,
   "id": "639aeb01",
   "metadata": {},
   "outputs": [],
   "source": [
    "# 组装各文件完整路径\n",
    "transformer_path = os.path.join(base_model_dir, f\"Transformer_{date_str}.pth\")\n",
    "lstm_path        = os.path.join(base_model_dir, f\"LSTM_{date_str}.pth\")\n",
    "ridge_path       = os.path.join(base_model_dir, f\"Ridge_{date_str}.pkl\")\n",
    "xgbst_path       = os.path.join(base_model_dir, f\"XGBST_MultiOutput_{date_str}.pkl\")\n",
    "scaler_path      = os.path.join(scaler_dir,     f\"StandardScaler_{date_str}.pkl\")\n",
    "blender_path     = os.path.join(blender_dir,    f\"RidgeBlender_{date_str}.pkl\")"
   ]
  },
  {
   "cell_type": "code",
   "execution_count": null,
   "id": "15a7d9fa",
   "metadata": {},
   "outputs": [],
   "source": [
    "# 检查设备\n",
    "device = torch.device(\"cuda\" if torch.cuda.is_available() else \"cpu\")\n",
    "device"
   ]
  },
  {
   "cell_type": "code",
   "execution_count": null,
   "id": "6c2fecbe",
   "metadata": {},
   "outputs": [],
   "source": [
    "# 加载pytorch类\n",
    "from TransformerModel import TimeSeriesTransformer\n",
    "from LSTMModel       import TimeSeriesLSTM\n",
    "\n",
    "\n",
    "# ———— 根据你实际的超参来初始化 ————\n",
    "tock = TimeSeriesTransformer(\n",
    "    input_dim=49,\n",
    "    model_dim=128,\n",
    "    num_heads=4,\n",
    "    num_layers=2,\n",
    "    dropout=0.1,\n",
    "    seq_length=60,\n",
    "    output_dim=4\n",
    ")\n",
    "tock.load_state_dict(torch.load(transformer_path, map_location=device))\n",
    "\n",
    "\n",
    "lstm = TimeSeriesLSTM(\n",
    "    input_size=49,\n",
    "    hidden_size=128,\n",
    "    num_layers=2,\n",
    "    output_size=4\n",
    ")\n",
    "lstm.load_state_dict(torch.load(lstm_path, map_location=device))"
   ]
  },
  {
   "cell_type": "code",
   "execution_count": null,
   "id": "24c22c2c",
   "metadata": {},
   "outputs": [],
   "source": [
    "# 加载 sklearn/XGBoost 模型与 Scaler\n",
    "ridge         = joblib.load(ridge_path)\n",
    "xgbst_mlt     = joblib.load(xgbst_path)\n",
    "scaler        = joblib.load(scaler_path)\n",
    "ridge_blender = joblib.load(blender_path)"
   ]
  },
  {
   "cell_type": "code",
   "execution_count": null,
   "id": "4f176bdd",
   "metadata": {},
   "outputs": [],
   "source": [
    "import numpy as np\n",
    "import pandas as pd\n",
    "\n",
    "# 数据参数\n",
    "seq_len = 32\n",
    "target_cols = [\"open\", \"high\", \"low\", \"close\"]\n",
    "\n",
    "# 读取数据\n",
    "# df = pd.load_csv(\"xxxxx.csv\")\n",
    "\n",
    "X, y, _, _ = create_sequences(df, seq_length=seq_len, target_cols=target_cols, scaler=scaler)"
   ]
  },
  {
   "cell_type": "code",
   "execution_count": null,
   "id": "6c3adf5a",
   "metadata": {},
   "outputs": [],
   "source": [
    "\n",
    "# 各基模型预测\n",
    "pred_tock = tock.predict_model()\n",
    "pred_lstm = lstem.predict_model()\n",
    "\n",
    "pred_ridge = ridge.predict(X_scaled)\n",
    "pred_xgb   = xgbst_mlt.predict(X_scaled)"
   ]
  },
  {
   "cell_type": "code",
   "execution_count": null,
   "id": "746f97d7",
   "metadata": {},
   "outputs": [],
   "source": [
    "# 拼接做 Blender\n",
    "# 这里假设你有4个基模型的预测结果，形状 (n_models, model_output_dim)\n",
    "blend_input = np.concatenate([\n",
    "    pred_tock,\n",
    "    pred_lstm,\n",
    "    pred_ridge,\n",
    "    pred_xgb\n",
    "], axis=1)\n",
    "\n",
    "blend_pred = ridge_blender.predict(blend_input)\n",
    "\n",
    "print(\"Blended 预测结果示例：\")\n",
    "print(blend_pred[:5])"
   ]
  }
 ],
 "metadata": {
  "language_info": {
   "name": "python"
  }
 },
 "nbformat": 4,
 "nbformat_minor": 5
}
