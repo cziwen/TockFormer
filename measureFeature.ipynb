{
 "cells": [
  {
   "metadata": {},
   "cell_type": "markdown",
   "source": "## 测量因子",
   "id": "4fe53b9b44901e09"
  },
  {
   "metadata": {
    "collapsed": true,
    "ExecuteTime": {
     "end_time": "2025-05-27T19:54:42.229157Z",
     "start_time": "2025-05-27T19:54:40.133307Z"
    }
   },
   "cell_type": "code",
   "source": [
    "import pandas as pd\n",
    "import numpy as np\n",
    "\n",
    "from Utility.factorFactory import FactorFactory\n",
    "import matplotlib.pyplot as plt\n",
    "\n",
    "from Utility.registry import FACTOR_REGISTRY"
   ],
   "id": "initial_id",
   "outputs": [
    {
     "name": "stderr",
     "output_type": "stream",
     "text": [
      "/Users/ziwenchen/miniconda3/envs/TockFormer/lib/python3.10/site-packages/tqdm/auto.py:21: TqdmWarning: IProgress not found. Please update jupyter and ipywidgets. See https://ipywidgets.readthedocs.io/en/stable/user_install.html\n",
      "  from .autonotebook import tqdm as notebook_tqdm\n"
     ]
    }
   ],
   "execution_count": 1
  },
  {
   "metadata": {},
   "cell_type": "markdown",
   "source": "### （1）预处理数据：",
   "id": "da8929de9df70348"
  },
  {
   "metadata": {
    "ExecuteTime": {
     "end_time": "2025-05-27T19:54:42.438251Z",
     "start_time": "2025-05-27T19:54:42.235881Z"
    }
   },
   "cell_type": "code",
   "source": [
    "df = pd.read_csv ('SPY_2020-07-01_2021-07-01_minute.csv')\n",
    "df = df.head(5000)\n",
    "df.shape"
   ],
   "id": "286b83766d921af8",
   "outputs": [
    {
     "data": {
      "text/plain": [
       "(5000, 17)"
      ]
     },
     "execution_count": 2,
     "metadata": {},
     "output_type": "execute_result"
    }
   ],
   "execution_count": 2
  },
  {
   "metadata": {
    "ExecuteTime": {
     "end_time": "2025-05-27T19:54:42.501476Z",
     "start_time": "2025-05-27T19:54:42.499101Z"
    }
   },
   "cell_type": "code",
   "source": "df.columns",
   "id": "13fb26b2e2cf68fa",
   "outputs": [
    {
     "data": {
      "text/plain": [
       "Index(['timestamp', 'open', 'high', 'low', 'close', 'volume', 'dollar_volume',\n",
       "       'tick_count', 'trade_size_mean', 'trade_size_std', 'zero_return_count',\n",
       "       'price_direction_ratio', 'large_trade_count', 'large_trade_volume',\n",
       "       'vwap', 'large_trade_ratio', 'large_trade_volume_ratio'],\n",
       "      dtype='object')"
      ]
     },
     "execution_count": 3,
     "metadata": {},
     "output_type": "execute_result"
    }
   ],
   "execution_count": 3
  },
  {
   "metadata": {
    "ExecuteTime": {
     "end_time": "2025-05-27T19:54:42.647582Z",
     "start_time": "2025-05-27T19:54:42.576485Z"
    }
   },
   "cell_type": "code",
   "source": "finfact = FactorFactory (df, forward_period=5, window=100, scaler='abs_minmax', top_k=500, use_disk_cache=True)",
   "id": "45c35eb87726cfd",
   "outputs": [
    {
     "name": "stderr",
     "output_type": "stream",
     "text": [
      "IO Dump: 100%|██████████| 16/16 [00:00<00:00, 1401.90it/s]\n",
      "IO Dump: 0it [00:00, ?it/s]\n"
     ]
    }
   ],
   "execution_count": 4
  },
  {
   "metadata": {
    "ExecuteTime": {
     "end_time": "2025-05-27T19:54:42.667770Z",
     "start_time": "2025-05-27T19:54:42.665073Z"
    }
   },
   "cell_type": "code",
   "source": "FACTOR_REGISTRY.keys()",
   "id": "3cbc44b675a312dd",
   "outputs": [
    {
     "data": {
      "text/plain": [
       "dict_keys(['rsi', 'sma', 'ema', 'macd', 'bbpband'])"
      ]
     },
     "execution_count": 5,
     "metadata": {},
     "output_type": "execute_result"
    }
   ],
   "execution_count": 5
  },
  {
   "metadata": {
    "ExecuteTime": {
     "end_time": "2025-05-27T19:55:55.730312Z",
     "start_time": "2025-05-27T19:54:42.699585Z"
    }
   },
   "cell_type": "code",
   "source": "finfact.generate_factors(mode='thread', bounded_only=True)",
   "id": "5ba0ebe1c116c8aa",
   "outputs": [
    {
     "name": "stderr",
     "output_type": "stream",
     "text": [
      "IO Load: 100%|██████████| 16/16 [00:00<00:00, 610.31it/s]\n",
      "Applying Factors: 100%|██████████| 32/32 [00:00<00:00, 67.27it/s]\n",
      "Applying Factors: 100%|██████████| 224/224 [00:00<00:00, 496.37it/s]\n",
      "IO Dump: 100%|██████████| 784/784 [00:00<00:00, 2544.94it/s]\n",
      "🔄 Unary op: 100%|██████████| 224/224 [00:00<00:00, 45217.25it/s]\n",
      "IO Dump: 100%|██████████| 224/224 [00:00<00:00, 3016.48it/s]\n",
      "🔄 cross op (thread): 100%|██████████| 25088/25088 [00:31<00:00, 787.34it/s]\n",
      "IO Wash: 100%|██████████| 26096/26096 [00:09<00:00, 2693.18it/s]\n"
     ]
    },
    {
     "name": "stdout",
     "output_type": "stream",
     "text": [
      "dropped 112 constant/nan features\n"
     ]
    },
    {
     "name": "stderr",
     "output_type": "stream",
     "text": [
      "IO Load: 100%|██████████| 1/1 [00:00<00:00, 512.88it/s]\n",
      "ic eval:  11%|█         | 2843/25984 [00:04<00:15, 1517.37it/s]/Users/ziwenchen/miniconda3/envs/TockFormer/lib/python3.10/site-packages/numpy/lib/_nanfunctions_impl.py:1882: RuntimeWarning: invalid value encountered in subtract\n",
      "  np.subtract(arr, avg, out=arr, casting='unsafe', where=where)\n",
      "ic eval:  12%|█▏        | 2997/25984 [00:04<00:15, 1503.68it/s]/Users/ziwenchen/miniconda3/envs/TockFormer/lib/python3.10/site-packages/numpy/lib/_nanfunctions_impl.py:1882: RuntimeWarning: invalid value encountered in subtract\n",
      "  np.subtract(arr, avg, out=arr, casting='unsafe', where=where)\n",
      "ic eval:  23%|██▎       | 6032/25984 [00:06<00:12, 1608.08it/s]/Users/ziwenchen/miniconda3/envs/TockFormer/lib/python3.10/site-packages/numpy/lib/_nanfunctions_impl.py:1882: RuntimeWarning: invalid value encountered in subtract\n",
      "  np.subtract(arr, avg, out=arr, casting='unsafe', where=where)\n",
      "ic eval:  26%|██▋       | 6857/25984 [00:06<00:11, 1636.57it/s]/Users/ziwenchen/miniconda3/envs/TockFormer/lib/python3.10/site-packages/numpy/lib/_nanfunctions_impl.py:1882: RuntimeWarning: invalid value encountered in subtract\n",
      "  np.subtract(arr, avg, out=arr, casting='unsafe', where=where)\n",
      "/Users/ziwenchen/miniconda3/envs/TockFormer/lib/python3.10/site-packages/numpy/lib/_nanfunctions_impl.py:1882: RuntimeWarning: invalid value encountered in subtract\n",
      "  np.subtract(arr, avg, out=arr, casting='unsafe', where=where)\n",
      "ic eval:  27%|██▋       | 7021/25984 [00:06<00:11, 1624.72it/s]/Users/ziwenchen/miniconda3/envs/TockFormer/lib/python3.10/site-packages/numpy/lib/_nanfunctions_impl.py:1882: RuntimeWarning: invalid value encountered in subtract\n",
      "  np.subtract(arr, avg, out=arr, casting='unsafe', where=where)\n",
      "ic eval:  35%|███▌      | 9101/25984 [00:08<00:10, 1556.91it/s]/Users/ziwenchen/miniconda3/envs/TockFormer/lib/python3.10/site-packages/numpy/lib/_nanfunctions_impl.py:1882: RuntimeWarning: invalid value encountered in subtract\n",
      "  np.subtract(arr, avg, out=arr, casting='unsafe', where=where)\n",
      "ic eval:  42%|████▏     | 10905/25984 [00:09<00:08, 1730.12it/s]/Users/ziwenchen/miniconda3/envs/TockFormer/lib/python3.10/site-packages/numpy/lib/_nanfunctions_impl.py:1882: RuntimeWarning: invalid value encountered in subtract\n",
      "  np.subtract(arr, avg, out=arr, casting='unsafe', where=where)\n",
      "ic eval:  43%|████▎     | 11248/25984 [00:09<00:09, 1620.13it/s]/Users/ziwenchen/miniconda3/envs/TockFormer/lib/python3.10/site-packages/numpy/lib/_nanfunctions_impl.py:1882: RuntimeWarning: invalid value encountered in subtract\n",
      "  np.subtract(arr, avg, out=arr, casting='unsafe', where=where)\n",
      "ic eval:  46%|████▋     | 12057/25984 [00:10<00:08, 1581.99it/s]/Users/ziwenchen/miniconda3/envs/TockFormer/lib/python3.10/site-packages/numpy/lib/_nanfunctions_impl.py:1882: RuntimeWarning: invalid value encountered in subtract\n",
      "  np.subtract(arr, avg, out=arr, casting='unsafe', where=where)\n",
      "ic eval:  51%|█████     | 13203/25984 [00:10<00:08, 1571.80it/s]/Users/ziwenchen/miniconda3/envs/TockFormer/lib/python3.10/site-packages/numpy/lib/_nanfunctions_impl.py:1882: RuntimeWarning: invalid value encountered in subtract\n",
      "  np.subtract(arr, avg, out=arr, casting='unsafe', where=where)\n",
      "ic eval:  71%|███████   | 18402/25984 [00:14<00:04, 1696.37it/s]/Users/ziwenchen/miniconda3/envs/TockFormer/lib/python3.10/site-packages/numpy/lib/_nanfunctions_impl.py:1882: RuntimeWarning: invalid value encountered in subtract\n",
      "  np.subtract(arr, avg, out=arr, casting='unsafe', where=where)\n",
      "ic eval:  77%|███████▋  | 19959/25984 [00:14<00:03, 1710.94it/s]/Users/ziwenchen/miniconda3/envs/TockFormer/lib/python3.10/site-packages/numpy/lib/_nanfunctions_impl.py:1882: RuntimeWarning: invalid value encountered in subtract\n",
      "  np.subtract(arr, avg, out=arr, casting='unsafe', where=where)\n",
      "ic eval:  84%|████████▍ | 21807/25984 [00:16<00:02, 1582.31it/s]/Users/ziwenchen/miniconda3/envs/TockFormer/lib/python3.10/site-packages/numpy/lib/_nanfunctions_impl.py:1882: RuntimeWarning: invalid value encountered in subtract\n",
      "  np.subtract(arr, avg, out=arr, casting='unsafe', where=where)\n",
      "ic eval:  91%|█████████ | 23531/25984 [00:17<00:01, 1551.48it/s]/Users/ziwenchen/miniconda3/envs/TockFormer/lib/python3.10/site-packages/numpy/lib/_nanfunctions_impl.py:1882: RuntimeWarning: invalid value encountered in subtract\n",
      "  np.subtract(arr, avg, out=arr, casting='unsafe', where=where)\n",
      "ic eval:  96%|█████████▌| 24943/25984 [00:18<00:00, 1552.04it/s]/Users/ziwenchen/miniconda3/envs/TockFormer/lib/python3.10/site-packages/numpy/lib/_nanfunctions_impl.py:1882: RuntimeWarning: invalid value encountered in subtract\n",
      "  np.subtract(arr, avg, out=arr, casting='unsafe', where=where)\n",
      "ic eval: 100%|██████████| 25984/25984 [00:18<00:00, 1381.46it/s]\n",
      "normalizing: 100%|██████████| 2/2 [00:02<00:00,  1.16s/it]\n",
      "IO Delete: 100%|██████████| 25484/25484 [00:01<00:00, 19776.82it/s]\n",
      "IO Load: 100%|██████████| 500/500 [00:00<00:00, 1241.63it/s]\n"
     ]
    }
   ],
   "execution_count": 6
  },
  {
   "metadata": {},
   "cell_type": "markdown",
   "source": "### （3）评测因子：",
   "id": "a6b2e4c330bffb0c"
  },
  {
   "metadata": {
    "ExecuteTime": {
     "end_time": "2025-05-27T20:21:43.438618Z",
     "start_time": "2025-05-27T20:21:43.431518Z"
    }
   },
   "cell_type": "code",
   "source": "finfact.get_summary ()",
   "id": "98f0f0bb287db840",
   "outputs": [
    {
     "data": {
      "text/plain": [
       "                                                    spearman_ic  pearson_ir  \\\n",
       "rsi_14_(close)_minus_rsi_14_(trade_size_std)          -0.021181   -0.966208   \n",
       "rsi_10_(trade_size_std)_minus_rsi_14_(close)           0.021451    0.961727   \n",
       "rsi_10_(trade_size_mean)_minus_rsi_14_(close)          0.023538    0.914740   \n",
       "bbpband_10_2.0_(trade_size_mean)_minus_bbpband_...    -0.059575   -0.345066   \n",
       "rsi_14_(trade_size_mean)_minus_rsi_14_(close)          0.021830    0.934535   \n",
       "...                                                         ...         ...   \n",
       "bbpband_20_2.0_(zero_return_count)_minus_bbpban...    -0.040077   -0.371627   \n",
       "bbpband_20_2.0_(zero_return_count)_minus_bbpban...    -0.040126   -0.370840   \n",
       "bbpband_20_1.5_(zero_return_count)_minus_bbpban...    -0.040126   -0.370840   \n",
       "bbpband_20_1.5_(close)_minus_bbpband_20_2.0_(vwap)    -0.028904   -0.542358   \n",
       "bbpband_20_1.5_(dollar_volume)_minus_bbpband_20...     0.040126    0.370840   \n",
       "\n",
       "                                                    pearson_ir_norm  \\\n",
       "rsi_14_(close)_minus_rsi_14_(trade_size_std)               1.000000   \n",
       "rsi_10_(trade_size_std)_minus_rsi_14_(close)               0.995343   \n",
       "rsi_10_(trade_size_mean)_minus_rsi_14_(close)              0.946500   \n",
       "bbpband_10_2.0_(trade_size_mean)_minus_bbpband_...         0.354333   \n",
       "rsi_14_(trade_size_mean)_minus_rsi_14_(close)              0.967077   \n",
       "...                                                             ...   \n",
       "bbpband_20_2.0_(zero_return_count)_minus_bbpban...         0.381943   \n",
       "bbpband_20_2.0_(zero_return_count)_minus_bbpban...         0.381124   \n",
       "bbpband_20_1.5_(zero_return_count)_minus_bbpban...         0.381124   \n",
       "bbpband_20_1.5_(close)_minus_bbpband_20_2.0_(vwap)         0.559415   \n",
       "bbpband_20_1.5_(dollar_volume)_minus_bbpband_20...         0.381124   \n",
       "\n",
       "                                                    spearman_ic_norm  \\\n",
       "rsi_14_(close)_minus_rsi_14_(trade_size_std)                0.342194   \n",
       "rsi_10_(trade_size_std)_minus_rsi_14_(close)                0.346559   \n",
       "rsi_10_(trade_size_mean)_minus_rsi_14_(close)               0.380308   \n",
       "bbpband_10_2.0_(trade_size_mean)_minus_bbpband_...          0.962924   \n",
       "rsi_14_(trade_size_mean)_minus_rsi_14_(close)               0.352694   \n",
       "...                                                              ...   \n",
       "bbpband_20_2.0_(zero_return_count)_minus_bbpban...          0.647697   \n",
       "bbpband_20_2.0_(zero_return_count)_minus_bbpban...          0.648490   \n",
       "bbpband_20_1.5_(zero_return_count)_minus_bbpban...          0.648490   \n",
       "bbpband_20_1.5_(close)_minus_bbpband_20_2.0_(vwap)          0.467066   \n",
       "bbpband_20_1.5_(dollar_volume)_minus_bbpband_20...          0.648490   \n",
       "\n",
       "                                                    combined_score  pca_coeff  \\\n",
       "rsi_14_(close)_minus_rsi_14_(trade_size_std)              2.296588   0.055716   \n",
       "rsi_10_(trade_size_std)_minus_rsi_14_(close)              2.296296   0.055716   \n",
       "rsi_10_(trade_size_mean)_minus_rsi_14_(close)             2.292381   0.056354   \n",
       "bbpband_10_2.0_(trade_size_mean)_minus_bbpband_...        2.282830   0.056354   \n",
       "rsi_14_(trade_size_mean)_minus_rsi_14_(close)             2.280368   0.056070   \n",
       "...                                                            ...        ...   \n",
       "bbpband_20_2.0_(zero_return_count)_minus_bbpban...        1.076160   0.003947   \n",
       "bbpband_20_2.0_(zero_return_count)_minus_bbpban...        1.076134   0.003947   \n",
       "bbpband_20_1.5_(zero_return_count)_minus_bbpban...        1.076134   0.003947   \n",
       "bbpband_20_1.5_(close)_minus_bbpband_20_2.0_(vwap)        1.073001   0.003947   \n",
       "bbpband_20_1.5_(dollar_volume)_minus_bbpband_20...        1.069809   0.003586   \n",
       "\n",
       "                                                    pca_coeff_norm  \n",
       "rsi_14_(close)_minus_rsi_14_(trade_size_std)              0.954394  \n",
       "rsi_10_(trade_size_std)_minus_rsi_14_(close)              0.954394  \n",
       "rsi_10_(trade_size_mean)_minus_rsi_14_(close)             0.965573  \n",
       "bbpband_10_2.0_(trade_size_mean)_minus_bbpband_...        0.965573  \n",
       "rsi_14_(trade_size_mean)_minus_rsi_14_(close)             0.960597  \n",
       "...                                                            ...  \n",
       "bbpband_20_2.0_(zero_return_count)_minus_bbpban...        0.046520  \n",
       "bbpband_20_2.0_(zero_return_count)_minus_bbpban...        0.046520  \n",
       "bbpband_20_1.5_(zero_return_count)_minus_bbpban...        0.046520  \n",
       "bbpband_20_1.5_(close)_minus_bbpband_20_2.0_(vwap)        0.046520  \n",
       "bbpband_20_1.5_(dollar_volume)_minus_bbpband_20...        0.040195  \n",
       "\n",
       "[500 rows x 7 columns]"
      ],
      "text/html": [
       "<div>\n",
       "<style scoped>\n",
       "    .dataframe tbody tr th:only-of-type {\n",
       "        vertical-align: middle;\n",
       "    }\n",
       "\n",
       "    .dataframe tbody tr th {\n",
       "        vertical-align: top;\n",
       "    }\n",
       "\n",
       "    .dataframe thead th {\n",
       "        text-align: right;\n",
       "    }\n",
       "</style>\n",
       "<table border=\"1\" class=\"dataframe\">\n",
       "  <thead>\n",
       "    <tr style=\"text-align: right;\">\n",
       "      <th></th>\n",
       "      <th>spearman_ic</th>\n",
       "      <th>pearson_ir</th>\n",
       "      <th>pearson_ir_norm</th>\n",
       "      <th>spearman_ic_norm</th>\n",
       "      <th>combined_score</th>\n",
       "      <th>pca_coeff</th>\n",
       "      <th>pca_coeff_norm</th>\n",
       "    </tr>\n",
       "  </thead>\n",
       "  <tbody>\n",
       "    <tr>\n",
       "      <th>rsi_14_(close)_minus_rsi_14_(trade_size_std)</th>\n",
       "      <td>-0.021181</td>\n",
       "      <td>-0.966208</td>\n",
       "      <td>1.000000</td>\n",
       "      <td>0.342194</td>\n",
       "      <td>2.296588</td>\n",
       "      <td>0.055716</td>\n",
       "      <td>0.954394</td>\n",
       "    </tr>\n",
       "    <tr>\n",
       "      <th>rsi_10_(trade_size_std)_minus_rsi_14_(close)</th>\n",
       "      <td>0.021451</td>\n",
       "      <td>0.961727</td>\n",
       "      <td>0.995343</td>\n",
       "      <td>0.346559</td>\n",
       "      <td>2.296296</td>\n",
       "      <td>0.055716</td>\n",
       "      <td>0.954394</td>\n",
       "    </tr>\n",
       "    <tr>\n",
       "      <th>rsi_10_(trade_size_mean)_minus_rsi_14_(close)</th>\n",
       "      <td>0.023538</td>\n",
       "      <td>0.914740</td>\n",
       "      <td>0.946500</td>\n",
       "      <td>0.380308</td>\n",
       "      <td>2.292381</td>\n",
       "      <td>0.056354</td>\n",
       "      <td>0.965573</td>\n",
       "    </tr>\n",
       "    <tr>\n",
       "      <th>bbpband_10_2.0_(trade_size_mean)_minus_bbpband_20_1.5_(trade_size_mean)</th>\n",
       "      <td>-0.059575</td>\n",
       "      <td>-0.345066</td>\n",
       "      <td>0.354333</td>\n",
       "      <td>0.962924</td>\n",
       "      <td>2.282830</td>\n",
       "      <td>0.056354</td>\n",
       "      <td>0.965573</td>\n",
       "    </tr>\n",
       "    <tr>\n",
       "      <th>rsi_14_(trade_size_mean)_minus_rsi_14_(close)</th>\n",
       "      <td>0.021830</td>\n",
       "      <td>0.934535</td>\n",
       "      <td>0.967077</td>\n",
       "      <td>0.352694</td>\n",
       "      <td>2.280368</td>\n",
       "      <td>0.056070</td>\n",
       "      <td>0.960597</td>\n",
       "    </tr>\n",
       "    <tr>\n",
       "      <th>...</th>\n",
       "      <td>...</td>\n",
       "      <td>...</td>\n",
       "      <td>...</td>\n",
       "      <td>...</td>\n",
       "      <td>...</td>\n",
       "      <td>...</td>\n",
       "      <td>...</td>\n",
       "    </tr>\n",
       "    <tr>\n",
       "      <th>bbpband_20_2.0_(zero_return_count)_minus_bbpband_20_2.0_(volume)</th>\n",
       "      <td>-0.040077</td>\n",
       "      <td>-0.371627</td>\n",
       "      <td>0.381943</td>\n",
       "      <td>0.647697</td>\n",
       "      <td>1.076160</td>\n",
       "      <td>0.003947</td>\n",
       "      <td>0.046520</td>\n",
       "    </tr>\n",
       "    <tr>\n",
       "      <th>bbpband_20_2.0_(zero_return_count)_minus_bbpband_20_2.0_(dollar_volume)</th>\n",
       "      <td>-0.040126</td>\n",
       "      <td>-0.370840</td>\n",
       "      <td>0.381124</td>\n",
       "      <td>0.648490</td>\n",
       "      <td>1.076134</td>\n",
       "      <td>0.003947</td>\n",
       "      <td>0.046520</td>\n",
       "    </tr>\n",
       "    <tr>\n",
       "      <th>bbpband_20_1.5_(zero_return_count)_minus_bbpband_20_1.5_(dollar_volume)</th>\n",
       "      <td>-0.040126</td>\n",
       "      <td>-0.370840</td>\n",
       "      <td>0.381124</td>\n",
       "      <td>0.648490</td>\n",
       "      <td>1.076134</td>\n",
       "      <td>0.003947</td>\n",
       "      <td>0.046520</td>\n",
       "    </tr>\n",
       "    <tr>\n",
       "      <th>bbpband_20_1.5_(close)_minus_bbpband_20_2.0_(vwap)</th>\n",
       "      <td>-0.028904</td>\n",
       "      <td>-0.542358</td>\n",
       "      <td>0.559415</td>\n",
       "      <td>0.467066</td>\n",
       "      <td>1.073001</td>\n",
       "      <td>0.003947</td>\n",
       "      <td>0.046520</td>\n",
       "    </tr>\n",
       "    <tr>\n",
       "      <th>bbpband_20_1.5_(dollar_volume)_minus_bbpband_20_1.5_(zero_return_count)</th>\n",
       "      <td>0.040126</td>\n",
       "      <td>0.370840</td>\n",
       "      <td>0.381124</td>\n",
       "      <td>0.648490</td>\n",
       "      <td>1.069809</td>\n",
       "      <td>0.003586</td>\n",
       "      <td>0.040195</td>\n",
       "    </tr>\n",
       "  </tbody>\n",
       "</table>\n",
       "<p>500 rows × 7 columns</p>\n",
       "</div>"
      ]
     },
     "execution_count": 9,
     "metadata": {},
     "output_type": "execute_result"
    }
   ],
   "execution_count": 9
  },
  {
   "metadata": {
    "ExecuteTime": {
     "end_time": "2025-05-27T20:21:39.153817Z",
     "start_time": "2025-05-27T20:21:24.902938Z"
    }
   },
   "cell_type": "code",
   "source": "cur_features = finfact.next(k=10, mode='thread', bounded_only=True)",
   "id": "dcb3786612a2a9a8",
   "outputs": [
    {
     "name": "stderr",
     "output_type": "stream",
     "text": [
      "IO Load: 100%|██████████| 500/500 [00:00<00:00, 1278.64it/s]\n",
      "Applying Factors: 100%|██████████| 20/20 [00:00<00:00, 45.15it/s]\n",
      "IO Dump: 100%|██████████| 70/70 [00:00<00:00, 3422.80it/s]\n",
      "🔄 Unary op: 100%|██████████| 20/20 [00:00<00:00, 322638.77it/s]\n",
      "IO Dump: 100%|██████████| 20/20 [00:00<00:00, 36695.57it/s]\n",
      "🔄 cross op (thread): 100%|██████████| 200/200 [00:01<00:00, 149.75it/s]\n",
      "IO Wash: 100%|██████████| 790/790 [00:01<00:00, 784.71it/s] \n"
     ]
    },
    {
     "name": "stdout",
     "output_type": "stream",
     "text": [
      "dropped 10 constant/nan features\n"
     ]
    },
    {
     "name": "stderr",
     "output_type": "stream",
     "text": [
      "IO Load: 100%|██████████| 780/780 [00:00<00:00, 1348.10it/s]\n",
      "IO Load: 100%|██████████| 1/1 [00:00<00:00, 871.82it/s]\n",
      "ic eval: 100%|██████████| 780/780 [00:03<00:00, 207.36it/s]\n",
      "normalizing: 100%|██████████| 2/2 [00:02<00:00,  1.16s/it]\n",
      "IO Delete: 100%|██████████| 280/280 [00:00<00:00, 48349.33it/s]\n",
      "IO Load: 100%|██████████| 500/500 [00:00<00:00, 1361.38it/s]\n"
     ]
    }
   ],
   "execution_count": 8
  },
  {
   "metadata": {},
   "cell_type": "code",
   "source": [
    "df_features = finfact.df_features\n",
    "df_features.columns.tolist()"
   ],
   "id": "f2afaefae387460f",
   "outputs": [],
   "execution_count": null
  },
  {
   "metadata": {},
   "cell_type": "code",
   "source": [
    "finfact.visualize_structure_2d (seq_len=256,\n",
    "                                perplexity=30,\n",
    "                                n_neighbors=10,\n",
    "                                random_state=42,\n",
    "                                pca_evp=0.6,\n",
    "                                umap_components=2\n",
    "                                )"
   ],
   "id": "94200fd81f21504b",
   "outputs": [],
   "execution_count": null
  },
  {
   "metadata": {},
   "cell_type": "code",
   "source": [
    "df_eval_report = finfact.evaluate_clusterings(\n",
    "    dim_reduction='umap',\n",
    "    reduction_params={'n_components': 2, 'n_neighbors': 10, 'min_dist': 0.1},\n",
    "    algos= ['KMeans'],\n",
    "    n_jobs=12,\n",
    "    backend='thread',\n",
    "    seq_len=1\n",
    ")"
   ],
   "id": "39c1f7ce83413106",
   "outputs": [],
   "execution_count": null
  },
  {
   "metadata": {},
   "cell_type": "code",
   "source": "df_eval_report",
   "id": "14f09ad44bd6c500",
   "outputs": [],
   "execution_count": null
  },
  {
   "metadata": {},
   "cell_type": "code",
   "source": "best_row = df_eval_report.loc[12]",
   "id": "da148d8ee8d48eeb",
   "outputs": [],
   "execution_count": null
  },
  {
   "metadata": {},
   "cell_type": "code",
   "source": [
    "label_series = pd.Series(best_row['_labels'])\n",
    "counts = label_series.value_counts()\n",
    "print(counts)"
   ],
   "id": "e62c40daa50f942b",
   "outputs": [],
   "execution_count": null
  },
  {
   "metadata": {},
   "cell_type": "markdown",
   "source": "#### IC分析",
   "id": "4076ace233f62fcc"
  },
  {
   "metadata": {},
   "cell_type": "markdown",
   "source": "#### 相关性检测",
   "id": "fc8d7403e8d8f9ef"
  },
  {
   "metadata": {},
   "cell_type": "code",
   "source": "df_filtered = finfact.df_features.set_index('timestamp')",
   "id": "541a8302525074db",
   "outputs": [],
   "execution_count": null
  },
  {
   "metadata": {},
   "cell_type": "code",
   "source": [
    "corr = pd.DataFrame (df_filtered).corr ()\n",
    "plt.figure (figsize=(12, 10))\n",
    "sns.heatmap (corr, cmap='coolwarm', center=0)\n",
    "plt.title ('Feature Correlation Matrix')\n",
    "plt.show ()"
   ],
   "id": "88c97d3156f255",
   "outputs": [],
   "execution_count": null
  },
  {
   "metadata": {},
   "cell_type": "markdown",
   "source": "#### PCA分析",
   "id": "480ee89840ea04ba"
  },
  {
   "metadata": {},
   "cell_type": "code",
   "source": [
    "from sklearn.decomposition import PCA\n",
    "\n",
    "pca = PCA ()\n",
    "pca.fit (df_filtered)\n",
    "percent = 0.99\n",
    "\n",
    "cumulative = np.cumsum (pca.explained_variance_ratio_)\n",
    "n_PCs = np.argmax (cumulative >= percent) + 1\n",
    "\n",
    "print (f\"前 {n_PCs} 个主成分累计解释了 {cumulative[n_PCs - 1]:.2%} 的方差\")\n",
    "feature_names = df_featured.columns\n",
    "\n",
    "# 打印所有有重大贡献的主成分\n",
    "for i in range (n_PCs):\n",
    "    # 第 i 个主成分的系数\n",
    "    pc = pca.components_[i]\n",
    "\n",
    "    # 取绝对值最大的特征位置\n",
    "    top_feature_idx = np.argmax (np.abs (pc))\n",
    "    top_feature_name = feature_names[top_feature_idx]\n",
    "\n",
    "    print (f\"PC{i + 1} 的主导因子是: {top_feature_name}（贡献系数: {pc[top_feature_idx]:.4f}）\")"
   ],
   "id": "ddb7e5f8690302df",
   "outputs": [],
   "execution_count": null
  },
  {
   "metadata": {},
   "cell_type": "code",
   "source": "",
   "id": "2baa7f927200c996",
   "outputs": [],
   "execution_count": null
  }
 ],
 "metadata": {
  "kernelspec": {
   "display_name": "Python 3",
   "language": "python",
   "name": "python3"
  },
  "language_info": {
   "codemirror_mode": {
    "name": "ipython",
    "version": 2
   },
   "file_extension": ".py",
   "mimetype": "text/x-python",
   "name": "python",
   "nbconvert_exporter": "python",
   "pygments_lexer": "ipython2",
   "version": "2.7.6"
  }
 },
 "nbformat": 4,
 "nbformat_minor": 5
}
