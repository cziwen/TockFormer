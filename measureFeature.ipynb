{
 "cells": [
  {
   "cell_type": "code",
   "id": "initial_id",
   "metadata": {
    "collapsed": true,
    "ExecuteTime": {
     "end_time": "2025-05-09T03:04:30.483677Z",
     "start_time": "2025-05-09T03:04:29.082631Z"
    }
   },
   "source": [
    "import pandas as pd\n",
    "import numpy as np\n",
    "\n",
    "from factorFactory import FactorFactory\n",
    "from Util import evaluate_time_series_ic, evaluate_time_series_ic\n",
    "import matplotlib.pyplot as plt"
   ],
   "outputs": [],
   "execution_count": 1
  },
  {
   "metadata": {
    "ExecuteTime": {
     "end_time": "2025-05-09T03:04:30.579718Z",
     "start_time": "2025-05-09T03:04:30.487708Z"
    }
   },
   "cell_type": "code",
   "source": [
    "df = pd.read_csv ('SPY_2020-01-01_2025-05-07_5m_raw.csv')\n",
    "df.shape"
   ],
   "id": "286b83766d921af8",
   "outputs": [
    {
     "data": {
      "text/plain": [
       "(242741, 6)"
      ]
     },
     "execution_count": 2,
     "metadata": {},
     "output_type": "execute_result"
    }
   ],
   "execution_count": 2
  },
  {
   "metadata": {
    "ExecuteTime": {
     "end_time": "2025-05-09T03:04:38.898107Z",
     "start_time": "2025-05-09T03:04:30.643248Z"
    }
   },
   "cell_type": "code",
   "source": [
    "finfact = FactorFactory ()\n",
    "df = finfact.generate_factors (df)\n",
    "df.shape"
   ],
   "id": "5ba0ebe1c116c8aa",
   "outputs": [
    {
     "data": {
      "text/plain": [
       "(242741, 210)"
      ]
     },
     "execution_count": 3,
     "metadata": {},
     "output_type": "execute_result"
    }
   ],
   "execution_count": 3
  },
  {
   "metadata": {
    "ExecuteTime": {
     "end_time": "2025-05-09T03:27:51.666138Z",
     "start_time": "2025-05-09T03:27:51.549345Z"
    }
   },
   "cell_type": "code",
   "source": [
    "# 去掉 null\n",
    "first_valid_idx = df[df.notnull().all(axis=1)].index[0]\n",
    "df = df.loc[first_valid_idx:].reset_index(drop=True)\n",
    "\n",
    "# 计算每列的缺失值数量\n",
    "null_counts = df.isnull().sum()\n",
    "# 只保留那些缺失值数 > 0 的列\n",
    "null_counts = null_counts[null_counts > 0]\n",
    "print(null_counts)\n",
    "df.shape, df.columns"
   ],
   "id": "25ef58978b084867",
   "outputs": [
    {
     "name": "stdout",
     "output_type": "stream",
     "text": [
      "Series([], dtype: int64)\n"
     ]
    },
    {
     "data": {
      "text/plain": [
       "((242542, 210),\n",
       " Index(['timestamp', 'open', 'high', 'low', 'close', 'volume', 'rsi_6_open',\n",
       "        'rsi_6_high', 'rsi_6_low', 'rsi_6_close',\n",
       "        ...\n",
       "        'pct_chg_5_low', 'pct_chg_5_close', 'pct_chg_10_open',\n",
       "        'pct_chg_10_high', 'pct_chg_10_low', 'pct_chg_10_close',\n",
       "        'pct_chg_20_open', 'pct_chg_20_high', 'pct_chg_20_low',\n",
       "        'pct_chg_20_close'],\n",
       "       dtype='object', length=210))"
      ]
     },
     "execution_count": 5,
     "metadata": {},
     "output_type": "execute_result"
    }
   ],
   "execution_count": 5
  },
  {
   "metadata": {
    "ExecuteTime": {
     "end_time": "2025-05-09T03:27:53.068976Z",
     "start_time": "2025-05-09T03:27:53.066231Z"
    }
   },
   "cell_type": "code",
   "source": [
    "all_cols = df.columns.tolist()\n",
    "print (df.columns.tolist())"
   ],
   "id": "6321383e9bc707d7",
   "outputs": [
    {
     "name": "stdout",
     "output_type": "stream",
     "text": [
      "['timestamp', 'open', 'high', 'low', 'close', 'volume', 'rsi_6_open', 'rsi_6_high', 'rsi_6_low', 'rsi_6_close', 'rsi_10_open', 'rsi_10_high', 'rsi_10_low', 'rsi_10_close', 'rsi_14_open', 'rsi_14_high', 'rsi_14_low', 'rsi_14_close', 'rsi_20_open', 'rsi_20_high', 'rsi_20_low', 'rsi_20_close', 'rsi_30_open', 'rsi_30_high', 'rsi_30_low', 'rsi_30_close', 'sma_5_open', 'sma_5_high', 'sma_5_low', 'sma_5_close', 'sma_10_open', 'sma_10_high', 'sma_10_low', 'sma_10_close', 'sma_20_open', 'sma_20_high', 'sma_20_low', 'sma_20_close', 'sma_30_open', 'sma_30_high', 'sma_30_low', 'sma_30_close', 'sma_50_open', 'sma_50_high', 'sma_50_low', 'sma_50_close', 'sma_100_open', 'sma_100_high', 'sma_100_low', 'sma_100_close', 'sma_200_open', 'sma_200_high', 'sma_200_low', 'sma_200_close', 'ema_5_open', 'ema_5_high', 'ema_5_low', 'ema_5_close', 'ema_10_open', 'ema_10_high', 'ema_10_low', 'ema_10_close', 'ema_12_open', 'ema_12_high', 'ema_12_low', 'ema_12_close', 'ema_20_open', 'ema_20_high', 'ema_20_low', 'ema_20_close', 'ema_30_open', 'ema_30_high', 'ema_30_low', 'ema_30_close', 'ema_50_open', 'ema_50_high', 'ema_50_low', 'ema_50_close', 'ema_100_open', 'ema_100_high', 'ema_100_low', 'ema_100_close', 'ema_200_open', 'ema_200_high', 'ema_200_low', 'ema_200_close', 'macd_diff_12_26_open', 'macd_diff_12_26_high', 'macd_diff_12_26_low', 'macd_diff_12_26_close', 'macd_diff_5_20_open', 'macd_diff_5_20_high', 'macd_diff_5_20_low', 'macd_diff_5_20_close', 'macd_diff_8_17_open', 'macd_diff_8_17_high', 'macd_diff_8_17_low', 'macd_diff_8_17_close', 'macd_diff_10_30_open', 'macd_diff_10_30_high', 'macd_diff_10_30_low', 'macd_diff_10_30_close', 'bb_mavg_10_1.5', 'bb_hband_10_1.5', 'bb_lband_10_1.5', 'bb_mavg_10_2.0', 'bb_hband_10_2.0', 'bb_lband_10_2.0', 'bb_mavg_10_2.5', 'bb_hband_10_2.5', 'bb_lband_10_2.5', 'bb_mavg_20_1.5', 'bb_hband_20_1.5', 'bb_lband_20_1.5', 'bb_mavg_20_2.0', 'bb_hband_20_2.0', 'bb_lband_20_2.0', 'bb_mavg_20_2.5', 'bb_hband_20_2.5', 'bb_lband_20_2.5', 'bb_mavg_30_1.5', 'bb_hband_30_1.5', 'bb_lband_30_1.5', 'bb_mavg_30_2.0', 'bb_hband_30_2.0', 'bb_lband_30_2.0', 'bb_mavg_30_2.5', 'bb_hband_30_2.5', 'bb_lband_30_2.5', 'atr_14', 'atr_20', 'atr_30', 'atr_40', 'adx_14', 'adx_20', 'adx_30', 'cci_20', 'cci_30', 'cci_50', 'roc_5_open', 'roc_5_high', 'roc_5_low', 'roc_5_close', 'roc_10_open', 'roc_10_high', 'roc_10_low', 'roc_10_close', 'roc_20_open', 'roc_20_high', 'roc_20_low', 'roc_20_close', 'roc_30_open', 'roc_30_high', 'roc_30_low', 'roc_30_close', 'mom_3_open', 'mom_3_high', 'mom_3_low', 'mom_3_close', 'mom_5_open', 'mom_5_high', 'mom_5_low', 'mom_5_close', 'mom_10_open', 'mom_10_high', 'mom_10_low', 'mom_10_close', 'mom_20_open', 'mom_20_high', 'mom_20_low', 'mom_20_close', 'wr_10', 'wr_14', 'wr_20', 'wr_30', 'obv', 'cmf_20', 'mfi_14', 'eom_14', 'adl', 'price_div_sma_5', 'sma_diff_5', 'price_div_sma_10', 'sma_diff_10', 'price_div_sma_20', 'sma_diff_20', 'price_div_sma_30', 'sma_diff_30', 'price_div_sma_50', 'sma_diff_50', 'price_div_sma_100', 'sma_diff_100', 'price_div_sma_200', 'sma_diff_200', 'pct_chg_1_open', 'pct_chg_1_high', 'pct_chg_1_low', 'pct_chg_1_close', 'pct_chg_5_open', 'pct_chg_5_high', 'pct_chg_5_low', 'pct_chg_5_close', 'pct_chg_10_open', 'pct_chg_10_high', 'pct_chg_10_low', 'pct_chg_10_close', 'pct_chg_20_open', 'pct_chg_20_high', 'pct_chg_20_low', 'pct_chg_20_close']\n"
     ]
    }
   ],
   "execution_count": 6
  },
  {
   "metadata": {
    "ExecuteTime": {
     "end_time": "2025-05-09T03:27:54.781014Z",
     "start_time": "2025-05-09T03:27:54.777647Z"
    }
   },
   "cell_type": "code",
   "source": [
    "usable_factors = [\n",
    "    # 1) 全部 RSI（0–100）\n",
    "    *[c for c in all_cols if c.startswith(\"rsi_\")],\n",
    "\n",
    "    # 2) ADX（0–100）\n",
    "    *[c for c in all_cols if c.startswith(\"adx_\")],\n",
    "\n",
    "    # 3) Williams %R（-100–0）\n",
    "    *[c for c in all_cols if c.startswith(\"wr_\")],\n",
    "\n",
    "    # 4) CMF（-1–1） & MFI（0–100）\n",
    "    *[c for c in all_cols if c in (\"cmf_20\", \"mfi_14\")],\n",
    "]\n",
    "\n",
    "print(len(usable_factors))"
   ],
   "id": "cf301db45e7ae691",
   "outputs": [
    {
     "name": "stdout",
     "output_type": "stream",
     "text": [
      "29\n"
     ]
    }
   ],
   "execution_count": 7
  },
  {
   "metadata": {
    "ExecuteTime": {
     "end_time": "2025-05-09T03:28:09.656479Z",
     "start_time": "2025-05-09T03:28:06.206663Z"
    }
   },
   "cell_type": "code",
   "source": [
    "results = evaluate_time_series_ic(\n",
    "    df=df,\n",
    "    factors=usable_factors,\n",
    "    target_col='close',\n",
    "    forward=3,        # 往后 3 个 timestamp\n",
    "    date_col='timestamp',\n",
    "    window=100,\n",
    "    n_jobs=8\n",
    ")\n",
    "results"
   ],
   "id": "a913a9c80256225b",
   "outputs": [
    {
     "data": {
      "text/plain": [
       "              ic_global  ic_sw_mean  ic_sw_std     ir_sw\n",
       "factor                                                  \n",
       "rsi_6_high    -0.006590   -0.077092   0.149231 -0.516599\n",
       "rsi_6_low     -0.009672   -0.080427   0.149238 -0.538919\n",
       "rsi_6_close   -0.012005   -0.083634   0.149281 -0.560247\n",
       "rsi_10_high   -0.005480   -0.097505   0.151366 -0.644165\n",
       "rsi_10_close  -0.009580   -0.103169   0.152674 -0.675746\n",
       "rsi_6_open    -0.006326   -0.073622   0.145405 -0.506321\n",
       "rsi_10_open   -0.005498   -0.094463   0.148286 -0.637035\n",
       "rsi_10_low    -0.008268   -0.100601   0.152177 -0.661077\n",
       "rsi_14_open   -0.004269   -0.109878   0.148921 -0.737831\n",
       "rsi_14_high   -0.004179   -0.112914   0.151797 -0.743850\n",
       "rsi_14_low    -0.006690   -0.115827   0.152789 -0.758086\n",
       "rsi_14_close  -0.007710   -0.118344   0.153624 -0.770350\n",
       "rsi_20_open   -0.002206   -0.126634   0.148955 -0.850150\n",
       "rsi_20_high   -0.002076   -0.129833   0.151713 -0.855780\n",
       "rsi_20_low    -0.004214   -0.132502   0.152695 -0.867759\n",
       "rsi_20_close  -0.005146   -0.135184   0.153811 -0.878894\n",
       "rsi_30_open    0.000432   -0.144891   0.148348 -0.976692\n",
       "rsi_30_high    0.000600   -0.148380   0.151042 -0.982375\n",
       "rsi_30_low    -0.001147   -0.150840   0.151902 -0.993008\n",
       "rsi_30_close  -0.001992   -0.153779   0.153288 -1.003204\n",
       "adx_14        -0.000222    0.001375   0.178583  0.007697\n",
       "adx_20         0.000545    0.004160   0.191352  0.021738\n",
       "adx_30         0.001334    0.007952   0.201626  0.039441\n",
       "wr_10         -0.014647   -0.066694   0.144033 -0.463046\n",
       "wr_14         -0.011710   -0.074684   0.148011 -0.504586\n",
       "wr_20         -0.010410   -0.086225   0.150913 -0.571353\n",
       "wr_30         -0.009105   -0.103778   0.153502 -0.676065\n",
       "cmf_20        -0.002975   -0.047665   0.153077 -0.311376\n",
       "mfi_14        -0.002884   -0.057325   0.151867 -0.377471\n",
       "composite     -0.006473   -0.112324   0.153313 -0.732647"
      ],
      "text/html": [
       "<div>\n",
       "<style scoped>\n",
       "    .dataframe tbody tr th:only-of-type {\n",
       "        vertical-align: middle;\n",
       "    }\n",
       "\n",
       "    .dataframe tbody tr th {\n",
       "        vertical-align: top;\n",
       "    }\n",
       "\n",
       "    .dataframe thead th {\n",
       "        text-align: right;\n",
       "    }\n",
       "</style>\n",
       "<table border=\"1\" class=\"dataframe\">\n",
       "  <thead>\n",
       "    <tr style=\"text-align: right;\">\n",
       "      <th></th>\n",
       "      <th>ic_global</th>\n",
       "      <th>ic_sw_mean</th>\n",
       "      <th>ic_sw_std</th>\n",
       "      <th>ir_sw</th>\n",
       "    </tr>\n",
       "    <tr>\n",
       "      <th>factor</th>\n",
       "      <th></th>\n",
       "      <th></th>\n",
       "      <th></th>\n",
       "      <th></th>\n",
       "    </tr>\n",
       "  </thead>\n",
       "  <tbody>\n",
       "    <tr>\n",
       "      <th>rsi_6_high</th>\n",
       "      <td>-0.006590</td>\n",
       "      <td>-0.077092</td>\n",
       "      <td>0.149231</td>\n",
       "      <td>-0.516599</td>\n",
       "    </tr>\n",
       "    <tr>\n",
       "      <th>rsi_6_low</th>\n",
       "      <td>-0.009672</td>\n",
       "      <td>-0.080427</td>\n",
       "      <td>0.149238</td>\n",
       "      <td>-0.538919</td>\n",
       "    </tr>\n",
       "    <tr>\n",
       "      <th>rsi_6_close</th>\n",
       "      <td>-0.012005</td>\n",
       "      <td>-0.083634</td>\n",
       "      <td>0.149281</td>\n",
       "      <td>-0.560247</td>\n",
       "    </tr>\n",
       "    <tr>\n",
       "      <th>rsi_10_high</th>\n",
       "      <td>-0.005480</td>\n",
       "      <td>-0.097505</td>\n",
       "      <td>0.151366</td>\n",
       "      <td>-0.644165</td>\n",
       "    </tr>\n",
       "    <tr>\n",
       "      <th>rsi_10_close</th>\n",
       "      <td>-0.009580</td>\n",
       "      <td>-0.103169</td>\n",
       "      <td>0.152674</td>\n",
       "      <td>-0.675746</td>\n",
       "    </tr>\n",
       "    <tr>\n",
       "      <th>rsi_6_open</th>\n",
       "      <td>-0.006326</td>\n",
       "      <td>-0.073622</td>\n",
       "      <td>0.145405</td>\n",
       "      <td>-0.506321</td>\n",
       "    </tr>\n",
       "    <tr>\n",
       "      <th>rsi_10_open</th>\n",
       "      <td>-0.005498</td>\n",
       "      <td>-0.094463</td>\n",
       "      <td>0.148286</td>\n",
       "      <td>-0.637035</td>\n",
       "    </tr>\n",
       "    <tr>\n",
       "      <th>rsi_10_low</th>\n",
       "      <td>-0.008268</td>\n",
       "      <td>-0.100601</td>\n",
       "      <td>0.152177</td>\n",
       "      <td>-0.661077</td>\n",
       "    </tr>\n",
       "    <tr>\n",
       "      <th>rsi_14_open</th>\n",
       "      <td>-0.004269</td>\n",
       "      <td>-0.109878</td>\n",
       "      <td>0.148921</td>\n",
       "      <td>-0.737831</td>\n",
       "    </tr>\n",
       "    <tr>\n",
       "      <th>rsi_14_high</th>\n",
       "      <td>-0.004179</td>\n",
       "      <td>-0.112914</td>\n",
       "      <td>0.151797</td>\n",
       "      <td>-0.743850</td>\n",
       "    </tr>\n",
       "    <tr>\n",
       "      <th>rsi_14_low</th>\n",
       "      <td>-0.006690</td>\n",
       "      <td>-0.115827</td>\n",
       "      <td>0.152789</td>\n",
       "      <td>-0.758086</td>\n",
       "    </tr>\n",
       "    <tr>\n",
       "      <th>rsi_14_close</th>\n",
       "      <td>-0.007710</td>\n",
       "      <td>-0.118344</td>\n",
       "      <td>0.153624</td>\n",
       "      <td>-0.770350</td>\n",
       "    </tr>\n",
       "    <tr>\n",
       "      <th>rsi_20_open</th>\n",
       "      <td>-0.002206</td>\n",
       "      <td>-0.126634</td>\n",
       "      <td>0.148955</td>\n",
       "      <td>-0.850150</td>\n",
       "    </tr>\n",
       "    <tr>\n",
       "      <th>rsi_20_high</th>\n",
       "      <td>-0.002076</td>\n",
       "      <td>-0.129833</td>\n",
       "      <td>0.151713</td>\n",
       "      <td>-0.855780</td>\n",
       "    </tr>\n",
       "    <tr>\n",
       "      <th>rsi_20_low</th>\n",
       "      <td>-0.004214</td>\n",
       "      <td>-0.132502</td>\n",
       "      <td>0.152695</td>\n",
       "      <td>-0.867759</td>\n",
       "    </tr>\n",
       "    <tr>\n",
       "      <th>rsi_20_close</th>\n",
       "      <td>-0.005146</td>\n",
       "      <td>-0.135184</td>\n",
       "      <td>0.153811</td>\n",
       "      <td>-0.878894</td>\n",
       "    </tr>\n",
       "    <tr>\n",
       "      <th>rsi_30_open</th>\n",
       "      <td>0.000432</td>\n",
       "      <td>-0.144891</td>\n",
       "      <td>0.148348</td>\n",
       "      <td>-0.976692</td>\n",
       "    </tr>\n",
       "    <tr>\n",
       "      <th>rsi_30_high</th>\n",
       "      <td>0.000600</td>\n",
       "      <td>-0.148380</td>\n",
       "      <td>0.151042</td>\n",
       "      <td>-0.982375</td>\n",
       "    </tr>\n",
       "    <tr>\n",
       "      <th>rsi_30_low</th>\n",
       "      <td>-0.001147</td>\n",
       "      <td>-0.150840</td>\n",
       "      <td>0.151902</td>\n",
       "      <td>-0.993008</td>\n",
       "    </tr>\n",
       "    <tr>\n",
       "      <th>rsi_30_close</th>\n",
       "      <td>-0.001992</td>\n",
       "      <td>-0.153779</td>\n",
       "      <td>0.153288</td>\n",
       "      <td>-1.003204</td>\n",
       "    </tr>\n",
       "    <tr>\n",
       "      <th>adx_14</th>\n",
       "      <td>-0.000222</td>\n",
       "      <td>0.001375</td>\n",
       "      <td>0.178583</td>\n",
       "      <td>0.007697</td>\n",
       "    </tr>\n",
       "    <tr>\n",
       "      <th>adx_20</th>\n",
       "      <td>0.000545</td>\n",
       "      <td>0.004160</td>\n",
       "      <td>0.191352</td>\n",
       "      <td>0.021738</td>\n",
       "    </tr>\n",
       "    <tr>\n",
       "      <th>adx_30</th>\n",
       "      <td>0.001334</td>\n",
       "      <td>0.007952</td>\n",
       "      <td>0.201626</td>\n",
       "      <td>0.039441</td>\n",
       "    </tr>\n",
       "    <tr>\n",
       "      <th>wr_10</th>\n",
       "      <td>-0.014647</td>\n",
       "      <td>-0.066694</td>\n",
       "      <td>0.144033</td>\n",
       "      <td>-0.463046</td>\n",
       "    </tr>\n",
       "    <tr>\n",
       "      <th>wr_14</th>\n",
       "      <td>-0.011710</td>\n",
       "      <td>-0.074684</td>\n",
       "      <td>0.148011</td>\n",
       "      <td>-0.504586</td>\n",
       "    </tr>\n",
       "    <tr>\n",
       "      <th>wr_20</th>\n",
       "      <td>-0.010410</td>\n",
       "      <td>-0.086225</td>\n",
       "      <td>0.150913</td>\n",
       "      <td>-0.571353</td>\n",
       "    </tr>\n",
       "    <tr>\n",
       "      <th>wr_30</th>\n",
       "      <td>-0.009105</td>\n",
       "      <td>-0.103778</td>\n",
       "      <td>0.153502</td>\n",
       "      <td>-0.676065</td>\n",
       "    </tr>\n",
       "    <tr>\n",
       "      <th>cmf_20</th>\n",
       "      <td>-0.002975</td>\n",
       "      <td>-0.047665</td>\n",
       "      <td>0.153077</td>\n",
       "      <td>-0.311376</td>\n",
       "    </tr>\n",
       "    <tr>\n",
       "      <th>mfi_14</th>\n",
       "      <td>-0.002884</td>\n",
       "      <td>-0.057325</td>\n",
       "      <td>0.151867</td>\n",
       "      <td>-0.377471</td>\n",
       "    </tr>\n",
       "    <tr>\n",
       "      <th>composite</th>\n",
       "      <td>-0.006473</td>\n",
       "      <td>-0.112324</td>\n",
       "      <td>0.153313</td>\n",
       "      <td>-0.732647</td>\n",
       "    </tr>\n",
       "  </tbody>\n",
       "</table>\n",
       "</div>"
      ]
     },
     "execution_count": 8,
     "metadata": {},
     "output_type": "execute_result"
    }
   ],
   "execution_count": 8
  },
  {
   "metadata": {
    "ExecuteTime": {
     "end_time": "2025-05-09T03:30:24.941604Z",
     "start_time": "2025-05-09T03:30:24.935707Z"
    }
   },
   "cell_type": "code",
   "source": [
    "# 选择出优质因子\n",
    "results[results['ic_global'].abs () > 0.01]"
   ],
   "id": "34fa0bf99bdad28",
   "outputs": [
    {
     "data": {
      "text/plain": [
       "             ic_global  ic_sw_mean  ic_sw_std     ir_sw\n",
       "factor                                                 \n",
       "rsi_6_close  -0.012005   -0.083634   0.149281 -0.560247\n",
       "wr_10        -0.014647   -0.066694   0.144033 -0.463046\n",
       "wr_14        -0.011710   -0.074684   0.148011 -0.504586\n",
       "wr_20        -0.010410   -0.086225   0.150913 -0.571353"
      ],
      "text/html": [
       "<div>\n",
       "<style scoped>\n",
       "    .dataframe tbody tr th:only-of-type {\n",
       "        vertical-align: middle;\n",
       "    }\n",
       "\n",
       "    .dataframe tbody tr th {\n",
       "        vertical-align: top;\n",
       "    }\n",
       "\n",
       "    .dataframe thead th {\n",
       "        text-align: right;\n",
       "    }\n",
       "</style>\n",
       "<table border=\"1\" class=\"dataframe\">\n",
       "  <thead>\n",
       "    <tr style=\"text-align: right;\">\n",
       "      <th></th>\n",
       "      <th>ic_global</th>\n",
       "      <th>ic_sw_mean</th>\n",
       "      <th>ic_sw_std</th>\n",
       "      <th>ir_sw</th>\n",
       "    </tr>\n",
       "    <tr>\n",
       "      <th>factor</th>\n",
       "      <th></th>\n",
       "      <th></th>\n",
       "      <th></th>\n",
       "      <th></th>\n",
       "    </tr>\n",
       "  </thead>\n",
       "  <tbody>\n",
       "    <tr>\n",
       "      <th>rsi_6_close</th>\n",
       "      <td>-0.012005</td>\n",
       "      <td>-0.083634</td>\n",
       "      <td>0.149281</td>\n",
       "      <td>-0.560247</td>\n",
       "    </tr>\n",
       "    <tr>\n",
       "      <th>wr_10</th>\n",
       "      <td>-0.014647</td>\n",
       "      <td>-0.066694</td>\n",
       "      <td>0.144033</td>\n",
       "      <td>-0.463046</td>\n",
       "    </tr>\n",
       "    <tr>\n",
       "      <th>wr_14</th>\n",
       "      <td>-0.011710</td>\n",
       "      <td>-0.074684</td>\n",
       "      <td>0.148011</td>\n",
       "      <td>-0.504586</td>\n",
       "    </tr>\n",
       "    <tr>\n",
       "      <th>wr_20</th>\n",
       "      <td>-0.010410</td>\n",
       "      <td>-0.086225</td>\n",
       "      <td>0.150913</td>\n",
       "      <td>-0.571353</td>\n",
       "    </tr>\n",
       "  </tbody>\n",
       "</table>\n",
       "</div>"
      ]
     },
     "execution_count": 9,
     "metadata": {},
     "output_type": "execute_result"
    }
   ],
   "execution_count": 9
  },
  {
   "metadata": {
    "ExecuteTime": {
     "end_time": "2025-05-09T03:31:00.167867Z",
     "start_time": "2025-05-09T03:31:00.162360Z"
    }
   },
   "cell_type": "code",
   "source": "results[results['ir_sw'].abs () > 1]",
   "id": "79589176883bff58",
   "outputs": [
    {
     "data": {
      "text/plain": [
       "              ic_global  ic_sw_mean  ic_sw_std     ir_sw\n",
       "factor                                                  \n",
       "rsi_30_close  -0.001992   -0.153779   0.153288 -1.003204"
      ],
      "text/html": [
       "<div>\n",
       "<style scoped>\n",
       "    .dataframe tbody tr th:only-of-type {\n",
       "        vertical-align: middle;\n",
       "    }\n",
       "\n",
       "    .dataframe tbody tr th {\n",
       "        vertical-align: top;\n",
       "    }\n",
       "\n",
       "    .dataframe thead th {\n",
       "        text-align: right;\n",
       "    }\n",
       "</style>\n",
       "<table border=\"1\" class=\"dataframe\">\n",
       "  <thead>\n",
       "    <tr style=\"text-align: right;\">\n",
       "      <th></th>\n",
       "      <th>ic_global</th>\n",
       "      <th>ic_sw_mean</th>\n",
       "      <th>ic_sw_std</th>\n",
       "      <th>ir_sw</th>\n",
       "    </tr>\n",
       "    <tr>\n",
       "      <th>factor</th>\n",
       "      <th></th>\n",
       "      <th></th>\n",
       "      <th></th>\n",
       "      <th></th>\n",
       "    </tr>\n",
       "  </thead>\n",
       "  <tbody>\n",
       "    <tr>\n",
       "      <th>rsi_30_close</th>\n",
       "      <td>-0.001992</td>\n",
       "      <td>-0.153779</td>\n",
       "      <td>0.153288</td>\n",
       "      <td>-1.003204</td>\n",
       "    </tr>\n",
       "  </tbody>\n",
       "</table>\n",
       "</div>"
      ]
     },
     "execution_count": 10,
     "metadata": {},
     "output_type": "execute_result"
    }
   ],
   "execution_count": 10
  },
  {
   "metadata": {},
   "cell_type": "code",
   "outputs": [],
   "execution_count": null,
   "source": "",
   "id": "f4fdd7ff96d0016e"
  }
 ],
 "metadata": {
  "kernelspec": {
   "display_name": "Python 3",
   "language": "python",
   "name": "python3"
  },
  "language_info": {
   "codemirror_mode": {
    "name": "ipython",
    "version": 2
   },
   "file_extension": ".py",
   "mimetype": "text/x-python",
   "name": "python",
   "nbconvert_exporter": "python",
   "pygments_lexer": "ipython2",
   "version": "2.7.6"
  }
 },
 "nbformat": 4,
 "nbformat_minor": 5
}
