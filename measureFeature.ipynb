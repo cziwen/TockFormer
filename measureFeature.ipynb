{
 "cells": [
  {
   "metadata": {},
   "cell_type": "markdown",
   "source": "## 测量因子",
   "id": "4fe53b9b44901e09"
  },
  {
   "metadata": {
    "collapsed": true,
    "ExecuteTime": {
     "end_time": "2025-05-26T04:45:22.135996Z",
     "start_time": "2025-05-26T04:45:19.982690Z"
    }
   },
   "cell_type": "code",
   "source": [
    "import pandas as pd\n",
    "import numpy as np\n",
    "\n",
    "from Utility.factorFactory import FactorFactory\n",
    "import matplotlib.pyplot as plt\n",
    "\n",
    "from Utility.registry import FACTOR_REGISTRY"
   ],
   "id": "initial_id",
   "outputs": [
    {
     "name": "stderr",
     "output_type": "stream",
     "text": [
      "/Users/ziwenchen/miniconda3/envs/TockFormer/lib/python3.10/site-packages/tqdm/auto.py:21: TqdmWarning: IProgress not found. Please update jupyter and ipywidgets. See https://ipywidgets.readthedocs.io/en/stable/user_install.html\n",
      "  from .autonotebook import tqdm as notebook_tqdm\n"
     ]
    }
   ],
   "execution_count": 1
  },
  {
   "metadata": {},
   "cell_type": "markdown",
   "source": "### （1）预处理数据：",
   "id": "da8929de9df70348"
  },
  {
   "metadata": {
    "ExecuteTime": {
     "end_time": "2025-05-26T04:45:22.332277Z",
     "start_time": "2025-05-26T04:45:22.138750Z"
    }
   },
   "cell_type": "code",
   "source": [
    "df = pd.read_csv ('SPY_2020-07-01_2021-07-01_minute.csv')\n",
    "df.shape"
   ],
   "id": "286b83766d921af8",
   "outputs": [
    {
     "data": {
      "text/plain": [
       "(220161, 17)"
      ]
     },
     "execution_count": 2,
     "metadata": {},
     "output_type": "execute_result"
    }
   ],
   "execution_count": 2
  },
  {
   "metadata": {
    "ExecuteTime": {
     "end_time": "2025-05-26T04:45:22.381553Z",
     "start_time": "2025-05-26T04:45:22.379360Z"
    }
   },
   "cell_type": "code",
   "source": "df.columns",
   "id": "13fb26b2e2cf68fa",
   "outputs": [
    {
     "data": {
      "text/plain": [
       "Index(['timestamp', 'open', 'high', 'low', 'close', 'volume', 'dollar_volume',\n",
       "       'tick_count', 'trade_size_mean', 'trade_size_std', 'zero_return_count',\n",
       "       'price_direction_ratio', 'large_trade_count', 'large_trade_volume',\n",
       "       'vwap', 'large_trade_ratio', 'large_trade_volume_ratio'],\n",
       "      dtype='object')"
      ]
     },
     "execution_count": 3,
     "metadata": {},
     "output_type": "execute_result"
    }
   ],
   "execution_count": 3
  },
  {
   "metadata": {
    "ExecuteTime": {
     "end_time": "2025-05-26T04:45:22.786246Z",
     "start_time": "2025-05-26T04:45:22.494674Z"
    }
   },
   "cell_type": "code",
   "source": "finfact = FactorFactory (df, forward_period=5, window=100, scaler='minmax', top_k=500, use_disk_cache=True)",
   "id": "45c35eb87726cfd",
   "outputs": [
    {
     "name": "stderr",
     "output_type": "stream",
     "text": [
      "IO Dump: 100%|██████████| 16/16 [00:00<00:00, 140.95it/s]\n",
      "IO Dump: 0it [00:00, ?it/s]\n"
     ]
    }
   ],
   "execution_count": 4
  },
  {
   "metadata": {
    "ExecuteTime": {
     "end_time": "2025-05-26T04:45:22.797320Z",
     "start_time": "2025-05-26T04:45:22.794945Z"
    }
   },
   "cell_type": "code",
   "source": "FACTOR_REGISTRY.keys()",
   "id": "3cbc44b675a312dd",
   "outputs": [
    {
     "data": {
      "text/plain": [
       "dict_keys(['rsi', 'sma', 'ema', 'macd', 'bbpband'])"
      ]
     },
     "execution_count": 5,
     "metadata": {},
     "output_type": "execute_result"
    }
   ],
   "execution_count": 5
  },
  {
   "metadata": {
    "ExecuteTime": {
     "end_time": "2025-05-26T04:46:36.150382Z",
     "start_time": "2025-05-26T04:45:22.861250Z"
    }
   },
   "cell_type": "code",
   "source": "finfact.generate_factors(mode='thread', bounded_only=True)",
   "id": "5ba0ebe1c116c8aa",
   "outputs": [
    {
     "name": "stderr",
     "output_type": "stream",
     "text": [
      "IO Load: 100%|██████████| 16/16 [00:00<00:00, 58.84it/s]\n",
      "Applying Factors: 100%|██████████| 32/32 [00:02<00:00, 11.51it/s]\n",
      "IO Dump: 100%|██████████| 112/112 [00:00<00:00, 261.97it/s]\n",
      "🔄 Unary op: 100%|██████████| 32/32 [00:00<00:00, 51761.56it/s]\n",
      "IO Dump: 100%|██████████| 32/32 [00:00<00:00, 718.11it/s]\n",
      "🔄 cross op (thread): 100%|██████████| 512/512 [00:05<00:00, 99.98it/s] \n"
     ]
    },
    {
     "name": "stdout",
     "output_type": "stream",
     "text": [
      "[IOcache] dropped 16 features!\n"
     ]
    },
    {
     "name": "stderr",
     "output_type": "stream",
     "text": [
      "IO Load: 100%|██████████| 1/1 [00:00<00:00, 69.86it/s]\n",
      "ic eval: 100%|██████████| 640/640 [00:30<00:00, 20.78it/s]\n",
      "IO Load: 100%|██████████| 640/640 [00:07<00:00, 87.20it/s] \n",
      "IO Delete: 100%|██████████| 140/140 [00:00<00:00, 192525.43it/s]\n"
     ]
    }
   ],
   "execution_count": 6
  },
  {
   "metadata": {},
   "cell_type": "markdown",
   "source": "### （3）评测因子：",
   "id": "a6b2e4c330bffb0c"
  },
  {
   "metadata": {
    "ExecuteTime": {
     "end_time": "2025-05-26T04:57:18.839131Z",
     "start_time": "2025-05-26T04:57:18.829721Z"
    }
   },
   "cell_type": "code",
   "source": "finfact.get_summary ()",
   "id": "98f0f0bb287db840",
   "outputs": [
    {
     "data": {
      "text/plain": [
       "                                                    spearman_ic  pearson_ir  \\\n",
       "large_trade_ratio_minus_close                          0.014017    1.890403   \n",
       "high_minus_close                                       0.039323    0.571535   \n",
       "price_direction_ratio_minus_high                       0.013636    1.401288   \n",
       "large_trade_volume_ratio_minus_low                     0.013796    1.297378   \n",
       "vwap_minus_close                                       0.027046    0.466066   \n",
       "...                                                         ...         ...   \n",
       "zero_return_count_minus_trade_size_std                 0.008529   -0.042674   \n",
       "trade_size_std_minus_large_trade_volume_ratio          0.006552    0.057721   \n",
       "sin_(trade_size_mean)_minus_cos_(open)_mul_bbpb...     0.002072    0.003913   \n",
       "rsi_6_(sin_(volume)_mul_sin_(volume))                  0.001846    0.017849   \n",
       "cos_(open)_mul_sin_(dollar_volume)_minus_sin_(d...    -0.004534   -0.191092   \n",
       "\n",
       "                                                    pca_coeff  \\\n",
       "large_trade_ratio_minus_close                        0.086086   \n",
       "high_minus_close                                     0.085624   \n",
       "price_direction_ratio_minus_high                     0.086161   \n",
       "large_trade_volume_ratio_minus_low                   0.086161   \n",
       "vwap_minus_close                                     0.086159   \n",
       "...                                                       ...   \n",
       "zero_return_count_minus_trade_size_std               0.001496   \n",
       "trade_size_std_minus_large_trade_volume_ratio        0.000655   \n",
       "sin_(trade_size_mean)_minus_cos_(open)_mul_bbpb...   0.007192   \n",
       "rsi_6_(sin_(volume)_mul_sin_(volume))                0.006569   \n",
       "cos_(open)_mul_sin_(dollar_volume)_minus_sin_(d...   0.020184   \n",
       "\n",
       "                                                    spearman_ic_norm  \\\n",
       "large_trade_ratio_minus_close                               0.622433   \n",
       "high_minus_close                                            0.981583   \n",
       "price_direction_ratio_minus_high                            0.617034   \n",
       "large_trade_volume_ratio_minus_low                          0.619297   \n",
       "vwap_minus_close                                            0.807341   \n",
       "...                                                              ...   \n",
       "zero_return_count_minus_trade_size_std                      0.544552   \n",
       "trade_size_std_minus_large_trade_volume_ratio               0.516489   \n",
       "sin_(trade_size_mean)_minus_cos_(open)_mul_bbpb...          0.452914   \n",
       "rsi_6_(sin_(volume)_mul_sin_(volume))                       0.449706   \n",
       "cos_(open)_mul_sin_(dollar_volume)_minus_sin_(d...          0.359150   \n",
       "\n",
       "                                                    pearson_ir_norm  \\\n",
       "large_trade_ratio_minus_close                              1.000000   \n",
       "high_minus_close                                           0.560640   \n",
       "price_direction_ratio_minus_high                           0.837059   \n",
       "large_trade_volume_ratio_minus_low                         0.802443   \n",
       "vwap_minus_close                                           0.525504   \n",
       "...                                                             ...   \n",
       "zero_return_count_minus_trade_size_std                     0.356026   \n",
       "trade_size_std_minus_large_trade_volume_ratio              0.389471   \n",
       "sin_(trade_size_mean)_minus_cos_(open)_mul_bbpb...         0.371545   \n",
       "rsi_6_(sin_(volume)_mul_sin_(volume))                      0.376188   \n",
       "cos_(open)_mul_sin_(dollar_volume)_minus_sin_(d...         0.306582   \n",
       "\n",
       "                                                    pca_coeff_norm  \\\n",
       "large_trade_ratio_minus_close                             0.998336   \n",
       "high_minus_close                                          0.992981   \n",
       "price_direction_ratio_minus_high                          0.999210   \n",
       "large_trade_volume_ratio_minus_low                        0.999211   \n",
       "vwap_minus_close                                          0.999191   \n",
       "...                                                            ...   \n",
       "zero_return_count_minus_trade_size_std                    0.017346   \n",
       "trade_size_std_minus_large_trade_volume_ratio             0.007599   \n",
       "sin_(trade_size_mean)_minus_cos_(open)_mul_bbpb...        0.083407   \n",
       "rsi_6_(sin_(volume)_mul_sin_(volume))                     0.076181   \n",
       "cos_(open)_mul_sin_(dollar_volume)_minus_sin_(d...        0.234073   \n",
       "\n",
       "                                                    combined_score  \n",
       "large_trade_ratio_minus_close                             2.620770  \n",
       "high_minus_close                                          2.535204  \n",
       "price_direction_ratio_minus_high                          2.453303  \n",
       "large_trade_volume_ratio_minus_low                        2.420951  \n",
       "vwap_minus_close                                          2.332037  \n",
       "...                                                            ...  \n",
       "zero_return_count_minus_trade_size_std                    0.917923  \n",
       "trade_size_std_minus_large_trade_volume_ratio             0.913558  \n",
       "sin_(trade_size_mean)_minus_cos_(open)_mul_bbpb...        0.907867  \n",
       "rsi_6_(sin_(volume)_mul_sin_(volume))                     0.902075  \n",
       "cos_(open)_mul_sin_(dollar_volume)_minus_sin_(d...        0.899806  \n",
       "\n",
       "[500 rows x 7 columns]"
      ],
      "text/html": [
       "<div>\n",
       "<style scoped>\n",
       "    .dataframe tbody tr th:only-of-type {\n",
       "        vertical-align: middle;\n",
       "    }\n",
       "\n",
       "    .dataframe tbody tr th {\n",
       "        vertical-align: top;\n",
       "    }\n",
       "\n",
       "    .dataframe thead th {\n",
       "        text-align: right;\n",
       "    }\n",
       "</style>\n",
       "<table border=\"1\" class=\"dataframe\">\n",
       "  <thead>\n",
       "    <tr style=\"text-align: right;\">\n",
       "      <th></th>\n",
       "      <th>spearman_ic</th>\n",
       "      <th>pearson_ir</th>\n",
       "      <th>pca_coeff</th>\n",
       "      <th>spearman_ic_norm</th>\n",
       "      <th>pearson_ir_norm</th>\n",
       "      <th>pca_coeff_norm</th>\n",
       "      <th>combined_score</th>\n",
       "    </tr>\n",
       "  </thead>\n",
       "  <tbody>\n",
       "    <tr>\n",
       "      <th>large_trade_ratio_minus_close</th>\n",
       "      <td>0.014017</td>\n",
       "      <td>1.890403</td>\n",
       "      <td>0.086086</td>\n",
       "      <td>0.622433</td>\n",
       "      <td>1.000000</td>\n",
       "      <td>0.998336</td>\n",
       "      <td>2.620770</td>\n",
       "    </tr>\n",
       "    <tr>\n",
       "      <th>high_minus_close</th>\n",
       "      <td>0.039323</td>\n",
       "      <td>0.571535</td>\n",
       "      <td>0.085624</td>\n",
       "      <td>0.981583</td>\n",
       "      <td>0.560640</td>\n",
       "      <td>0.992981</td>\n",
       "      <td>2.535204</td>\n",
       "    </tr>\n",
       "    <tr>\n",
       "      <th>price_direction_ratio_minus_high</th>\n",
       "      <td>0.013636</td>\n",
       "      <td>1.401288</td>\n",
       "      <td>0.086161</td>\n",
       "      <td>0.617034</td>\n",
       "      <td>0.837059</td>\n",
       "      <td>0.999210</td>\n",
       "      <td>2.453303</td>\n",
       "    </tr>\n",
       "    <tr>\n",
       "      <th>large_trade_volume_ratio_minus_low</th>\n",
       "      <td>0.013796</td>\n",
       "      <td>1.297378</td>\n",
       "      <td>0.086161</td>\n",
       "      <td>0.619297</td>\n",
       "      <td>0.802443</td>\n",
       "      <td>0.999211</td>\n",
       "      <td>2.420951</td>\n",
       "    </tr>\n",
       "    <tr>\n",
       "      <th>vwap_minus_close</th>\n",
       "      <td>0.027046</td>\n",
       "      <td>0.466066</td>\n",
       "      <td>0.086159</td>\n",
       "      <td>0.807341</td>\n",
       "      <td>0.525504</td>\n",
       "      <td>0.999191</td>\n",
       "      <td>2.332037</td>\n",
       "    </tr>\n",
       "    <tr>\n",
       "      <th>...</th>\n",
       "      <td>...</td>\n",
       "      <td>...</td>\n",
       "      <td>...</td>\n",
       "      <td>...</td>\n",
       "      <td>...</td>\n",
       "      <td>...</td>\n",
       "      <td>...</td>\n",
       "    </tr>\n",
       "    <tr>\n",
       "      <th>zero_return_count_minus_trade_size_std</th>\n",
       "      <td>0.008529</td>\n",
       "      <td>-0.042674</td>\n",
       "      <td>0.001496</td>\n",
       "      <td>0.544552</td>\n",
       "      <td>0.356026</td>\n",
       "      <td>0.017346</td>\n",
       "      <td>0.917923</td>\n",
       "    </tr>\n",
       "    <tr>\n",
       "      <th>trade_size_std_minus_large_trade_volume_ratio</th>\n",
       "      <td>0.006552</td>\n",
       "      <td>0.057721</td>\n",
       "      <td>0.000655</td>\n",
       "      <td>0.516489</td>\n",
       "      <td>0.389471</td>\n",
       "      <td>0.007599</td>\n",
       "      <td>0.913558</td>\n",
       "    </tr>\n",
       "    <tr>\n",
       "      <th>sin_(trade_size_mean)_minus_cos_(open)_mul_bbpband_10_1.5_(large_trade_ratio)</th>\n",
       "      <td>0.002072</td>\n",
       "      <td>0.003913</td>\n",
       "      <td>0.007192</td>\n",
       "      <td>0.452914</td>\n",
       "      <td>0.371545</td>\n",
       "      <td>0.083407</td>\n",
       "      <td>0.907867</td>\n",
       "    </tr>\n",
       "    <tr>\n",
       "      <th>rsi_6_(sin_(volume)_mul_sin_(volume))</th>\n",
       "      <td>0.001846</td>\n",
       "      <td>0.017849</td>\n",
       "      <td>0.006569</td>\n",
       "      <td>0.449706</td>\n",
       "      <td>0.376188</td>\n",
       "      <td>0.076181</td>\n",
       "      <td>0.902075</td>\n",
       "    </tr>\n",
       "    <tr>\n",
       "      <th>cos_(open)_mul_sin_(dollar_volume)_minus_sin_(dollar_volume)_minus_vwap_minus_close</th>\n",
       "      <td>-0.004534</td>\n",
       "      <td>-0.191092</td>\n",
       "      <td>0.020184</td>\n",
       "      <td>0.359150</td>\n",
       "      <td>0.306582</td>\n",
       "      <td>0.234073</td>\n",
       "      <td>0.899806</td>\n",
       "    </tr>\n",
       "  </tbody>\n",
       "</table>\n",
       "<p>500 rows × 7 columns</p>\n",
       "</div>"
      ]
     },
     "execution_count": 13,
     "metadata": {},
     "output_type": "execute_result"
    }
   ],
   "execution_count": 13
  },
  {
   "metadata": {
    "ExecuteTime": {
     "end_time": "2025-05-26T04:57:18.817021Z",
     "start_time": "2025-05-26T04:55:23.178713Z"
    }
   },
   "cell_type": "code",
   "source": "cur_features = finfact.next(k=10, mode='thread', bounded_only=True)",
   "id": "dcb3786612a2a9a8",
   "outputs": [
    {
     "name": "stderr",
     "output_type": "stream",
     "text": [
      "IO Load: 100%|██████████| 500/500 [00:06<00:00, 79.66it/s]\n",
      "Applying Factors: 100%|██████████| 20/20 [00:02<00:00,  9.80it/s]\n",
      "IO Dump: 100%|██████████| 70/70 [00:00<00:00, 307.60it/s]\n",
      "🔄 Unary op: 100%|██████████| 20/20 [00:00<00:00, 37035.80it/s]\n",
      "IO Dump: 100%|██████████| 20/20 [00:00<00:00, 1044.06it/s]\n",
      "🔄 cross op (thread): 100%|██████████| 200/200 [00:03<00:00, 62.68it/s] \n"
     ]
    },
    {
     "name": "stdout",
     "output_type": "stream",
     "text": [
      "[IOcache] dropped 10 features!\n"
     ]
    },
    {
     "name": "stderr",
     "output_type": "stream",
     "text": [
      "IO Load: 100%|██████████| 780/780 [00:09<00:00, 84.14it/s]\n",
      "IO Load: 100%|██████████| 1/1 [00:00<00:00, 43.52it/s]\n",
      "ic eval:  41%|████▏     | 322/780 [00:17<00:21, 21.74it/s]/Users/ziwenchen/miniconda3/envs/TockFormer/lib/python3.10/site-packages/numpy/lib/_nanfunctions_impl.py:1882: RuntimeWarning: invalid value encountered in subtract\n",
      "  np.subtract(arr, avg, out=arr, casting='unsafe', where=where)\n",
      "ic eval: 100%|██████████| 780/780 [00:39<00:00, 19.75it/s]\n",
      "IO Load: 100%|██████████| 780/780 [00:09<00:00, 81.60it/s]\n",
      "IO Delete: 100%|██████████| 280/280 [00:00<00:00, 10962.74it/s]\n"
     ]
    }
   ],
   "execution_count": 12
  },
  {
   "metadata": {},
   "cell_type": "code",
   "source": [
    "df_features = finfact.df_features\n",
    "df_features.columns.tolist()"
   ],
   "id": "f2afaefae387460f",
   "outputs": [],
   "execution_count": null
  },
  {
   "metadata": {},
   "cell_type": "code",
   "source": [
    "finfact.visualize_structure_2d (seq_len=256,\n",
    "                                perplexity=30,\n",
    "                                n_neighbors=10,\n",
    "                                random_state=42,\n",
    "                                pca_evp=0.6,\n",
    "                                umap_components=2\n",
    "                                )"
   ],
   "id": "94200fd81f21504b",
   "outputs": [],
   "execution_count": null
  },
  {
   "metadata": {},
   "cell_type": "code",
   "source": [
    "df_eval_report = finfact.evaluate_clusterings(\n",
    "    dim_reduction='umap',\n",
    "    reduction_params={'n_components': 2, 'n_neighbors': 10, 'min_dist': 0.1},\n",
    "    algos= ['KMeans'],\n",
    "    n_jobs=12,\n",
    "    backend='thread',\n",
    "    seq_len=1\n",
    ")"
   ],
   "id": "39c1f7ce83413106",
   "outputs": [],
   "execution_count": null
  },
  {
   "metadata": {},
   "cell_type": "code",
   "source": "df_eval_report",
   "id": "14f09ad44bd6c500",
   "outputs": [],
   "execution_count": null
  },
  {
   "metadata": {},
   "cell_type": "code",
   "source": "best_row = df_eval_report.loc[12]",
   "id": "da148d8ee8d48eeb",
   "outputs": [],
   "execution_count": null
  },
  {
   "metadata": {},
   "cell_type": "code",
   "source": [
    "label_series = pd.Series(best_row['_labels'])\n",
    "counts = label_series.value_counts()\n",
    "print(counts)"
   ],
   "id": "e62c40daa50f942b",
   "outputs": [],
   "execution_count": null
  },
  {
   "metadata": {},
   "cell_type": "markdown",
   "source": "#### IC分析",
   "id": "4076ace233f62fcc"
  },
  {
   "metadata": {},
   "cell_type": "markdown",
   "source": "#### 相关性检测",
   "id": "fc8d7403e8d8f9ef"
  },
  {
   "metadata": {},
   "cell_type": "code",
   "source": "df_filtered = finfact.df_features.set_index('timestamp')",
   "id": "541a8302525074db",
   "outputs": [],
   "execution_count": null
  },
  {
   "metadata": {},
   "cell_type": "code",
   "source": [
    "corr = pd.DataFrame (df_filtered).corr ()\n",
    "plt.figure (figsize=(12, 10))\n",
    "sns.heatmap (corr, cmap='coolwarm', center=0)\n",
    "plt.title ('Feature Correlation Matrix')\n",
    "plt.show ()"
   ],
   "id": "88c97d3156f255",
   "outputs": [],
   "execution_count": null
  },
  {
   "metadata": {},
   "cell_type": "markdown",
   "source": "#### PCA分析",
   "id": "480ee89840ea04ba"
  },
  {
   "metadata": {},
   "cell_type": "code",
   "source": [
    "from sklearn.decomposition import PCA\n",
    "\n",
    "pca = PCA ()\n",
    "pca.fit (df_filtered)\n",
    "percent = 0.99\n",
    "\n",
    "cumulative = np.cumsum (pca.explained_variance_ratio_)\n",
    "n_PCs = np.argmax (cumulative >= percent) + 1\n",
    "\n",
    "print (f\"前 {n_PCs} 个主成分累计解释了 {cumulative[n_PCs - 1]:.2%} 的方差\")\n",
    "feature_names = df_featured.columns\n",
    "\n",
    "# 打印所有有重大贡献的主成分\n",
    "for i in range (n_PCs):\n",
    "    # 第 i 个主成分的系数\n",
    "    pc = pca.components_[i]\n",
    "\n",
    "    # 取绝对值最大的特征位置\n",
    "    top_feature_idx = np.argmax (np.abs (pc))\n",
    "    top_feature_name = feature_names[top_feature_idx]\n",
    "\n",
    "    print (f\"PC{i + 1} 的主导因子是: {top_feature_name}（贡献系数: {pc[top_feature_idx]:.4f}）\")"
   ],
   "id": "ddb7e5f8690302df",
   "outputs": [],
   "execution_count": null
  },
  {
   "metadata": {},
   "cell_type": "code",
   "source": "",
   "id": "2baa7f927200c996",
   "outputs": [],
   "execution_count": null
  }
 ],
 "metadata": {
  "kernelspec": {
   "display_name": "Python 3",
   "language": "python",
   "name": "python3"
  },
  "language_info": {
   "codemirror_mode": {
    "name": "ipython",
    "version": 2
   },
   "file_extension": ".py",
   "mimetype": "text/x-python",
   "name": "python",
   "nbconvert_exporter": "python",
   "pygments_lexer": "ipython2",
   "version": "2.7.6"
  }
 },
 "nbformat": 4,
 "nbformat_minor": 5
}
