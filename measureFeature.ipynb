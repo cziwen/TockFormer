{
 "cells": [
  {
   "metadata": {},
   "cell_type": "markdown",
   "source": "## 测量因子",
   "id": "4fe53b9b44901e09"
  },
  {
   "cell_type": "code",
   "id": "initial_id",
   "metadata": {
    "collapsed": true,
    "ExecuteTime": {
     "end_time": "2025-05-25T07:28:16.591355Z",
     "start_time": "2025-05-25T07:28:13.898404Z"
    }
   },
   "source": [
    "import pandas as pd\n",
    "import numpy as np\n",
    "\n",
    "from Utility.factorFactory import FactorFactory\n",
    "import matplotlib.pyplot as plt\n",
    "\n",
    "from Utility.registry import FACTOR_REGISTRY"
   ],
   "outputs": [
    {
     "name": "stderr",
     "output_type": "stream",
     "text": [
      "/Users/ziwenchen/miniconda3/envs/TockFormer/lib/python3.10/site-packages/tqdm/auto.py:21: TqdmWarning: IProgress not found. Please update jupyter and ipywidgets. See https://ipywidgets.readthedocs.io/en/stable/user_install.html\n",
      "  from .autonotebook import tqdm as notebook_tqdm\n"
     ]
    }
   ],
   "execution_count": 1
  },
  {
   "metadata": {},
   "cell_type": "markdown",
   "source": "### （1）预处理数据：",
   "id": "da8929de9df70348"
  },
  {
   "metadata": {
    "ExecuteTime": {
     "end_time": "2025-05-25T07:28:16.793598Z",
     "start_time": "2025-05-25T07:28:16.596458Z"
    }
   },
   "cell_type": "code",
   "source": [
    "df = pd.read_csv ('SPY_2020-07-01_2021-07-01_minute.csv')\n",
    "df.shape"
   ],
   "id": "286b83766d921af8",
   "outputs": [
    {
     "data": {
      "text/plain": [
       "(220161, 17)"
      ]
     },
     "execution_count": 2,
     "metadata": {},
     "output_type": "execute_result"
    }
   ],
   "execution_count": 2
  },
  {
   "metadata": {
    "ExecuteTime": {
     "end_time": "2025-05-25T07:28:16.898925Z",
     "start_time": "2025-05-25T07:28:16.896724Z"
    }
   },
   "cell_type": "code",
   "source": "df.columns",
   "id": "13fb26b2e2cf68fa",
   "outputs": [
    {
     "data": {
      "text/plain": [
       "Index(['timestamp', 'open', 'high', 'low', 'close', 'volume', 'dollar_volume',\n",
       "       'tick_count', 'trade_size_mean', 'trade_size_std', 'zero_return_count',\n",
       "       'price_direction_ratio', 'large_trade_count', 'large_trade_volume',\n",
       "       'vwap', 'large_trade_ratio', 'large_trade_volume_ratio'],\n",
       "      dtype='object')"
      ]
     },
     "execution_count": 3,
     "metadata": {},
     "output_type": "execute_result"
    }
   ],
   "execution_count": 3
  },
  {
   "metadata": {
    "ExecuteTime": {
     "end_time": "2025-05-25T07:28:17.012911Z",
     "start_time": "2025-05-25T07:28:16.958669Z"
    }
   },
   "cell_type": "code",
   "source": "finfact = FactorFactory (df, forward_period=5, window=100, scaler='minmax', top_k=500)",
   "id": "45c35eb87726cfd",
   "outputs": [],
   "execution_count": 4
  },
  {
   "metadata": {
    "ExecuteTime": {
     "end_time": "2025-05-25T07:28:17.023983Z",
     "start_time": "2025-05-25T07:28:17.021561Z"
    }
   },
   "cell_type": "code",
   "source": "FACTOR_REGISTRY.keys()",
   "id": "3cbc44b675a312dd",
   "outputs": [
    {
     "data": {
      "text/plain": [
       "dict_keys(['rsi', 'sma', 'ema', 'macd', 'bbpband'])"
      ]
     },
     "execution_count": 5,
     "metadata": {},
     "output_type": "execute_result"
    }
   ],
   "execution_count": 5
  },
  {
   "metadata": {
    "jupyter": {
     "is_executing": true
    },
    "ExecuteTime": {
     "start_time": "2025-05-25T07:28:17.065531Z"
    }
   },
   "cell_type": "code",
   "source": [
    "finfact.generate_factors (mode='thread', n_job=12, bounded_only=False)\n",
    "df_featured = finfact.df_features\n",
    "df_featured.shape"
   ],
   "id": "5ba0ebe1c116c8aa",
   "outputs": [
    {
     "name": "stderr",
     "output_type": "stream",
     "text": [
      "Applying Factors: 100%|██████████| 80/80 [00:04<00:00, 17.24it/s]\n",
      "Applying Factors: 100%|██████████| 1200/1200 [01:01<00:00, 19.62it/s]\n",
      "🔄 cross_op (thread):  21%|██        | 36496/172800 [00:13<01:30, 1507.59it/s] "
     ]
    }
   ],
   "execution_count": null
  },
  {
   "metadata": {},
   "cell_type": "markdown",
   "source": "### （3）评测因子：",
   "id": "a6b2e4c330bffb0c"
  },
  {
   "metadata": {},
   "cell_type": "code",
   "source": "finfact.get_summary ()",
   "id": "98f0f0bb287db840",
   "outputs": [],
   "execution_count": null
  },
  {
   "metadata": {},
   "cell_type": "code",
   "source": "cur_features = finfact.next(steps=1, k=10, mode='thread', n_job=12, bounded_only=True)",
   "id": "dcb3786612a2a9a8",
   "outputs": [],
   "execution_count": null
  },
  {
   "metadata": {},
   "cell_type": "code",
   "source": [
    "df_features = finfact.df_features\n",
    "df_features.columns.tolist()"
   ],
   "id": "f2afaefae387460f",
   "outputs": [],
   "execution_count": null
  },
  {
   "metadata": {},
   "cell_type": "code",
   "source": [
    "finfact.visualize_structure_2d (seq_len=256,\n",
    "                                perplexity=30,\n",
    "                                n_neighbors=10,\n",
    "                                random_state=42,\n",
    "                                pca_evp=0.6,\n",
    "                                umap_components=2\n",
    "                                )"
   ],
   "id": "94200fd81f21504b",
   "outputs": [],
   "execution_count": null
  },
  {
   "metadata": {},
   "cell_type": "code",
   "source": [
    "df_eval_report = finfact.evaluate_clusterings(\n",
    "    dim_reduction='umap',\n",
    "    reduction_params={'n_components': 2, 'n_neighbors': 10, 'min_dist': 0.1},\n",
    "    algos= ['KMeans'],\n",
    "    n_jobs=12,\n",
    "    backend='thread',\n",
    "    seq_len=1\n",
    ")"
   ],
   "id": "39c1f7ce83413106",
   "outputs": [],
   "execution_count": null
  },
  {
   "metadata": {},
   "cell_type": "code",
   "source": "df_eval_report",
   "id": "14f09ad44bd6c500",
   "outputs": [],
   "execution_count": null
  },
  {
   "metadata": {},
   "cell_type": "code",
   "source": "best_row = df_eval_report.loc[12]",
   "id": "da148d8ee8d48eeb",
   "outputs": [],
   "execution_count": null
  },
  {
   "metadata": {},
   "cell_type": "code",
   "source": [
    "label_series = pd.Series(best_row['_labels'])\n",
    "counts = label_series.value_counts()\n",
    "print(counts)"
   ],
   "id": "e62c40daa50f942b",
   "outputs": [],
   "execution_count": null
  },
  {
   "metadata": {},
   "cell_type": "markdown",
   "source": "#### IC分析",
   "id": "4076ace233f62fcc"
  },
  {
   "metadata": {},
   "cell_type": "markdown",
   "source": "#### 相关性检测",
   "id": "fc8d7403e8d8f9ef"
  },
  {
   "metadata": {},
   "cell_type": "code",
   "source": "df_filtered = finfact.df_features.set_index('timestamp')",
   "id": "541a8302525074db",
   "outputs": [],
   "execution_count": null
  },
  {
   "metadata": {},
   "cell_type": "code",
   "source": [
    "corr = pd.DataFrame (df_filtered).corr ()\n",
    "plt.figure (figsize=(12, 10))\n",
    "sns.heatmap (corr, cmap='coolwarm', center=0)\n",
    "plt.title ('Feature Correlation Matrix')\n",
    "plt.show ()"
   ],
   "id": "88c97d3156f255",
   "outputs": [],
   "execution_count": null
  },
  {
   "metadata": {},
   "cell_type": "markdown",
   "source": "#### PCA分析",
   "id": "480ee89840ea04ba"
  },
  {
   "metadata": {},
   "cell_type": "code",
   "source": [
    "from sklearn.decomposition import PCA\n",
    "\n",
    "pca = PCA ()\n",
    "pca.fit (df_filtered)\n",
    "percent = 0.99\n",
    "\n",
    "cumulative = np.cumsum (pca.explained_variance_ratio_)\n",
    "n_PCs = np.argmax (cumulative >= percent) + 1\n",
    "\n",
    "print (f\"前 {n_PCs} 个主成分累计解释了 {cumulative[n_PCs - 1]:.2%} 的方差\")\n",
    "feature_names = df_featured.columns\n",
    "\n",
    "# 打印所有有重大贡献的主成分\n",
    "for i in range (n_PCs):\n",
    "    # 第 i 个主成分的系数\n",
    "    pc = pca.components_[i]\n",
    "\n",
    "    # 取绝对值最大的特征位置\n",
    "    top_feature_idx = np.argmax (np.abs (pc))\n",
    "    top_feature_name = feature_names[top_feature_idx]\n",
    "\n",
    "    print (f\"PC{i + 1} 的主导因子是: {top_feature_name}（贡献系数: {pc[top_feature_idx]:.4f}）\")"
   ],
   "id": "ddb7e5f8690302df",
   "outputs": [],
   "execution_count": null
  },
  {
   "metadata": {},
   "cell_type": "code",
   "source": "",
   "id": "2baa7f927200c996",
   "outputs": [],
   "execution_count": null
  }
 ],
 "metadata": {
  "kernelspec": {
   "display_name": "Python 3",
   "language": "python",
   "name": "python3"
  },
  "language_info": {
   "codemirror_mode": {
    "name": "ipython",
    "version": 2
   },
   "file_extension": ".py",
   "mimetype": "text/x-python",
   "name": "python",
   "nbconvert_exporter": "python",
   "pygments_lexer": "ipython2",
   "version": "2.7.6"
  }
 },
 "nbformat": 4,
 "nbformat_minor": 5
}
