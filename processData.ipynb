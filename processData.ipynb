{
 "cells": [
  {
   "metadata": {},
   "cell_type": "markdown",
   "source": "## 获得-处理 数据",
   "id": "dba798709b42d562"
  },
  {
   "metadata": {},
   "cell_type": "markdown",
   "source": "#### 导入包",
   "id": "60c3813e8070b755"
  },
  {
   "cell_type": "code",
   "id": "initial_id",
   "metadata": {
    "ExecuteTime": {
     "end_time": "2025-05-24T18:56:44.874356Z",
     "start_time": "2025-05-24T18:56:44.627513Z"
    }
   },
   "source": [
    "import numpy as np\n",
    "import pandas as pd\n",
    "import asyncio\n",
    "\n",
    "from datetime import time\n",
    "\n",
    "from Utility.Preprocessing import Preprocessor\n",
    "from Utility.DataRequest import fetch_tick_data, fetch_candle_data, fetch_nbbo_data"
   ],
   "outputs": [],
   "execution_count": 1
  },
  {
   "metadata": {},
   "cell_type": "markdown",
   "source": "### 必要设置：",
   "id": "5e22a701f5cd3084"
  },
  {
   "metadata": {
    "ExecuteTime": {
     "end_time": "2025-05-24T18:56:58.194143Z",
     "start_time": "2025-05-24T18:56:58.192012Z"
    }
   },
   "cell_type": "code",
   "source": [
    "SYMBOL = 'SPY'\n",
    "START_DATE = '2021-07-01'\n",
    "END_DATE = '2021-07-02'\n",
    "FINHUB_TOKEN = 'cvop3lhr01qihjtq3uvgcvop3lhr01qihjtq3v00'"
   ],
   "id": "cb48b80841cfee1",
   "outputs": [],
   "execution_count": 2
  },
  {
   "metadata": {},
   "cell_type": "markdown",
   "source": "### 获取tick数据：",
   "id": "dfecf71bebd7839f"
  },
  {
   "metadata": {},
   "cell_type": "code",
   "source": [
    "df_ticks = fetch_tick_data(\n",
    "    symbol=SYMBOL,\n",
    "    start_date=START_DATE,\n",
    "    end_date=END_DATE,\n",
    "    api_key=FINHUB_TOKEN,\n",
    "    page_workers=10,\n",
    "    day_workers=10,\n",
    "    limit=25000,\n",
    "    sleep_sec=0.2\n",
    ")\n"
   ],
   "id": "98149ef840ca962f",
   "outputs": [],
   "execution_count": null
  },
  {
   "metadata": {},
   "cell_type": "code",
   "source": [
    "# （可选）\n",
    "df_ticks.to_csv(f\"{SYMBOL}_{START_DATE}_{END_DATE}_ticks.csv\", index=False)"
   ],
   "id": "15d4b00f7e0fddac",
   "outputs": [],
   "execution_count": null
  },
  {
   "metadata": {},
   "cell_type": "code",
   "source": "df_ticks.tail(5)",
   "id": "b2a3c185d78032b3",
   "outputs": [],
   "execution_count": null
  },
  {
   "metadata": {},
   "cell_type": "code",
   "source": "df_ticks.shape",
   "id": "ccb6b65c60cc04a1",
   "outputs": [],
   "execution_count": null
  },
  {
   "metadata": {},
   "cell_type": "markdown",
   "source": "### 获取 NBBO 数据",
   "id": "4cb42025492da9ce"
  },
  {
   "metadata": {
    "ExecuteTime": {
     "end_time": "2025-05-24T18:45:20.824118Z",
     "start_time": "2025-05-24T18:43:39.598593Z"
    }
   },
   "cell_type": "code",
   "source": [
    "df_nbbo = fetch_nbbo_data(\n",
    "    symbol=SYMBOL,\n",
    "    start_date=START_DATE,\n",
    "    end_date=END_DATE,\n",
    "    api_key=FINHUB_TOKEN,\n",
    "    page_workers=10,\n",
    "    day_workers=5,\n",
    "    limit=10000,\n",
    "    sleep_sec=0.2\n",
    ")"
   ],
   "id": "48f04f8c6c91eb4",
   "outputs": [
    {
     "name": "stderr",
     "output_type": "stream",
     "text": [
      "Days:   0%|          | 0/2 [01:40<?, ?it/s]"
     ]
    },
    {
     "name": "stdout",
     "output_type": "stream",
     "text": [
      "Failed to fetch 2021-07-01: HTTPSConnectionPool(host='tick.finnhub.io', port=443): Read timed out. (read timeout=10)\n"
     ]
    },
    {
     "name": "stderr",
     "output_type": "stream",
     "text": [
      "Days:  50%|█████     | 1/2 [01:41<01:41, 101.01s/it]"
     ]
    },
    {
     "name": "stdout",
     "output_type": "stream",
     "text": [
      "Failed to fetch 2021-07-02: HTTPSConnectionPool(host='tick.finnhub.io', port=443): Read timed out. (read timeout=10)\n"
     ]
    },
    {
     "name": "stderr",
     "output_type": "stream",
     "text": [
      "Days: 100%|██████████| 2/2 [01:41<00:00, 50.61s/it] \n"
     ]
    }
   ],
   "execution_count": 36
  },
  {
   "metadata": {
    "ExecuteTime": {
     "end_time": "2025-05-24T18:58:37.696724Z",
     "start_time": "2025-05-24T18:58:37.037474Z"
    }
   },
   "cell_type": "code",
   "source": [
    "import finnhub\n",
    "\n",
    "finnhub_client = finnhub.Client(api_key=\"cvop3lhr01qihjtq3uvgcvop3lhr01qihjtq3v00\")\n",
    "\n",
    "print(finnhub_client.stock_nbbo('AAPL', '2020-07-02', 500, 0))"
   ],
   "id": "653fb20b23e68839",
   "outputs": [
    {
     "name": "stdout",
     "output_type": "stream",
     "text": [
      "{'a': [], 'av': [], 'ax': [], 'b': [], 'bv': [], 'bx': [], 'c': [], 's': 'AAPL', 'skip': 0, 't': []}\n"
     ]
    }
   ],
   "execution_count": 4
  },
  {
   "metadata": {
    "ExecuteTime": {
     "end_time": "2025-05-24T18:42:53.277681Z",
     "start_time": "2025-05-24T18:42:53.274014Z"
    }
   },
   "cell_type": "code",
   "source": "df_nbbo.tail(5)",
   "id": "b11b160abeaa77ab",
   "outputs": [
    {
     "data": {
      "text/plain": [
       "Empty DataFrame\n",
       "Columns: []\n",
       "Index: []"
      ],
      "text/html": [
       "<div>\n",
       "<style scoped>\n",
       "    .dataframe tbody tr th:only-of-type {\n",
       "        vertical-align: middle;\n",
       "    }\n",
       "\n",
       "    .dataframe tbody tr th {\n",
       "        vertical-align: top;\n",
       "    }\n",
       "\n",
       "    .dataframe thead th {\n",
       "        text-align: right;\n",
       "    }\n",
       "</style>\n",
       "<table border=\"1\" class=\"dataframe\">\n",
       "  <thead>\n",
       "    <tr style=\"text-align: right;\">\n",
       "      <th></th>\n",
       "    </tr>\n",
       "  </thead>\n",
       "  <tbody>\n",
       "  </tbody>\n",
       "</table>\n",
       "</div>"
      ]
     },
     "execution_count": 34,
     "metadata": {},
     "output_type": "execute_result"
    }
   ],
   "execution_count": 34
  },
  {
   "metadata": {},
   "cell_type": "markdown",
   "source": [
    "### 处理数据：\n",
    "给数据做集合，过滤"
   ],
   "id": "a9635f59831cb1ab"
  },
  {
   "metadata": {},
   "cell_type": "code",
   "source": [
    "df_minute = Preprocessor.aggregate_tick_to_minute(df_ticks)\n",
    "df_minute = df_minute.dropna()\n",
    "df_minute.columns"
   ],
   "id": "b3429b6a8600d0f1",
   "outputs": [],
   "execution_count": null
  },
  {
   "metadata": {},
   "cell_type": "code",
   "source": [
    "# （可选）\n",
    "df_minute.to_csv(f\"{SYMBOL}_{START_DATE}_{END_DATE}_minute.csv\", index=False)"
   ],
   "id": "a684fdb7eb8e7280",
   "outputs": [],
   "execution_count": null
  },
  {
   "metadata": {},
   "cell_type": "markdown",
   "source": [
    "### 请求分钟数据（可选）\n",
    "可以用来做验证。看看tick 数据的行数是否对的上\n"
   ],
   "id": "4ff569a1a9eb9e28"
  },
  {
   "cell_type": "code",
   "id": "9f84973ee935778f",
   "metadata": {},
   "source": [
    "min_interval = 1\n",
    "# 请求数据\n",
    "df_finhub_agg = fetch_candle_data(\n",
    "    symbol= SYMBOL,\n",
    "    start_date=START_DATE,\n",
    "    end_date=END_DATE,\n",
    "    interval=min_interval, # 单位为分钟\n",
    "    token=FINHUB_TOKEN,\n",
    "    chunk_days=25,\n",
    "    max_workers=10\n",
    ")\n"
   ],
   "outputs": [],
   "execution_count": null
  },
  {
   "metadata": {},
   "cell_type": "markdown",
   "source": [
    "### 验证数据行数（可选）\n",
    "可以在这里比较数据的准确性等"
   ],
   "id": "f0118b29608a2862"
  },
  {
   "metadata": {},
   "cell_type": "code",
   "source": [
    "# 定义交易时间\n",
    "start_time = time(9, 30)\n",
    "end_time   = time(16, 0)\n",
    "\n",
    "# 构造掩码：9:30–16:00\n",
    "df_minute_masked = df_minute[df_minute['timestamp'].dt.time.between(start_time, end_time)]\n",
    "df_finhub_agg_masked = df_finhub_agg[df_finhub_agg['timestamp'].between(start_time, end_time)]\n",
    "\n",
    "df_minute_masked.shape, df_finhub_agg_masked.shape"
   ],
   "id": "9028b191d2b6bc7a",
   "outputs": [],
   "execution_count": null
  },
  {
   "metadata": {},
   "cell_type": "markdown",
   "source": "#### ",
   "id": "33f3e3d4d189a807"
  },
  {
   "metadata": {},
   "cell_type": "code",
   "source": [
    "path_lo = f\"{SYMBOL}_{START_DATE}_{END_DATE}_{LOFREQ}m_raw.csv\"\n",
    "path_hi = f\"{SYMBOL}_{START_DATE}_{END_DATE}_{HIFRREQ}m_raw.csv\"\n",
    "df_loFreq.to_csv(path_lo, index=False)\n",
    "df_hiFreq.to_csv(path_hi, index=False)"
   ],
   "id": "5b9ebf662eeae1de",
   "outputs": [],
   "execution_count": null
  },
  {
   "cell_type": "code",
   "id": "eedb7ff287953901",
   "metadata": {},
   "source": [
    "# 检查数据\n",
    "df_loFreq.shape\n",
    "# df_hiFreq.tail(2)"
   ],
   "outputs": [],
   "execution_count": null
  },
  {
   "metadata": {},
   "cell_type": "code",
   "source": [
    "# 把高频转换成低频集合\n",
    "df_hiFreq_agg = aggregate_high_freq_to_low (df_hiFreq, freq='5min')\n",
    "\n",
    "# 计算因子\n",
    "df_loFreq_factored = add_factors (df_loFreq)\n",
    "\n",
    "# # 拼接\n",
    "df_merged = pd.merge (df_loFreq_factored, df_hiFreq_agg, how='left', on='timestamp')\n",
    "df_merged = clean_outliers(df_merged, z_thresh=10, show_msg=True)"
   ],
   "id": "53fdbdecc727fc7f",
   "outputs": [],
   "execution_count": null
  },
  {
   "cell_type": "code",
   "id": "cb5fb82fa529bc5b",
   "metadata": {},
   "source": [
    "# 检查数值\n",
    "# df_merged[df_merged['close_volatility'] == 0]\n",
    "\n",
    "df_merged.shape"
   ],
   "outputs": [],
   "execution_count": null
  },
  {
   "cell_type": "code",
   "id": "e4440ce6c28b498c",
   "metadata": {},
   "source": [
    "import re\n",
    "path = f\"{SYMBOL}_{START_DATE}_{END_DATE}_{LOFREQ}m.csv\"\n",
    "# path = re.sub(r'[^\\w\\-]', '', path)\n",
    "df_merged.to_csv(path, index=False)"
   ],
   "outputs": [],
   "execution_count": null
  },
  {
   "cell_type": "code",
   "id": "329e035b",
   "metadata": {},
   "source": [],
   "outputs": [],
   "execution_count": null
  }
 ],
 "metadata": {
  "kernelspec": {
   "display_name": "TockFormer",
   "language": "python",
   "name": "python3"
  },
  "language_info": {
   "codemirror_mode": {
    "name": "ipython",
    "version": 3
   },
   "file_extension": ".py",
   "mimetype": "text/x-python",
   "name": "python",
   "nbconvert_exporter": "python",
   "pygments_lexer": "ipython3",
   "version": "3.10.17"
  }
 },
 "nbformat": 4,
 "nbformat_minor": 5
}
