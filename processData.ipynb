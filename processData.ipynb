{
 "cells": [
  {
   "metadata": {},
   "cell_type": "markdown",
   "source": "## 获得-处理 数据",
   "id": "dba798709b42d562"
  },
  {
   "metadata": {},
   "cell_type": "markdown",
   "source": "#### 导入包",
   "id": "60c3813e8070b755"
  },
  {
   "cell_type": "code",
   "id": "initial_id",
   "metadata": {
    "ExecuteTime": {
     "end_time": "2025-05-11T21:04:13.616237Z",
     "start_time": "2025-05-11T21:04:13.613382Z"
    }
   },
   "source": [
    "import numpy as np\n",
    "import pandas as pd\n",
    "import asyncio\n",
    "\n",
    "from datetime import time\n",
    "from CSVModifier import aggregate_high_freq_to_low, add_factors, clean_outliers\n",
    "from Preprocessing import aggregate_tick_to_minute\n",
    "from DataRequest import fetch_tick_data, fetch_candle_data"
   ],
   "outputs": [],
   "execution_count": 32
  },
  {
   "metadata": {},
   "cell_type": "markdown",
   "source": "### 必要设置：",
   "id": "5e22a701f5cd3084"
  },
  {
   "metadata": {
    "ExecuteTime": {
     "end_time": "2025-05-11T20:49:52.097447Z",
     "start_time": "2025-05-11T20:49:52.094731Z"
    }
   },
   "cell_type": "code",
   "source": [
    "SYMBOL = 'SPY'\n",
    "START_DATE = '2025-05-03'\n",
    "END_DATE = '2025-05-06'\n",
    "FINHUB_TOKEN = 'cvop3lhr01qihjtq3uvgcvop3lhr01qihjtq3v00'"
   ],
   "id": "cb48b80841cfee1",
   "outputs": [],
   "execution_count": 2
  },
  {
   "metadata": {},
   "cell_type": "markdown",
   "source": "### 获取tick数据：",
   "id": "dfecf71bebd7839f"
  },
  {
   "metadata": {},
   "cell_type": "code",
   "source": [
    "df_ticks = fetch_tick_data(\n",
    "    symbol=SYMBOL,\n",
    "    start_date=START_DATE,\n",
    "    end_date=END_DATE,\n",
    "    api_key=FINHUB_TOKEN,\n",
    "    page_workers=10,\n",
    "    day_workers=5,\n",
    "    limit=25000,\n",
    "    sleep_sec=0.1\n",
    ")\n"
   ],
   "id": "98149ef840ca962f",
   "outputs": [],
   "execution_count": null
  },
  {
   "metadata": {},
   "cell_type": "code",
   "outputs": [],
   "execution_count": null,
   "source": [
    "# （可选）\n",
    "# df_ticks.to_csv(f\"{SYMBOL}_{START_DATE}_{END_DATE}_ticks.csv\", index=False)"
   ],
   "id": "15d4b00f7e0fddac"
  },
  {
   "metadata": {},
   "cell_type": "markdown",
   "source": [
    "### 处理数据：\n",
    "给数据做集合，过滤"
   ],
   "id": "a9635f59831cb1ab"
  },
  {
   "metadata": {
    "ExecuteTime": {
     "end_time": "2025-05-11T21:01:45.087838Z",
     "start_time": "2025-05-11T21:01:42.638442Z"
    }
   },
   "cell_type": "code",
   "source": [
    "df_minute = aggregate_tick_to_minute(df_ticks)\n",
    "df_minute = df_minute.dropna()\n",
    "df_minute.columns"
   ],
   "id": "b3429b6a8600d0f1",
   "outputs": [
    {
     "name": "stdout",
     "output_type": "stream",
     "text": [
      "[Info] Dropped 1956 rows due to invalid timestamps.\n"
     ]
    },
    {
     "data": {
      "text/plain": [
       "Index(['timestamp', 'open', 'high', 'low', 'close', 'volume', 'dollar_volume',\n",
       "       'vwap', 'tick_count', 'trade_size_mean', 'trade_size_std',\n",
       "       'zero_return_count', 'price_direction_ratio', 'large_trade_count',\n",
       "       'large_trade_ratio', 'large_trade_volume_ratio'],\n",
       "      dtype='object')"
      ]
     },
     "execution_count": 31,
     "metadata": {},
     "output_type": "execute_result"
    }
   ],
   "execution_count": 31
  },
  {
   "metadata": {},
   "cell_type": "markdown",
   "source": [
    "### 请求分钟数据（可选）\n",
    "可以用来做验证。看看tick 数据的行数是否对的上\n"
   ],
   "id": "4ff569a1a9eb9e28"
  },
  {
   "cell_type": "code",
   "id": "9f84973ee935778f",
   "metadata": {
    "ExecuteTime": {
     "end_time": "2025-05-11T20:53:31.272198Z",
     "start_time": "2025-05-11T20:53:31.078099Z"
    }
   },
   "source": [
    "min_interval = 1\n",
    "# 请求数据\n",
    "df_finhub_agg = fetch_candle_data(\n",
    "    symbol= SYMBOL,\n",
    "    start_date=START_DATE,\n",
    "    end_date=END_DATE,\n",
    "    interval=min_interval, # 单位为分钟\n",
    "    token=FINHUB_TOKEN,\n",
    "    chunk_days=25,\n",
    "    max_workers=10\n",
    ")\n"
   ],
   "outputs": [
    {
     "name": "stderr",
     "output_type": "stream",
     "text": [
      "SPY 1-min K 线块: 100%|██████████| 1/1 [00:00<00:00,  5.48it/s]\n"
     ]
    }
   ],
   "execution_count": 19
  },
  {
   "metadata": {},
   "cell_type": "markdown",
   "source": [
    "### 验证数据行数（可选）\n",
    "可以在这里比较数据的准确性等"
   ],
   "id": "f0118b29608a2862"
  },
  {
   "metadata": {},
   "cell_type": "code",
   "outputs": [],
   "execution_count": null,
   "source": [
    "# 定义交易时间\n",
    "start_time = time(9, 30)\n",
    "end_time   = time(16, 0)\n",
    "\n",
    "# 构造掩码：9:30–16:00\n",
    "df_minute_masked = df_minute[df_minute['timestamp'].dt.time.between(start_time, end_time)]\n",
    "df_finhub_agg_masked = df_finhub_agg[df_finhub_agg['timestamp'].between(start_time, end_time)]\n",
    "\n",
    "df_minute_masked.shape, df_finhub_agg_masked.shape"
   ],
   "id": "9028b191d2b6bc7a"
  },
  {
   "metadata": {},
   "cell_type": "markdown",
   "source": "#### ",
   "id": "33f3e3d4d189a807"
  },
  {
   "metadata": {},
   "cell_type": "code",
   "source": [
    "path_lo = f\"{SYMBOL}_{START_DATE}_{END_DATE}_{LOFREQ}m_raw.csv\"\n",
    "path_hi = f\"{SYMBOL}_{START_DATE}_{END_DATE}_{HIFRREQ}m_raw.csv\"\n",
    "df_loFreq.to_csv(path_lo, index=False)\n",
    "df_hiFreq.to_csv(path_hi, index=False)"
   ],
   "id": "5b9ebf662eeae1de",
   "outputs": [],
   "execution_count": null
  },
  {
   "cell_type": "code",
   "id": "eedb7ff287953901",
   "metadata": {},
   "source": [
    "# 检查数据\n",
    "df_loFreq.shape\n",
    "# df_hiFreq.tail(2)"
   ],
   "outputs": [],
   "execution_count": null
  },
  {
   "metadata": {},
   "cell_type": "code",
   "outputs": [],
   "execution_count": null,
   "source": [
    "# 把高频转换成低频集合\n",
    "df_hiFreq_agg = aggregate_high_freq_to_low (df_hiFreq, freq='5min')\n",
    "\n",
    "# 计算因子\n",
    "df_loFreq_factored = add_factors (df_loFreq)\n",
    "\n",
    "# # 拼接\n",
    "df_merged = pd.merge (df_loFreq_factored, df_hiFreq_agg, how='left', on='timestamp')\n",
    "df_merged = clean_outliers(df_merged, z_thresh=10, show_msg=True)"
   ],
   "id": "53fdbdecc727fc7f"
  },
  {
   "cell_type": "code",
   "id": "cb5fb82fa529bc5b",
   "metadata": {},
   "source": [
    "# 检查数值\n",
    "# df_merged[df_merged['close_volatility'] == 0]\n",
    "\n",
    "df_merged.shape"
   ],
   "outputs": [],
   "execution_count": null
  },
  {
   "cell_type": "code",
   "id": "e4440ce6c28b498c",
   "metadata": {},
   "source": [
    "import re\n",
    "path = f\"{SYMBOL}_{START_DATE}_{END_DATE}_{LOFREQ}m.csv\"\n",
    "# path = re.sub(r'[^\\w\\-]', '', path)\n",
    "df_merged.to_csv(path, index=False)"
   ],
   "outputs": [],
   "execution_count": null
  },
  {
   "cell_type": "code",
   "id": "329e035b",
   "metadata": {},
   "source": [],
   "outputs": [],
   "execution_count": null
  }
 ],
 "metadata": {
  "kernelspec": {
   "display_name": "TockFormer",
   "language": "python",
   "name": "python3"
  },
  "language_info": {
   "codemirror_mode": {
    "name": "ipython",
    "version": 3
   },
   "file_extension": ".py",
   "mimetype": "text/x-python",
   "name": "python",
   "nbconvert_exporter": "python",
   "pygments_lexer": "ipython3",
   "version": "3.10.17"
  }
 },
 "nbformat": 4,
 "nbformat_minor": 5
}
