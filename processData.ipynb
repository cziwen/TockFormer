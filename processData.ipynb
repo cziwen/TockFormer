{
 "cells": [
  {
   "cell_type": "code",
   "execution_count": 12,
   "id": "initial_id",
   "metadata": {
    "ExecuteTime": {
     "end_time": "2025-05-03T20:29:07.070238Z",
     "start_time": "2025-05-03T20:29:07.067984Z"
    }
   },
   "outputs": [],
   "source": [
    "from CSVModifier import aggregate_high_freq_to_low, add_factors, clean_outliers\n",
    "from sklearn.impute import SimpleImputer\n",
    "import numpy as np\n",
    "import pandas as pd\n",
    "\n",
    "\n",
    "from Util import fetch_stock_data_finnhub_paginated"
   ]
  },
  {
   "cell_type": "code",
   "execution_count": 16,
   "id": "cb48b80841cfee1",
   "metadata": {
    "ExecuteTime": {
     "end_time": "2025-05-03T20:42:50.974482Z",
     "start_time": "2025-05-03T20:42:50.972045Z"
    }
   },
   "outputs": [],
   "source": [
    "SYMBOL = 'SPY'\n",
    "START_DATE = '2025-05-01'\n",
    "END_DATE = '2025-05-07'\n",
    "FINHUB_TOKEN = 'cvop3lhr01qihjtq3uvgcvop3lhr01qihjtq3v00'\n",
    "HIFRREQ = '15'\n",
    "LOFREQ = '60'"
   ]
  },
  {
   "cell_type": "code",
   "execution_count": 17,
   "id": "ea69d1d55c7682b2",
   "metadata": {
    "ExecuteTime": {
     "end_time": "2025-05-03T20:30:43.490920Z",
     "start_time": "2025-05-03T20:29:08.035965Z"
    }
   },
   "outputs": [
    {
     "name": "stdout",
     "output_type": "stream",
     "text": [
      "Fetching 2025-05-01 to 2025-05-07... Status: ok\n",
      "Fetching 2025-05-01 to 2025-05-07... Status: ok\n"
     ]
    }
   ],
   "source": [
    "# 请求数据\n",
    "df_hiFreq = fetch_stock_data_finnhub_paginated(\n",
    "    symbol= SYMBOL,\n",
    "    start_date=START_DATE,\n",
    "    end_date=END_DATE,\n",
    "    interval=HIFRREQ, # 单位为分钟\n",
    "    token=FINHUB_TOKEN,\n",
    "    chunk_days=25,\n",
    "    verbose=True\n",
    ")\n",
    "\n",
    "df_loFreq = fetch_stock_data_finnhub_paginated(\n",
    "    symbol= SYMBOL,\n",
    "    start_date=START_DATE,\n",
    "    end_date=END_DATE,\n",
    "    interval=LOFREQ, # 单位为分钟\n",
    "    token=FINHUB_TOKEN,\n",
    "    chunk_days=25,\n",
    "    verbose=True\n",
    ")\n"
   ]
  },
  {
   "cell_type": "code",
   "execution_count": 18,
   "id": "eedb7ff287953901",
   "metadata": {
    "ExecuteTime": {
     "end_time": "2025-05-03T20:33:06.184665Z",
     "start_time": "2025-05-03T20:33:06.175928Z"
    }
   },
   "outputs": [
    {
     "data": {
      "text/html": [
       "<div>\n",
       "<style scoped>\n",
       "    .dataframe tbody tr th:only-of-type {\n",
       "        vertical-align: middle;\n",
       "    }\n",
       "\n",
       "    .dataframe tbody tr th {\n",
       "        vertical-align: top;\n",
       "    }\n",
       "\n",
       "    .dataframe thead th {\n",
       "        text-align: right;\n",
       "    }\n",
       "</style>\n",
       "<table border=\"1\" class=\"dataframe\">\n",
       "  <thead>\n",
       "    <tr style=\"text-align: right;\">\n",
       "      <th></th>\n",
       "      <th>timestamp</th>\n",
       "      <th>open</th>\n",
       "      <th>high</th>\n",
       "      <th>low</th>\n",
       "      <th>close</th>\n",
       "      <th>volume</th>\n",
       "    </tr>\n",
       "  </thead>\n",
       "  <tbody>\n",
       "    <tr>\n",
       "      <th>58</th>\n",
       "      <td>2025-05-06 18:00:00</td>\n",
       "      <td>558.7210</td>\n",
       "      <td>561.091</td>\n",
       "      <td>558.584</td>\n",
       "      <td>561.0510</td>\n",
       "      <td>5144519</td>\n",
       "    </tr>\n",
       "    <tr>\n",
       "      <th>59</th>\n",
       "      <td>2025-05-06 19:00:00</td>\n",
       "      <td>560.8710</td>\n",
       "      <td>561.411</td>\n",
       "      <td>558.709</td>\n",
       "      <td>558.8110</td>\n",
       "      <td>12195181</td>\n",
       "    </tr>\n",
       "    <tr>\n",
       "      <th>60</th>\n",
       "      <td>2025-05-06 20:00:00</td>\n",
       "      <td>558.7810</td>\n",
       "      <td>559.511</td>\n",
       "      <td>556.809</td>\n",
       "      <td>557.8611</td>\n",
       "      <td>3118577</td>\n",
       "    </tr>\n",
       "    <tr>\n",
       "      <th>61</th>\n",
       "      <td>2025-05-06 21:00:00</td>\n",
       "      <td>557.8611</td>\n",
       "      <td>558.811</td>\n",
       "      <td>557.239</td>\n",
       "      <td>557.3710</td>\n",
       "      <td>530932</td>\n",
       "    </tr>\n",
       "    <tr>\n",
       "      <th>62</th>\n",
       "      <td>2025-05-06 22:00:00</td>\n",
       "      <td>560.6810</td>\n",
       "      <td>563.921</td>\n",
       "      <td>560.529</td>\n",
       "      <td>562.6310</td>\n",
       "      <td>148606</td>\n",
       "    </tr>\n",
       "  </tbody>\n",
       "</table>\n",
       "</div>"
      ],
      "text/plain": [
       "             timestamp      open     high      low     close    volume\n",
       "58 2025-05-06 18:00:00  558.7210  561.091  558.584  561.0510   5144519\n",
       "59 2025-05-06 19:00:00  560.8710  561.411  558.709  558.8110  12195181\n",
       "60 2025-05-06 20:00:00  558.7810  559.511  556.809  557.8611   3118577\n",
       "61 2025-05-06 21:00:00  557.8611  558.811  557.239  557.3710    530932\n",
       "62 2025-05-06 22:00:00  560.6810  563.921  560.529  562.6310    148606"
      ]
     },
     "execution_count": 18,
     "metadata": {},
     "output_type": "execute_result"
    }
   ],
   "source": [
    "# 检查数据\n",
    "df_loFreq.tail(5)\n",
    "# df_hiFreq.tail(5)"
   ]
  },
  {
   "cell_type": "code",
   "execution_count": 19,
   "id": "53fdbdecc727fc7f",
   "metadata": {
    "ExecuteTime": {
     "end_time": "2025-05-03T20:32:45.452576Z",
     "start_time": "2025-05-03T20:32:45.128240Z"
    }
   },
   "outputs": [
    {
     "name": "stdout",
     "output_type": "stream",
     "text": [
      "检测到 0 个异常值在 open 列\n",
      "检测到 0 个异常值在 high 列\n",
      "检测到 0 个异常值在 low 列\n",
      "检测到 0 个异常值在 close 列\n",
      "检测到 0 个异常值在 volume 列\n",
      "检测到 0 个异常值在 vwap 列\n",
      "检测到 0 个异常值在 EMA5_open 列\n",
      "检测到 0 个异常值在 EMA10_open 列\n",
      "检测到 0 个异常值在 EMA20_open 列\n",
      "检测到 0 个异常值在 EMA5_high 列\n",
      "检测到 0 个异常值在 EMA10_high 列\n",
      "检测到 0 个异常值在 EMA20_high 列\n",
      "检测到 0 个异常值在 EMA5_low 列\n",
      "检测到 0 个异常值在 EMA10_low 列\n",
      "检测到 0 个异常值在 EMA20_low 列\n",
      "检测到 0 个异常值在 EMA5_close 列\n",
      "检测到 0 个异常值在 EMA10_close 列\n",
      "检测到 0 个异常值在 EMA20_close 列\n",
      "检测到 0 个异常值在 RSI_open 列\n",
      "检测到 0 个异常值在 MACD_value_open 列\n",
      "检测到 0 个异常值在 MACD_signal_open 列\n",
      "检测到 0 个异常值在 MACD_histogram_open 列\n",
      "检测到 0 个异常值在 ROC_open 列\n",
      "检测到 0 个异常值在 RSI_high 列\n",
      "检测到 0 个异常值在 MACD_value_high 列\n",
      "检测到 0 个异常值在 MACD_signal_high 列\n",
      "检测到 0 个异常值在 MACD_histogram_high 列\n",
      "检测到 0 个异常值在 ROC_high 列\n",
      "检测到 0 个异常值在 RSI_low 列\n",
      "检测到 0 个异常值在 MACD_value_low 列\n",
      "检测到 0 个异常值在 MACD_signal_low 列\n",
      "检测到 0 个异常值在 MACD_histogram_low 列\n",
      "检测到 0 个异常值在 ROC_low 列\n",
      "检测到 0 个异常值在 RSI_close 列\n",
      "检测到 0 个异常值在 MACD_value_close 列\n",
      "检测到 0 个异常值在 MACD_signal_close 列\n",
      "检测到 0 个异常值在 MACD_histogram_close 列\n",
      "检测到 0 个异常值在 ROC_close 列\n",
      "检测到 0 个异常值在 Stoch_K 列\n",
      "检测到 0 个异常值在 Stoch_D 列\n",
      "检测到 0 个异常值在 Volume_SMA5 列\n",
      "检测到 0 个异常值在 Volume_SMA10 列\n",
      "检测到 0 个异常值在 Volume_ROC 列\n",
      "检测到 0 个异常值在 OBV 列\n",
      "检测到 0 个异常值在 open_volatility 列\n",
      "检测到 0 个异常值在 high_volatility 列\n",
      "检测到 0 个异常值在 low_volatility 列\n",
      "检测到 0 个异常值在 close_volatility 列\n",
      "检测到 0 个异常值在 volume_volatility 列\n",
      "✅ 替换了 0 个异常值\n",
      "❌ 删除了 20 行（因为存在 NaN）\n"
     ]
    }
   ],
   "source": [
    "# 把高频转换成低频集合\n",
    "df_hiFreq_agg = aggregate_high_freq_to_low (df_hiFreq)\n",
    "\n",
    "# 计算因子\n",
    "df_loFreq_factored = add_factors (df_loFreq)\n",
    "\n",
    "# 拼接\n",
    "df_merged = pd.merge (df_loFreq_factored, df_hiFreq_agg, how='left', on='timestamp')\n",
    "df_merged = clean_outliers(df_merged, z_thresh=10, show_msg=True)"
   ]
  },
  {
   "cell_type": "code",
   "execution_count": 21,
   "id": "cb5fb82fa529bc5b",
   "metadata": {
    "ExecuteTime": {
     "end_time": "2025-05-03T20:39:35.717389Z",
     "start_time": "2025-05-03T20:39:35.704735Z"
    }
   },
   "outputs": [
    {
     "data": {
      "text/plain": [
       "(43, 50)"
      ]
     },
     "execution_count": 21,
     "metadata": {},
     "output_type": "execute_result"
    }
   ],
   "source": [
    "# 检查数值\n",
    "df_merged[df_merged['close_volatility'] == 0]\n",
    "\n",
    "df_merged.shape"
   ]
  },
  {
   "cell_type": "code",
   "execution_count": 22,
   "id": "e4440ce6c28b498c",
   "metadata": {
    "ExecuteTime": {
     "end_time": "2025-05-03T20:47:30.981894Z",
     "start_time": "2025-05-03T20:47:30.506830Z"
    }
   },
   "outputs": [],
   "source": [
    "import re\n",
    "path = f\"{SYMBOL}_{START_DATE}_{END_DATE}_{LOFREQ}m.csv\"\n",
    "# path = re.sub(r'[^\\w\\-]', '', path)\n",
    "df_merged.to_csv(path, index=False)"
   ]
  },
  {
   "cell_type": "code",
   "execution_count": null,
   "id": "329e035b",
   "metadata": {},
   "outputs": [],
   "source": []
  }
 ],
 "metadata": {
  "kernelspec": {
   "display_name": "TockFormer",
   "language": "python",
   "name": "python3"
  },
  "language_info": {
   "codemirror_mode": {
    "name": "ipython",
    "version": 3
   },
   "file_extension": ".py",
   "mimetype": "text/x-python",
   "name": "python",
   "nbconvert_exporter": "python",
   "pygments_lexer": "ipython3",
   "version": "3.10.17"
  }
 },
 "nbformat": 4,
 "nbformat_minor": 5
}
