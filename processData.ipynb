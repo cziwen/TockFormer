{
 "cells": [
  {
   "cell_type": "code",
   "id": "initial_id",
   "metadata": {
    "ExecuteTime": {
     "end_time": "2025-05-07T22:34:46.621284Z",
     "start_time": "2025-05-07T22:34:44.423513Z"
    }
   },
   "source": [
    "from CSVModifier import aggregate_high_freq_to_low, add_factors, clean_outliers\n",
    "import numpy as np\n",
    "import pandas as pd\n",
    "\n",
    "\n",
    "from Util import fetch_stock_data_finnhub_paginated"
   ],
   "outputs": [],
   "execution_count": 1
  },
  {
   "cell_type": "code",
   "id": "cb48b80841cfee1",
   "metadata": {
    "ExecuteTime": {
     "end_time": "2025-05-07T22:34:46.628829Z",
     "start_time": "2025-05-07T22:34:46.627241Z"
    }
   },
   "source": [
    "SYMBOL = 'SPY'\n",
    "START_DATE = '2020-01-01'\n",
    "END_DATE = '2025-05-07'\n",
    "FINHUB_TOKEN = 'cvop3lhr01qihjtq3uvgcvop3lhr01qihjtq3v00'\n",
    "HIFRREQ = '1'\n",
    "LOFREQ = '5'"
   ],
   "outputs": [],
   "execution_count": 2
  },
  {
   "cell_type": "code",
   "id": "ea69d1d55c7682b2",
   "metadata": {
    "ExecuteTime": {
     "end_time": "2025-05-07T22:39:13.532380Z",
     "start_time": "2025-05-07T22:34:46.633443Z"
    }
   },
   "source": [
    "# 请求数据\n",
    "df_hiFreq = fetch_stock_data_finnhub_paginated(\n",
    "    symbol= SYMBOL,\n",
    "    start_date=START_DATE,\n",
    "    end_date=END_DATE,\n",
    "    interval=HIFRREQ, # 单位为分钟\n",
    "    token=FINHUB_TOKEN,\n",
    "    chunk_days=25,\n",
    "    verbose=True\n",
    ")\n",
    "\n",
    "df_loFreq = fetch_stock_data_finnhub_paginated(\n",
    "    symbol= SYMBOL,\n",
    "    start_date=START_DATE,\n",
    "    end_date=END_DATE,\n",
    "    interval=LOFREQ, # 单位为分钟\n",
    "    token=FINHUB_TOKEN,\n",
    "    chunk_days=25,\n",
    "    verbose=True\n",
    ")\n"
   ],
   "outputs": [
    {
     "name": "stdout",
     "output_type": "stream",
     "text": [
      "Fetching 2020-01-01 to 2020-01-26... Status: ok\n",
      "Fetching 2020-01-26 to 2020-02-20... Status: ok\n",
      "Fetching 2020-02-20 to 2020-03-16... Status: ok\n",
      "Fetching 2020-03-16 to 2020-04-10... Status: ok\n",
      "Fetching 2020-04-10 to 2020-05-05... Status: ok\n",
      "Fetching 2020-05-05 to 2020-05-30... Status: ok\n",
      "Fetching 2020-05-30 to 2020-06-24... Status: ok\n",
      "Fetching 2020-06-24 to 2020-07-19... Status: ok\n",
      "Fetching 2020-07-19 to 2020-08-13... Status: ok\n",
      "Fetching 2020-08-13 to 2020-09-07... Status: ok\n",
      "Fetching 2020-09-07 to 2020-10-02... Status: ok\n",
      "Fetching 2020-10-02 to 2020-10-27... Status: ok\n",
      "Fetching 2020-10-27 to 2020-11-21... Status: ok\n",
      "Fetching 2020-11-21 to 2020-12-16... Status: ok\n",
      "Fetching 2020-12-16 to 2021-01-10... Status: ok\n",
      "Fetching 2021-01-10 to 2021-02-04... Status: ok\n",
      "Fetching 2021-02-04 to 2021-03-01... Status: ok\n",
      "Fetching 2021-03-01 to 2021-03-26... Status: ok\n",
      "Fetching 2021-03-26 to 2021-04-20... Status: ok\n",
      "Fetching 2021-04-20 to 2021-05-15... Status: ok\n",
      "Fetching 2021-05-15 to 2021-06-09... Status: ok\n",
      "Fetching 2021-06-09 to 2021-07-04... Status: ok\n",
      "Fetching 2021-07-04 to 2021-07-29... Status: ok\n",
      "Fetching 2021-07-29 to 2021-08-23... Status: ok\n",
      "Fetching 2021-08-23 to 2021-09-17... Status: ok\n",
      "Fetching 2021-09-17 to 2021-10-12... Status: ok\n",
      "Fetching 2021-10-12 to 2021-11-06... Status: ok\n",
      "Fetching 2021-11-06 to 2021-12-01... Status: ok\n",
      "Fetching 2021-12-01 to 2021-12-26... Status: ok\n",
      "Fetching 2021-12-26 to 2022-01-20... Status: ok\n",
      "Fetching 2022-01-20 to 2022-02-14... Status: ok\n",
      "Fetching 2022-02-14 to 2022-03-11... Status: ok\n",
      "Fetching 2022-03-11 to 2022-04-05... Status: ok\n",
      "Fetching 2022-04-05 to 2022-04-30... Status: ok\n",
      "Fetching 2022-04-30 to 2022-05-25... Status: ok\n",
      "Fetching 2022-05-25 to 2022-06-19... Status: ok\n",
      "Fetching 2022-06-19 to 2022-07-14... Status: ok\n",
      "Fetching 2022-07-14 to 2022-08-08... Status: ok\n",
      "Fetching 2022-08-08 to 2022-09-02... Status: ok\n",
      "Fetching 2022-09-02 to 2022-09-27... Status: ok\n",
      "Fetching 2022-09-27 to 2022-10-22... Status: ok\n",
      "Fetching 2022-10-22 to 2022-11-16... Status: ok\n",
      "Fetching 2022-11-16 to 2022-12-11... Status: ok\n",
      "Fetching 2022-12-11 to 2023-01-05... Status: ok\n",
      "Fetching 2023-01-05 to 2023-01-30... Status: ok\n",
      "Fetching 2023-01-30 to 2023-02-24... Status: ok\n",
      "Fetching 2023-02-24 to 2023-03-21... Status: ok\n",
      "Fetching 2023-03-21 to 2023-04-15... Status: ok\n",
      "Fetching 2023-04-15 to 2023-05-10... Status: ok\n",
      "Fetching 2023-05-10 to 2023-06-04... Status: ok\n",
      "Fetching 2023-06-04 to 2023-06-29... Status: ok\n",
      "Fetching 2023-06-29 to 2023-07-24... Status: ok\n",
      "Fetching 2023-07-24 to 2023-08-18... Status: ok\n",
      "Fetching 2023-08-18 to 2023-09-12... Status: ok\n",
      "Fetching 2023-09-12 to 2023-10-07... Status: ok\n",
      "Fetching 2023-10-07 to 2023-11-01... Status: ok\n",
      "Fetching 2023-11-01 to 2023-11-26... Status: ok\n",
      "Fetching 2023-11-26 to 2023-12-21... Status: ok\n",
      "Fetching 2023-12-21 to 2024-01-15... Status: ok\n",
      "Fetching 2024-01-15 to 2024-02-09... Status: ok\n",
      "Fetching 2024-02-09 to 2024-03-05... Status: ok\n",
      "Fetching 2024-03-05 to 2024-03-30... Status: ok\n",
      "Fetching 2024-03-30 to 2024-04-24... Status: ok\n",
      "Fetching 2024-04-24 to 2024-05-19... Status: ok\n",
      "Fetching 2024-05-19 to 2024-06-13... Status: ok\n",
      "Fetching 2024-06-13 to 2024-07-08... Status: ok\n",
      "Fetching 2024-07-08 to 2024-08-02... Status: ok\n",
      "Fetching 2024-08-02 to 2024-08-27... Status: ok\n",
      "Fetching 2024-08-27 to 2024-09-21... Status: ok\n",
      "Fetching 2024-09-21 to 2024-10-16... Status: ok\n",
      "Fetching 2024-10-16 to 2024-11-10... Status: ok\n",
      "Fetching 2024-11-10 to 2024-12-05... Status: ok\n",
      "Fetching 2024-12-05 to 2024-12-30... Status: ok\n",
      "Fetching 2024-12-30 to 2025-01-24... Status: ok\n",
      "Fetching 2025-01-24 to 2025-02-18... Status: ok\n",
      "Fetching 2025-02-18 to 2025-03-15... Status: ok\n",
      "Fetching 2025-03-15 to 2025-04-09... Status: ok\n",
      "Fetching 2025-04-09 to 2025-05-04... Status: ok\n",
      "Fetching 2025-05-04 to 2025-05-07... Status: ok\n",
      "Fetching 2020-01-01 to 2020-01-26... Status: ok\n",
      "Fetching 2020-01-26 to 2020-02-20... Status: ok\n",
      "Fetching 2020-02-20 to 2020-03-16... Status: ok\n",
      "Fetching 2020-03-16 to 2020-04-10... Status: ok\n",
      "Fetching 2020-04-10 to 2020-05-05... Status: ok\n",
      "Fetching 2020-05-05 to 2020-05-30... Status: ok\n",
      "Fetching 2020-05-30 to 2020-06-24... Status: ok\n",
      "Fetching 2020-06-24 to 2020-07-19... Status: ok\n",
      "Fetching 2020-07-19 to 2020-08-13... Status: ok\n",
      "Fetching 2020-08-13 to 2020-09-07... Status: ok\n",
      "Fetching 2020-09-07 to 2020-10-02... Status: ok\n",
      "Fetching 2020-10-02 to 2020-10-27... Status: ok\n",
      "Fetching 2020-10-27 to 2020-11-21... Status: ok\n",
      "Fetching 2020-11-21 to 2020-12-16... Status: ok\n",
      "Fetching 2020-12-16 to 2021-01-10... Status: ok\n",
      "Fetching 2021-01-10 to 2021-02-04... Status: ok\n",
      "Fetching 2021-02-04 to 2021-03-01... Status: ok\n",
      "Fetching 2021-03-01 to 2021-03-26... Status: ok\n",
      "Fetching 2021-03-26 to 2021-04-20... Status: ok\n",
      "Fetching 2021-04-20 to 2021-05-15... Status: ok\n",
      "Fetching 2021-05-15 to 2021-06-09... Status: ok\n",
      "Fetching 2021-06-09 to 2021-07-04... Status: ok\n",
      "Fetching 2021-07-04 to 2021-07-29... Status: ok\n",
      "Fetching 2021-07-29 to 2021-08-23... Status: ok\n",
      "Fetching 2021-08-23 to 2021-09-17... Status: ok\n",
      "Fetching 2021-09-17 to 2021-10-12... Status: ok\n",
      "Fetching 2021-10-12 to 2021-11-06... Status: ok\n",
      "Fetching 2021-11-06 to 2021-12-01... Status: ok\n",
      "Fetching 2021-12-01 to 2021-12-26... Status: ok\n",
      "Fetching 2021-12-26 to 2022-01-20... Status: ok\n",
      "Fetching 2022-01-20 to 2022-02-14... Status: ok\n",
      "Fetching 2022-02-14 to 2022-03-11... Status: ok\n",
      "Fetching 2022-03-11 to 2022-04-05... Status: ok\n",
      "Fetching 2022-04-05 to 2022-04-30... Status: ok\n",
      "Fetching 2022-04-30 to 2022-05-25... Status: ok\n",
      "Fetching 2022-05-25 to 2022-06-19... Status: ok\n",
      "Fetching 2022-06-19 to 2022-07-14... Status: ok\n",
      "Fetching 2022-07-14 to 2022-08-08... Status: ok\n",
      "Fetching 2022-08-08 to 2022-09-02... Status: ok\n",
      "Fetching 2022-09-02 to 2022-09-27... Status: ok\n",
      "Fetching 2022-09-27 to 2022-10-22... Status: ok\n",
      "Fetching 2022-10-22 to 2022-11-16... Status: ok\n",
      "Fetching 2022-11-16 to 2022-12-11... Status: ok\n",
      "Fetching 2022-12-11 to 2023-01-05... Status: ok\n",
      "Fetching 2023-01-05 to 2023-01-30... Status: ok\n",
      "Fetching 2023-01-30 to 2023-02-24... Status: ok\n",
      "Fetching 2023-02-24 to 2023-03-21... Status: ok\n",
      "Fetching 2023-03-21 to 2023-04-15... Status: ok\n",
      "Fetching 2023-04-15 to 2023-05-10... Status: ok\n",
      "Fetching 2023-05-10 to 2023-06-04... Status: ok\n",
      "Fetching 2023-06-04 to 2023-06-29... Status: ok\n",
      "Fetching 2023-06-29 to 2023-07-24... Status: ok\n",
      "Fetching 2023-07-24 to 2023-08-18... Status: ok\n",
      "Fetching 2023-08-18 to 2023-09-12... Status: ok\n",
      "Fetching 2023-09-12 to 2023-10-07... Status: ok\n",
      "Fetching 2023-10-07 to 2023-11-01... Status: ok\n",
      "Fetching 2023-11-01 to 2023-11-26... Status: ok\n",
      "Fetching 2023-11-26 to 2023-12-21... Status: ok\n",
      "Fetching 2023-12-21 to 2024-01-15... Status: ok\n",
      "Fetching 2024-01-15 to 2024-02-09... Status: ok\n",
      "Fetching 2024-02-09 to 2024-03-05... Status: ok\n",
      "Fetching 2024-03-05 to 2024-03-30... Status: ok\n",
      "Fetching 2024-03-30 to 2024-04-24... Status: ok\n",
      "Fetching 2024-04-24 to 2024-05-19... Status: ok\n",
      "Fetching 2024-05-19 to 2024-06-13... Status: ok\n",
      "Fetching 2024-06-13 to 2024-07-08... Status: ok\n",
      "Fetching 2024-07-08 to 2024-08-02... Status: ok\n",
      "Fetching 2024-08-02 to 2024-08-27... Status: ok\n",
      "Fetching 2024-08-27 to 2024-09-21... Status: ok\n",
      "Fetching 2024-09-21 to 2024-10-16... Status: ok\n",
      "Fetching 2024-10-16 to 2024-11-10... Status: ok\n",
      "Fetching 2024-11-10 to 2024-12-05... Status: ok\n",
      "Fetching 2024-12-05 to 2024-12-30... Status: ok\n",
      "Fetching 2024-12-30 to 2025-01-24... Status: ok\n",
      "Fetching 2025-01-24 to 2025-02-18... Status: ok\n",
      "Fetching 2025-02-18 to 2025-03-15... Status: ok\n",
      "Fetching 2025-03-15 to 2025-04-09... Status: ok\n",
      "Fetching 2025-04-09 to 2025-05-04... Status: ok\n",
      "Fetching 2025-05-04 to 2025-05-07... Status: ok\n"
     ]
    }
   ],
   "execution_count": 3
  },
  {
   "metadata": {
    "ExecuteTime": {
     "end_time": "2025-05-07T22:41:39.905863Z",
     "start_time": "2025-05-07T22:41:37.341652Z"
    }
   },
   "cell_type": "code",
   "source": [
    "path_lo = f\"{SYMBOL}_{START_DATE}_{END_DATE}_{LOFREQ}m_raw.csv\"\n",
    "path_hi = f\"{SYMBOL}_{START_DATE}_{END_DATE}_{HIFRREQ}m_raw.csv\"\n",
    "df_loFreq.to_csv(path_lo, index=False)\n",
    "df_hiFreq.to_csv(path_hi, index=False)"
   ],
   "id": "5b9ebf662eeae1de",
   "outputs": [],
   "execution_count": 4
  },
  {
   "cell_type": "code",
   "id": "eedb7ff287953901",
   "metadata": {
    "ExecuteTime": {
     "end_time": "2025-05-07T22:48:32.109012Z",
     "start_time": "2025-05-07T22:48:32.106784Z"
    }
   },
   "source": [
    "# 检查数据\n",
    "df_loFreq.shape\n",
    "# df_hiFreq.tail(2)"
   ],
   "outputs": [
    {
     "data": {
      "text/plain": [
       "(242741, 45)"
      ]
     },
     "execution_count": 11,
     "metadata": {},
     "output_type": "execute_result"
    }
   ],
   "execution_count": 11
  },
  {
   "cell_type": "code",
   "id": "53fdbdecc727fc7f",
   "metadata": {
    "ExecuteTime": {
     "end_time": "2025-05-07T22:52:57.284981Z",
     "start_time": "2025-05-07T22:52:53.853625Z"
    }
   },
   "source": [
    "# 把高频转换成低频集合\n",
    "df_hiFreq_agg = aggregate_high_freq_to_low (df_hiFreq, freq='5min')\n",
    "\n",
    "# 计算因子\n",
    "df_loFreq_factored = add_factors (df_loFreq)\n",
    "\n",
    "# # 拼接\n",
    "df_merged = pd.merge (df_loFreq_factored, df_hiFreq_agg, how='left', on='timestamp')\n",
    "df_merged = clean_outliers(df_merged, z_thresh=10, show_msg=True)"
   ],
   "outputs": [
    {
     "name": "stdout",
     "output_type": "stream",
     "text": [
      "检测到 0 个异常值在 open 列\n",
      "检测到 0 个异常值在 high 列\n",
      "检测到 0 个异常值在 low 列\n",
      "检测到 0 个异常值在 close 列\n",
      "检测到 290 个异常值在 volume 列\n",
      "检测到 0 个异常值在 vwap 列\n",
      "检测到 0 个异常值在 EMA5_open 列\n",
      "检测到 0 个异常值在 EMA10_open 列\n",
      "检测到 0 个异常值在 EMA20_open 列\n",
      "检测到 0 个异常值在 EMA5_high 列\n",
      "检测到 0 个异常值在 EMA10_high 列\n",
      "检测到 0 个异常值在 EMA20_high 列\n",
      "检测到 0 个异常值在 EMA5_low 列\n",
      "检测到 0 个异常值在 EMA10_low 列\n",
      "检测到 0 个异常值在 EMA20_low 列\n",
      "检测到 0 个异常值在 EMA5_close 列\n",
      "检测到 0 个异常值在 EMA10_close 列\n",
      "检测到 0 个异常值在 EMA20_close 列\n",
      "检测到 0 个异常值在 RSI_open 列\n",
      "检测到 81 个异常值在 MACD_value_open 列\n",
      "检测到 55 个异常值在 MACD_signal_open 列\n",
      "检测到 103 个异常值在 MACD_histogram_open 列\n",
      "检测到 154 个异常值在 ROC_open 列\n",
      "检测到 0 个异常值在 RSI_high 列\n",
      "检测到 86 个异常值在 MACD_value_high 列\n",
      "检测到 59 个异常值在 MACD_signal_high 列\n",
      "检测到 113 个异常值在 MACD_histogram_high 列\n",
      "检测到 165 个异常值在 ROC_high 列\n",
      "检测到 0 个异常值在 RSI_low 列\n",
      "检测到 81 个异常值在 MACD_value_low 列\n",
      "检测到 58 个异常值在 MACD_signal_low 列\n",
      "检测到 111 个异常值在 MACD_histogram_low 列\n",
      "检测到 149 个异常值在 ROC_low 列\n",
      "检测到 0 个异常值在 RSI_close 列\n",
      "检测到 80 个异常值在 MACD_value_close 列\n",
      "检测到 52 个异常值在 MACD_signal_close 列\n",
      "检测到 103 个异常值在 MACD_histogram_close 列\n",
      "检测到 159 个异常值在 ROC_close 列\n",
      "检测到 0 个异常值在 Stoch_K 列\n",
      "检测到 0 个异常值在 Stoch_D 列\n",
      "检测到 99 个异常值在 Volume_SMA5 列\n",
      "检测到 47 个异常值在 Volume_SMA10 列\n",
      "检测到 103 个异常值在 Volume_ROC 列\n",
      "检测到 0 个异常值在 OBV 列\n",
      "检测到 171 个异常值在 open_volatility 列\n",
      "检测到 191 个异常值在 high_volatility 列\n",
      "检测到 91 个异常值在 low_volatility 列\n",
      "检测到 128 个异常值在 close_volatility 列\n",
      "检测到 422 个异常值在 volume_volatility 列\n",
      "✅ 替换了 3151 个异常值\n",
      "❌ 删除了 2279 行（因为存在 NaN）\n"
     ]
    },
    {
     "name": "stderr",
     "output_type": "stream",
     "text": [
      "/Users/ziwenchen/TockFormer/CSVModifier.py:206: FutureWarning: Setting an item of incompatible dtype is deprecated and will raise an error in a future version of pandas. Value '1549641.5' has dtype incompatible with int64, please explicitly cast to a compatible dtype first.\n",
      "  series[i] = (left + right) / 2\n"
     ]
    }
   ],
   "execution_count": 18
  },
  {
   "cell_type": "code",
   "id": "cb5fb82fa529bc5b",
   "metadata": {
    "ExecuteTime": {
     "end_time": "2025-05-07T22:53:11.977497Z",
     "start_time": "2025-05-07T22:53:11.974595Z"
    }
   },
   "source": [
    "# 检查数值\n",
    "# df_merged[df_merged['close_volatility'] == 0]\n",
    "\n",
    "df_merged.shape"
   ],
   "outputs": [
    {
     "data": {
      "text/plain": [
       "(240462, 50)"
      ]
     },
     "execution_count": 20,
     "metadata": {},
     "output_type": "execute_result"
    }
   ],
   "execution_count": 20
  },
  {
   "cell_type": "code",
   "id": "e4440ce6c28b498c",
   "metadata": {
    "ExecuteTime": {
     "end_time": "2025-05-07T22:53:36.523079Z",
     "start_time": "2025-05-07T22:53:31.069848Z"
    }
   },
   "source": [
    "import re\n",
    "path = f\"{SYMBOL}_{START_DATE}_{END_DATE}_{LOFREQ}m.csv\"\n",
    "# path = re.sub(r'[^\\w\\-]', '', path)\n",
    "df_merged.to_csv(path, index=False)"
   ],
   "outputs": [],
   "execution_count": 21
  },
  {
   "cell_type": "code",
   "execution_count": null,
   "id": "329e035b",
   "metadata": {},
   "outputs": [],
   "source": []
  }
 ],
 "metadata": {
  "kernelspec": {
   "display_name": "TockFormer",
   "language": "python",
   "name": "python3"
  },
  "language_info": {
   "codemirror_mode": {
    "name": "ipython",
    "version": 3
   },
   "file_extension": ".py",
   "mimetype": "text/x-python",
   "name": "python",
   "nbconvert_exporter": "python",
   "pygments_lexer": "ipython3",
   "version": "3.10.17"
  }
 },
 "nbformat": 4,
 "nbformat_minor": 5
}
