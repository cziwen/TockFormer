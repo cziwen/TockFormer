{
 "cells": [
  {
   "cell_type": "code",
   "execution_count": null,
   "id": "initial_id",
   "metadata": {
    "ExecuteTime": {
     "end_time": "2025-05-03T20:29:07.070238Z",
     "start_time": "2025-05-03T20:29:07.067984Z"
    }
   },
   "outputs": [],
   "source": [
    "from CSVModifier import aggregate_high_freq_to_low, add_factors, clean_outliers\n",
    "from sklearn.impute import SimpleImputer\n",
    "import numpy as np\n",
    "import pandas as pd\n",
    "\n",
    "\n",
    "from Util import fetch_stock_data_finnhub_paginated"
   ]
  },
  {
   "cell_type": "code",
   "execution_count": null,
   "id": "cb48b80841cfee1",
   "metadata": {
    "ExecuteTime": {
     "end_time": "2025-05-03T20:42:50.974482Z",
     "start_time": "2025-05-03T20:42:50.972045Z"
    }
   },
   "outputs": [],
   "source": [
    "SYMBOL = 'SPY'\n",
    "START_DATE = '2020-01-01'\n",
    "END_DATE = '2025-05-03'\n",
    "FINHUB_TOKEN = 'cvop3lhr01qihjtq3uvgcvop3lhr01qihjtq3v00'\n",
    "HIFRREQ = '15'\n",
    "LOFREQ = '60'"
   ]
  },
  {
   "cell_type": "code",
   "execution_count": null,
   "id": "ea69d1d55c7682b2",
   "metadata": {
    "ExecuteTime": {
     "end_time": "2025-05-03T20:30:43.490920Z",
     "start_time": "2025-05-03T20:29:08.035965Z"
    }
   },
   "outputs": [],
   "source": [
    "# 请求数据\n",
    "df_hiFreq = fetch_stock_data_finnhub_paginated(\n",
    "    symbol= SYMBOL,\n",
    "    start_date=START_DATE,\n",
    "    end_date=END_DATE,\n",
    "    interval=HIFRREQ, # 单位为分钟\n",
    "    token=FINHUB_TOKEN,\n",
    "    chunk_days=25,\n",
    "    verbose=True\n",
    ")\n",
    "\n",
    "df_loFreq = fetch_stock_data_finnhub_paginated(\n",
    "    symbol= SYMBOL,\n",
    "    start_date=START_DATE,\n",
    "    end_date=END_DATE,\n",
    "    interval=LOFREQ, # 单位为分钟\n",
    "    token=FINHUB_TOKEN,\n",
    "    chunk_days=25,\n",
    "    verbose=True\n",
    ")\n"
   ]
  },
  {
   "cell_type": "code",
   "execution_count": null,
   "id": "eedb7ff287953901",
   "metadata": {
    "ExecuteTime": {
     "end_time": "2025-05-03T20:33:06.184665Z",
     "start_time": "2025-05-03T20:33:06.175928Z"
    }
   },
   "outputs": [],
   "source": [
    "# 检查数据\n",
    "df_loFreq.tail(5)\n",
    "# df_hiFreq.tail(5)"
   ]
  },
  {
   "cell_type": "code",
   "execution_count": null,
   "id": "53fdbdecc727fc7f",
   "metadata": {
    "ExecuteTime": {
     "end_time": "2025-05-03T20:32:45.452576Z",
     "start_time": "2025-05-03T20:32:45.128240Z"
    }
   },
   "outputs": [],
   "source": [
    "# 把高频转换成低频集合\n",
    "df_hiFreq_agg = aggregate_high_freq_to_low (df_hiFreq)\n",
    "\n",
    "# 计算因子\n",
    "df_loFreq_factored = add_factors (df_loFreq)\n",
    "\n",
    "# 拼接\n",
    "df_merged = pd.merge (df_loFreq_factored, df_hiFreq_agg, how='left', on='timestamp')\n",
    "df_merged = clean_outliers(df_merged, z_thresh=10, show_msg=True)"
   ]
  },
  {
   "cell_type": "code",
   "execution_count": null,
   "id": "cb5fb82fa529bc5b",
   "metadata": {
    "ExecuteTime": {
     "end_time": "2025-05-03T20:39:35.717389Z",
     "start_time": "2025-05-03T20:39:35.704735Z"
    }
   },
   "outputs": [],
   "source": [
    "# 检查数值\n",
    "df_merged[df_merged['close_volatility'] == 0]"
   ]
  },
  {
   "cell_type": "code",
   "execution_count": null,
   "id": "e4440ce6c28b498c",
   "metadata": {
    "ExecuteTime": {
     "end_time": "2025-05-03T20:47:30.981894Z",
     "start_time": "2025-05-03T20:47:30.506830Z"
    }
   },
   "outputs": [],
   "source": [
    "import re\n",
    "path = f\"{SYMBOL}_{START_DATE}_{END_DATE}_{LOFREQ}m.csv\"\n",
    "# path = re.sub(r'[^\\w\\-]', '', path)\n",
    "df_merged.to_csv(path, index=False)"
   ]
  }
 ],
 "metadata": {
  "kernelspec": {
   "display_name": "Python 3",
   "language": "python",
   "name": "python3"
  },
  "language_info": {
   "codemirror_mode": {
    "name": "ipython",
    "version": 2
   },
   "file_extension": ".py",
   "mimetype": "text/x-python",
   "name": "python",
   "nbconvert_exporter": "python",
   "pygments_lexer": "ipython2",
   "version": "2.7.6"
  }
 },
 "nbformat": 4,
 "nbformat_minor": 5
}
